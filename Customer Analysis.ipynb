{
 "cells": [
  {
   "cell_type": "markdown",
   "id": "subtle-latin",
   "metadata": {},
   "source": [
    "# Online Retail Analysis"
   ]
  },
  {
   "cell_type": "code",
   "execution_count": 1,
   "id": "advisory-walnut",
   "metadata": {},
   "outputs": [],
   "source": [
    "import pandas as pd\n",
    "import numpy as np\n",
    "\n",
    "from pandas_profiling import ProfileReport\n",
    "\n",
    "import matplotlib.pyplot as plt\n",
    "import seaborn as sb\n",
    "import matplotlib.colors as mcolors"
   ]
  },
  {
   "cell_type": "markdown",
   "id": "alpine-subdivision",
   "metadata": {},
   "source": [
    "# Data import, basic cleaning and diagnostics"
   ]
  },
  {
   "cell_type": "code",
   "execution_count": 11,
   "id": "incredible-professor",
   "metadata": {},
   "outputs": [],
   "source": [
    "df = pd.read_excel('online_retail_II.xlsx')"
   ]
  },
  {
   "cell_type": "code",
   "execution_count": 12,
   "id": "restricted-diary",
   "metadata": {},
   "outputs": [],
   "source": [
    "# Deduplication, selection and time transformation\n",
    "\n",
    "df.drop_duplicates(keep='first', inplace=True, ignore_index=False)\n",
    "df = df[df['Customer ID'].notna()]\n",
    "df.InvoiceDate = pd.to_datetime(df.InvoiceDate, infer_datetime_format=True)"
   ]
  },
  {
   "cell_type": "code",
   "execution_count": 4,
   "id": "heard-gospel",
   "metadata": {},
   "outputs": [
    {
     "name": "stdout",
     "output_type": "stream",
     "text": [
      "====================\n",
      "Numerical variables\n",
      "Total: 3\n",
      "=============================================================================================================\n",
      "Column name         Type         Counts    Missing   Cardinality    Negative  Zero      Skewness  Max|Deviation| \n",
      "=============================================================================================================\n",
      "Quantity            int64        410763    0         500                9816      0         62.216    1.88e+02       \n",
      "Price               float64      410763    0         664                0         31        182.466   3.5e+02        \n",
      "Customer ID         float64      410763    0         4383               0         0         -0.011    1.79           \n"
     ]
    }
   ],
   "source": [
    "c_name = 'Column name'\n",
    "c_type = 'Type'\n",
    "n_counts = 'Counts'\n",
    "n_missing = 'Missing'\n",
    "n_unique = 'Cardinality'\n",
    "n_negative = 'Negative'\n",
    "n_zero = 'Zero'\n",
    "skewness = 'Skewness'\n",
    "max_dev = 'Max|Deviation|'\n",
    "\n",
    "variables_num = list(df.select_dtypes(include=np.number).columns)\n",
    "\n",
    "print('====================')\n",
    "print('Numerical variables')\n",
    "print(f\"Total: {len(variables_num)}\")\n",
    "print('=============================================================================================================')\n",
    "print(f\"{c_name:<20}{c_type:<13}{n_counts:<10}{n_missing:<10}{n_unique:<15}{n_negative:<10}{n_zero:<10}{skewness:<10}\\\n",
    "{max_dev:<15}\")\n",
    "print('=============================================================================================================')\n",
    "\n",
    "for v in variables_num:\n",
    "    print(f\"{v:<20}{str(df[v].dtype):<13}{df[v].count():<10}{df[v].isna().sum():<10}{df[v].nunique():<15}\\\n",
    "    {df[df[v]<0][v].count():<10}{df[df[v]==0][v].count():<10}{np.round(df[v].skew(),3):<10}{abs((df[v]-df[v].mean())/df[v].std()).max():<15.3}\")"
   ]
  },
  {
   "cell_type": "code",
   "execution_count": 5,
   "id": "excited-resistance",
   "metadata": {},
   "outputs": [
    {
     "name": "stdout",
     "output_type": "stream",
     "text": [
      "========================\n",
      "Non-numerical variables\n",
      "Total: 5\n",
      "========================================================================\n",
      "Column name         Type           Counts    Missing   Cardinality    \n",
      "========================================================================\n",
      "Invoice             object         410763    0         23587          \n",
      "StockCode           object         410763    0         4031           \n",
      "Description         object         410763    0         4459           \n",
      "InvoiceDate         datetime64[ns] 410763    0         21786          \n",
      "Country             object         410763    0         37             \n"
     ]
    }
   ],
   "source": [
    "# Print summary for non-numerical variables\n",
    "\n",
    "variables_cat = list(df.select_dtypes(exclude=np.number).columns)\n",
    "\n",
    "print('========================')\n",
    "print('Non-numerical variables')\n",
    "print(f\"Total: {len(variables_cat)}\")\n",
    "print('========================================================================')\n",
    "print(f\"{c_name:<20}{c_type:<15}{n_counts:<10}{n_missing:<10}{n_unique:<15}\")\n",
    "print('========================================================================')\n",
    "\n",
    "for v in variables_cat:\n",
    "    print(f\"{v:<20}{str(df[v].dtype):<15}{df[v].count():<10}{df[v].isna().sum():<10}{df[v].nunique():<15}\")"
   ]
  },
  {
   "cell_type": "markdown",
   "id": "progressive-patrick",
   "metadata": {},
   "source": [
    "# Some feature engineering\n",
    "\n",
    "Identifying cancellations and computing the overall transaction price."
   ]
  },
  {
   "cell_type": "code",
   "execution_count": 139,
   "id": "advised-reference",
   "metadata": {},
   "outputs": [],
   "source": [
    "df['Cancellation'] = df.Invoice.apply(lambda x: str(x)[0]=='C')\n",
    "df['Quantity'] = abs(df.Quantity)\n",
    "df['Transaction Price'] = df.Quantity*df.Price"
   ]
  },
  {
   "cell_type": "code",
   "execution_count": 243,
   "id": "welcome-sherman",
   "metadata": {},
   "outputs": [
    {
     "data": {
      "text/html": [
       "<div>\n",
       "<style scoped>\n",
       "    .dataframe tbody tr th:only-of-type {\n",
       "        vertical-align: middle;\n",
       "    }\n",
       "\n",
       "    .dataframe tbody tr th {\n",
       "        vertical-align: top;\n",
       "    }\n",
       "\n",
       "    .dataframe thead th {\n",
       "        text-align: right;\n",
       "    }\n",
       "</style>\n",
       "<table border=\"1\" class=\"dataframe\">\n",
       "  <thead>\n",
       "    <tr style=\"text-align: right;\">\n",
       "      <th></th>\n",
       "      <th>Invoice</th>\n",
       "      <th>StockCode</th>\n",
       "      <th>Description</th>\n",
       "      <th>Quantity</th>\n",
       "      <th>InvoiceDate</th>\n",
       "      <th>Price</th>\n",
       "      <th>Customer ID</th>\n",
       "      <th>Country</th>\n",
       "      <th>Cancellation</th>\n",
       "      <th>Transaction Price</th>\n",
       "      <th>Customer Cancellation Rate</th>\n",
       "      <th>Customer With Cancellations</th>\n",
       "    </tr>\n",
       "  </thead>\n",
       "  <tbody>\n",
       "    <tr>\n",
       "      <th>0</th>\n",
       "      <td>489434</td>\n",
       "      <td>85048</td>\n",
       "      <td>15CM CHRISTMAS GLASS BALL 20 LIGHTS</td>\n",
       "      <td>12</td>\n",
       "      <td>2009-12-01 07:45:00</td>\n",
       "      <td>6.95</td>\n",
       "      <td>13085.0</td>\n",
       "      <td>United Kingdom</td>\n",
       "      <td>False</td>\n",
       "      <td>83.40</td>\n",
       "      <td>0.015873</td>\n",
       "      <td>True</td>\n",
       "    </tr>\n",
       "    <tr>\n",
       "      <th>1</th>\n",
       "      <td>489434</td>\n",
       "      <td>79323P</td>\n",
       "      <td>PINK CHERRY LIGHTS</td>\n",
       "      <td>12</td>\n",
       "      <td>2009-12-01 07:45:00</td>\n",
       "      <td>6.75</td>\n",
       "      <td>13085.0</td>\n",
       "      <td>United Kingdom</td>\n",
       "      <td>False</td>\n",
       "      <td>81.00</td>\n",
       "      <td>0.015873</td>\n",
       "      <td>True</td>\n",
       "    </tr>\n",
       "    <tr>\n",
       "      <th>2</th>\n",
       "      <td>489434</td>\n",
       "      <td>79323W</td>\n",
       "      <td>WHITE CHERRY LIGHTS</td>\n",
       "      <td>12</td>\n",
       "      <td>2009-12-01 07:45:00</td>\n",
       "      <td>6.75</td>\n",
       "      <td>13085.0</td>\n",
       "      <td>United Kingdom</td>\n",
       "      <td>False</td>\n",
       "      <td>81.00</td>\n",
       "      <td>0.015873</td>\n",
       "      <td>True</td>\n",
       "    </tr>\n",
       "    <tr>\n",
       "      <th>3</th>\n",
       "      <td>489434</td>\n",
       "      <td>22041</td>\n",
       "      <td>RECORD FRAME 7\" SINGLE SIZE</td>\n",
       "      <td>48</td>\n",
       "      <td>2009-12-01 07:45:00</td>\n",
       "      <td>2.10</td>\n",
       "      <td>13085.0</td>\n",
       "      <td>United Kingdom</td>\n",
       "      <td>False</td>\n",
       "      <td>100.80</td>\n",
       "      <td>0.015873</td>\n",
       "      <td>True</td>\n",
       "    </tr>\n",
       "    <tr>\n",
       "      <th>4</th>\n",
       "      <td>489434</td>\n",
       "      <td>21232</td>\n",
       "      <td>STRAWBERRY CERAMIC TRINKET BOX</td>\n",
       "      <td>24</td>\n",
       "      <td>2009-12-01 07:45:00</td>\n",
       "      <td>1.25</td>\n",
       "      <td>13085.0</td>\n",
       "      <td>United Kingdom</td>\n",
       "      <td>False</td>\n",
       "      <td>30.00</td>\n",
       "      <td>0.015873</td>\n",
       "      <td>True</td>\n",
       "    </tr>\n",
       "    <tr>\n",
       "      <th>...</th>\n",
       "      <td>...</td>\n",
       "      <td>...</td>\n",
       "      <td>...</td>\n",
       "      <td>...</td>\n",
       "      <td>...</td>\n",
       "      <td>...</td>\n",
       "      <td>...</td>\n",
       "      <td>...</td>\n",
       "      <td>...</td>\n",
       "      <td>...</td>\n",
       "      <td>...</td>\n",
       "      <td>...</td>\n",
       "    </tr>\n",
       "    <tr>\n",
       "      <th>410758</th>\n",
       "      <td>538171</td>\n",
       "      <td>22271</td>\n",
       "      <td>FELTCRAFT DOLL ROSIE</td>\n",
       "      <td>2</td>\n",
       "      <td>2010-12-09 20:01:00</td>\n",
       "      <td>2.95</td>\n",
       "      <td>17530.0</td>\n",
       "      <td>United Kingdom</td>\n",
       "      <td>False</td>\n",
       "      <td>5.90</td>\n",
       "      <td>0.006536</td>\n",
       "      <td>True</td>\n",
       "    </tr>\n",
       "    <tr>\n",
       "      <th>410759</th>\n",
       "      <td>538171</td>\n",
       "      <td>22750</td>\n",
       "      <td>FELTCRAFT PRINCESS LOLA DOLL</td>\n",
       "      <td>1</td>\n",
       "      <td>2010-12-09 20:01:00</td>\n",
       "      <td>3.75</td>\n",
       "      <td>17530.0</td>\n",
       "      <td>United Kingdom</td>\n",
       "      <td>False</td>\n",
       "      <td>3.75</td>\n",
       "      <td>0.006536</td>\n",
       "      <td>True</td>\n",
       "    </tr>\n",
       "    <tr>\n",
       "      <th>410760</th>\n",
       "      <td>538171</td>\n",
       "      <td>22751</td>\n",
       "      <td>FELTCRAFT PRINCESS OLIVIA DOLL</td>\n",
       "      <td>1</td>\n",
       "      <td>2010-12-09 20:01:00</td>\n",
       "      <td>3.75</td>\n",
       "      <td>17530.0</td>\n",
       "      <td>United Kingdom</td>\n",
       "      <td>False</td>\n",
       "      <td>3.75</td>\n",
       "      <td>0.006536</td>\n",
       "      <td>True</td>\n",
       "    </tr>\n",
       "    <tr>\n",
       "      <th>410761</th>\n",
       "      <td>538171</td>\n",
       "      <td>20970</td>\n",
       "      <td>PINK FLORAL FELTCRAFT SHOULDER BAG</td>\n",
       "      <td>2</td>\n",
       "      <td>2010-12-09 20:01:00</td>\n",
       "      <td>3.75</td>\n",
       "      <td>17530.0</td>\n",
       "      <td>United Kingdom</td>\n",
       "      <td>False</td>\n",
       "      <td>7.50</td>\n",
       "      <td>0.006536</td>\n",
       "      <td>True</td>\n",
       "    </tr>\n",
       "    <tr>\n",
       "      <th>410762</th>\n",
       "      <td>538171</td>\n",
       "      <td>21931</td>\n",
       "      <td>JUMBO STORAGE BAG SUKI</td>\n",
       "      <td>2</td>\n",
       "      <td>2010-12-09 20:01:00</td>\n",
       "      <td>1.95</td>\n",
       "      <td>17530.0</td>\n",
       "      <td>United Kingdom</td>\n",
       "      <td>False</td>\n",
       "      <td>3.90</td>\n",
       "      <td>0.006536</td>\n",
       "      <td>True</td>\n",
       "    </tr>\n",
       "  </tbody>\n",
       "</table>\n",
       "<p>410763 rows × 12 columns</p>\n",
       "</div>"
      ],
      "text/plain": [
       "       Invoice StockCode                          Description  Quantity  \\\n",
       "0       489434     85048  15CM CHRISTMAS GLASS BALL 20 LIGHTS        12   \n",
       "1       489434    79323P                   PINK CHERRY LIGHTS        12   \n",
       "2       489434    79323W                  WHITE CHERRY LIGHTS        12   \n",
       "3       489434     22041         RECORD FRAME 7\" SINGLE SIZE         48   \n",
       "4       489434     21232       STRAWBERRY CERAMIC TRINKET BOX        24   \n",
       "...        ...       ...                                  ...       ...   \n",
       "410758  538171     22271                 FELTCRAFT DOLL ROSIE         2   \n",
       "410759  538171     22750         FELTCRAFT PRINCESS LOLA DOLL         1   \n",
       "410760  538171     22751       FELTCRAFT PRINCESS OLIVIA DOLL         1   \n",
       "410761  538171     20970   PINK FLORAL FELTCRAFT SHOULDER BAG         2   \n",
       "410762  538171     21931               JUMBO STORAGE BAG SUKI         2   \n",
       "\n",
       "               InvoiceDate  Price  Customer ID         Country  Cancellation  \\\n",
       "0      2009-12-01 07:45:00   6.95      13085.0  United Kingdom         False   \n",
       "1      2009-12-01 07:45:00   6.75      13085.0  United Kingdom         False   \n",
       "2      2009-12-01 07:45:00   6.75      13085.0  United Kingdom         False   \n",
       "3      2009-12-01 07:45:00   2.10      13085.0  United Kingdom         False   \n",
       "4      2009-12-01 07:45:00   1.25      13085.0  United Kingdom         False   \n",
       "...                    ...    ...          ...             ...           ...   \n",
       "410758 2010-12-09 20:01:00   2.95      17530.0  United Kingdom         False   \n",
       "410759 2010-12-09 20:01:00   3.75      17530.0  United Kingdom         False   \n",
       "410760 2010-12-09 20:01:00   3.75      17530.0  United Kingdom         False   \n",
       "410761 2010-12-09 20:01:00   3.75      17530.0  United Kingdom         False   \n",
       "410762 2010-12-09 20:01:00   1.95      17530.0  United Kingdom         False   \n",
       "\n",
       "        Transaction Price  Customer Cancellation Rate  \\\n",
       "0                   83.40                    0.015873   \n",
       "1                   81.00                    0.015873   \n",
       "2                   81.00                    0.015873   \n",
       "3                  100.80                    0.015873   \n",
       "4                   30.00                    0.015873   \n",
       "...                   ...                         ...   \n",
       "410758               5.90                    0.006536   \n",
       "410759               3.75                    0.006536   \n",
       "410760               3.75                    0.006536   \n",
       "410761               7.50                    0.006536   \n",
       "410762               3.90                    0.006536   \n",
       "\n",
       "        Customer With Cancellations  \n",
       "0                              True  \n",
       "1                              True  \n",
       "2                              True  \n",
       "3                              True  \n",
       "4                              True  \n",
       "...                             ...  \n",
       "410758                         True  \n",
       "410759                         True  \n",
       "410760                         True  \n",
       "410761                         True  \n",
       "410762                         True  \n",
       "\n",
       "[410763 rows x 12 columns]"
      ]
     },
     "execution_count": 243,
     "metadata": {},
     "output_type": "execute_result"
    }
   ],
   "source": [
    "df"
   ]
  },
  {
   "cell_type": "markdown",
   "id": "occasional-aurora",
   "metadata": {},
   "source": [
    "## Analyse customer cancellations"
   ]
  },
  {
   "cell_type": "markdown",
   "id": "transparent-spectrum",
   "metadata": {},
   "source": [
    "How many customers have ever cancelled a transaction?"
   ]
  },
  {
   "cell_type": "code",
   "execution_count": 64,
   "id": "isolated-transfer",
   "metadata": {},
   "outputs": [
    {
     "data": {
      "text/plain": [
       "False    2585\n",
       "True     1798\n",
       "Name: Cancellation, dtype: int64"
      ]
     },
     "execution_count": 64,
     "metadata": {},
     "output_type": "execute_result"
    }
   ],
   "source": [
    "df.groupby('Customer ID').Cancellation.apply(lambda x: True in list(x)).value_counts()"
   ]
  },
  {
   "cell_type": "markdown",
   "id": "binary-objective",
   "metadata": {},
   "source": [
    "For each customer store the info whether they ever cancelled a transaction."
   ]
  },
  {
   "cell_type": "code",
   "execution_count": 238,
   "id": "ethical-hartford",
   "metadata": {},
   "outputs": [],
   "source": [
    "customer_canc = pd.DataFrame(df.groupby('Customer ID').Cancellation.apply(lambda x: True in list(x))).rename(columns={'Cancellation': 'Customer With Cancellations'})\n",
    "tmp = pd.DataFrame(df.groupby('Customer ID').Cancellation.apply(lambda x: sum(list(x))/len(list(x)))).rename(columns={'Cancellation': 'Customer Cancellation Rate'})\n",
    "customer_canc = pd.merge(customer_canc, tmp, how='left', on='Customer ID')"
   ]
  },
  {
   "cell_type": "code",
   "execution_count": 239,
   "id": "pleased-cannon",
   "metadata": {},
   "outputs": [
    {
     "data": {
      "text/html": [
       "<div>\n",
       "<style scoped>\n",
       "    .dataframe tbody tr th:only-of-type {\n",
       "        vertical-align: middle;\n",
       "    }\n",
       "\n",
       "    .dataframe tbody tr th {\n",
       "        vertical-align: top;\n",
       "    }\n",
       "\n",
       "    .dataframe thead th {\n",
       "        text-align: right;\n",
       "    }\n",
       "</style>\n",
       "<table border=\"1\" class=\"dataframe\">\n",
       "  <thead>\n",
       "    <tr style=\"text-align: right;\">\n",
       "      <th></th>\n",
       "      <th>Customer With Cancellations</th>\n",
       "      <th>Customer Cancellation Rate</th>\n",
       "    </tr>\n",
       "    <tr>\n",
       "      <th>Customer ID</th>\n",
       "      <th></th>\n",
       "      <th></th>\n",
       "    </tr>\n",
       "  </thead>\n",
       "  <tbody>\n",
       "    <tr>\n",
       "      <th>12346.0</th>\n",
       "      <td>True</td>\n",
       "      <td>0.266667</td>\n",
       "    </tr>\n",
       "    <tr>\n",
       "      <th>12347.0</th>\n",
       "      <td>False</td>\n",
       "      <td>0.000000</td>\n",
       "    </tr>\n",
       "    <tr>\n",
       "      <th>12348.0</th>\n",
       "      <td>False</td>\n",
       "      <td>0.000000</td>\n",
       "    </tr>\n",
       "    <tr>\n",
       "      <th>12349.0</th>\n",
       "      <td>True</td>\n",
       "      <td>0.046729</td>\n",
       "    </tr>\n",
       "    <tr>\n",
       "      <th>12351.0</th>\n",
       "      <td>False</td>\n",
       "      <td>0.000000</td>\n",
       "    </tr>\n",
       "    <tr>\n",
       "      <th>...</th>\n",
       "      <td>...</td>\n",
       "      <td>...</td>\n",
       "    </tr>\n",
       "    <tr>\n",
       "      <th>18283.0</th>\n",
       "      <td>False</td>\n",
       "      <td>0.000000</td>\n",
       "    </tr>\n",
       "    <tr>\n",
       "      <th>18284.0</th>\n",
       "      <td>True</td>\n",
       "      <td>0.034483</td>\n",
       "    </tr>\n",
       "    <tr>\n",
       "      <th>18285.0</th>\n",
       "      <td>False</td>\n",
       "      <td>0.000000</td>\n",
       "    </tr>\n",
       "    <tr>\n",
       "      <th>18286.0</th>\n",
       "      <td>True</td>\n",
       "      <td>0.042857</td>\n",
       "    </tr>\n",
       "    <tr>\n",
       "      <th>18287.0</th>\n",
       "      <td>True</td>\n",
       "      <td>0.011628</td>\n",
       "    </tr>\n",
       "  </tbody>\n",
       "</table>\n",
       "<p>4383 rows × 2 columns</p>\n",
       "</div>"
      ],
      "text/plain": [
       "             Customer With Cancellations  Customer Cancellation Rate\n",
       "Customer ID                                                         \n",
       "12346.0                             True                    0.266667\n",
       "12347.0                            False                    0.000000\n",
       "12348.0                            False                    0.000000\n",
       "12349.0                             True                    0.046729\n",
       "12351.0                            False                    0.000000\n",
       "...                                  ...                         ...\n",
       "18283.0                            False                    0.000000\n",
       "18284.0                             True                    0.034483\n",
       "18285.0                            False                    0.000000\n",
       "18286.0                             True                    0.042857\n",
       "18287.0                             True                    0.011628\n",
       "\n",
       "[4383 rows x 2 columns]"
      ]
     },
     "execution_count": 239,
     "metadata": {},
     "output_type": "execute_result"
    }
   ],
   "source": [
    "customer_canc"
   ]
  },
  {
   "cell_type": "markdown",
   "id": "comprehensive-easter",
   "metadata": {},
   "source": [
    "Merge the info into the main df."
   ]
  },
  {
   "cell_type": "code",
   "execution_count": 224,
   "id": "hidden-touch",
   "metadata": {},
   "outputs": [],
   "source": [
    "df = pd.merge(df, customer_canc, how='left', on='Customer ID')"
   ]
  },
  {
   "cell_type": "markdown",
   "id": "private-external",
   "metadata": {},
   "source": [
    "Fraction of cutomers that have ever made a cancellation:"
   ]
  },
  {
   "cell_type": "code",
   "execution_count": 240,
   "id": "interstate-checkout",
   "metadata": {
    "scrolled": true
   },
   "outputs": [
    {
     "data": {
      "text/plain": [
       "Customer With Cancellations    0.410221\n",
       "Customer Cancellation Rate     0.043115\n",
       "dtype: float64"
      ]
     },
     "execution_count": 240,
     "metadata": {},
     "output_type": "execute_result"
    }
   ],
   "source": [
    "customer_canc.sum()/customer_canc.count()"
   ]
  },
  {
   "cell_type": "code",
   "execution_count": 242,
   "id": "exposed-testament",
   "metadata": {
    "scrolled": false
   },
   "outputs": [
    {
     "data": {
      "image/png": "[encoded data removed]",
      "text/plain": [
       "<Figure size 432x288 with 1 Axes>"
      ]
     },
     "metadata": {
      "needs_background": "light"
     },
     "output_type": "display_data"
    }
   ],
   "source": [
    "plt.hist(customer_canc['Customer Cancellation Rate'],\\\n",
    "         bins=20, alpha=0.3)\n",
    "plt.xlabel('Customer Cancellation Rate')\n",
    "plt.yscale('log')\n",
    "plt.show()"
   ]
  },
  {
   "cell_type": "code",
   "execution_count": 805,
   "id": "excellent-charles",
   "metadata": {},
   "outputs": [
    {
     "data": {
      "text/plain": [
       "Customer ID\n",
       "12706.0    1.0\n",
       "16703.0    1.0\n",
       "15997.0    1.0\n",
       "16151.0    1.0\n",
       "16154.0    1.0\n",
       "          ... \n",
       "15034.0    0.0\n",
       "15037.0    0.0\n",
       "15038.0    0.0\n",
       "15040.0    0.0\n",
       "15456.0    0.0\n",
       "Name: Customer Cancellation Rate, Length: 4383, dtype: float64"
      ]
     },
     "execution_count": 805,
     "metadata": {},
     "output_type": "execute_result"
    }
   ],
   "source": [
    "customer_canc['Customer Cancellation Rate'].sort_values(ascending=False)"
   ]
  },
  {
   "cell_type": "markdown",
   "id": "posted-platinum",
   "metadata": {},
   "source": [
    "## Analyse customers that already made cancellations"
   ]
  },
  {
   "cell_type": "code",
   "execution_count": 229,
   "id": "celtic-edinburgh",
   "metadata": {},
   "outputs": [
    {
     "data": {
      "image/png": "[encoded data removed]",
      "text/plain": [
       "<Figure size 432x288 with 1 Axes>"
      ]
     },
     "metadata": {
      "needs_background": "light"
     },
     "output_type": "display_data"
    }
   ],
   "source": [
    "plt.hist(df.query('`Customer With Cancellations`!=True')['Transaction Price'],\\\n",
    "         bins=20, alpha=0.3, density=True, label='Non-canceling Customers')\n",
    "plt.hist(df.query('`Customer With Cancellations`==True and Cancellation!=True')['Transaction Price'],\\\n",
    "         bins=20, alpha=0.3, density=True, label='Canceling Customers: Realised Transactions')\n",
    "plt.hist(df.query('`Customer With Cancellations`==True and Cancellation==True')['Transaction Price'],\\\n",
    "         bins=20, alpha=0.3, density=True, label='Canceling Customers: Cancellations')\n",
    "plt.legend()\n",
    "plt.xlabel('Transaction Price')\n",
    "plt.yscale('log')\n",
    "plt.show()"
   ]
  },
  {
   "cell_type": "code",
   "execution_count": 87,
   "id": "detailed-baghdad",
   "metadata": {
    "scrolled": true
   },
   "outputs": [
    {
     "data": {
      "image/png": "[encoded data removed]",
      "text/plain": [
       "<Figure size 432x288 with 1 Axes>"
      ]
     },
     "metadata": {
      "needs_background": "light"
     },
     "output_type": "display_data"
    }
   ],
   "source": [
    "plt.hist(df.query('`Customer With Cancellations`!=True')['Quantity'],\\\n",
    "         bins=20, alpha=0.3, density=True, label='Non-canceling Customers')\n",
    "plt.hist(df.query('`Customer With Cancellations`==True and Cancellation!=True')['Quantity'],\\\n",
    "         bins=20, alpha=0.3, density=True, label='Canceling Customers: Realised Transactions')\n",
    "plt.hist(df.query('`Customer With Cancellations`==True and Cancellation==True')['Quantity']*(-1),\\\n",
    "         bins=20, alpha=0.3, density=True, label='Canceling Customers: Cancellations')\n",
    "plt.legend()\n",
    "plt.xlabel('Quantity')\n",
    "plt.yscale('log')\n",
    "plt.show()"
   ]
  },
  {
   "cell_type": "markdown",
   "id": "integrated-reproduction",
   "metadata": {},
   "source": [
    "Insights:\n",
    "- Customers that have never made a cancellation make transactions with smaller quantities and lower prices.\n",
    "- Customers that make cancellations tend to cancel transactions with larger quantities and higher total price."
   ]
  },
  {
   "cell_type": "markdown",
   "id": "protected-cheese",
   "metadata": {},
   "source": [
    "## Analyse products"
   ]
  },
  {
   "cell_type": "markdown",
   "id": "hundred-ready",
   "metadata": {},
   "source": [
    "A quick sanity check: do stock code and description have a 1-to-1 correpondance? Answer: no."
   ]
  },
  {
   "cell_type": "code",
   "execution_count": 25,
   "id": "innovative-spiritual",
   "metadata": {},
   "outputs": [
    {
     "data": {
      "text/plain": [
       "array([1, 2, 4, 3])"
      ]
     },
     "execution_count": 25,
     "metadata": {},
     "output_type": "execute_result"
    }
   ],
   "source": [
    "df.groupby('StockCode').Description.apply(lambda x: x.nunique()).unique()"
   ]
  },
  {
   "cell_type": "code",
   "execution_count": 26,
   "id": "breathing-blackjack",
   "metadata": {},
   "outputs": [
    {
     "data": {
      "text/plain": [
       "1    3607\n",
       "2     398\n",
       "3      20\n",
       "4       6\n",
       "Name: Description, dtype: int64"
      ]
     },
     "execution_count": 26,
     "metadata": {},
     "output_type": "execute_result"
    }
   ],
   "source": [
    "df.groupby('StockCode').Description.apply(lambda x: x.nunique()).value_counts()"
   ]
  },
  {
   "cell_type": "code",
   "execution_count": 27,
   "id": "neither-diameter",
   "metadata": {},
   "outputs": [
    {
     "data": {
      "text/plain": [
       "array([1, 2, 3])"
      ]
     },
     "execution_count": 27,
     "metadata": {},
     "output_type": "execute_result"
    }
   ],
   "source": [
    "df.groupby('Description').StockCode.apply(lambda x: x.nunique()).unique()"
   ]
  },
  {
   "cell_type": "code",
   "execution_count": 28,
   "id": "willing-limitation",
   "metadata": {},
   "outputs": [
    {
     "data": {
      "text/plain": [
       "1    4434\n",
       "2      22\n",
       "3       3\n",
       "Name: StockCode, dtype: int64"
      ]
     },
     "execution_count": 28,
     "metadata": {},
     "output_type": "execute_result"
    }
   ],
   "source": [
    "df.groupby('Description').StockCode.apply(lambda x: x.nunique()).value_counts()"
   ]
  },
  {
   "cell_type": "markdown",
   "id": "fantastic-flavor",
   "metadata": {},
   "source": [
    "Another sanity check: does a product (defined either by the description or StockCode) always have the same price?"
   ]
  },
  {
   "cell_type": "code",
   "execution_count": 96,
   "id": "certain-integration",
   "metadata": {
    "scrolled": true
   },
   "outputs": [
    {
     "data": {
      "text/plain": [
       "Description\n",
       "  DOORMAT UNION JACK GUNS AND ROSES                  {5.95, 6.75}\n",
       " 3 STRIPEY MICE FELTCRAFT                            {1.95, 1.65}\n",
       " 4 PURPLE FLOCK DINNER CANDLES                       {0.85, 2.55}\n",
       " ANIMAL STICKERS                                           {0.21}\n",
       " BLACK PIRATE TREASURE CHEST                               {1.65}\n",
       "                                                  ...            \n",
       "ZINC HEART LATTICE TRAY OVAL                          {0.5, 5.95}\n",
       "ZINC METAL HEART DECORATION                          {1.25, 1.06}\n",
       "ZINC POLICE BOX LANTERN                               {4.0, 5.95}\n",
       "ZINC TOP  2 DOOR WOODEN SHELF          {16.95, 2.95, 3.95, 14.95}\n",
       "ZINC WILLIE WINKIE  CANDLE STICK                     {0.85, 0.72}\n",
       "Name: Price, Length: 4459, dtype: object"
      ]
     },
     "execution_count": 96,
     "metadata": {},
     "output_type": "execute_result"
    }
   ],
   "source": [
    "df.groupby('Description').Price.apply(lambda x: set(x))"
   ]
  },
  {
   "cell_type": "code",
   "execution_count": 101,
   "id": "white-craps",
   "metadata": {
    "scrolled": true
   },
   "outputs": [
    {
     "data": {
      "text/plain": [
       "StockCode\n",
       "10002                                           {0.85, 0.72}\n",
       "10080                                                 {0.85}\n",
       "10109                                                 {0.42}\n",
       "10120                                                 {0.21}\n",
       "10125                                                 {0.85}\n",
       "                                 ...                        \n",
       "PADS                                           {36.6, 0.001}\n",
       "POST       {1.0, 2.99, 130.0, 4.0, 5.0, 4.41, 7.06, 8.97,...\n",
       "SP1002                                                {2.95}\n",
       "TEST001                                           {0.0, 4.5}\n",
       "TEST002                                                {1.0}\n",
       "Name: Price, Length: 4031, dtype: object"
      ]
     },
     "execution_count": 101,
     "metadata": {},
     "output_type": "execute_result"
    }
   ],
   "source": [
    "df.groupby('StockCode').Price.apply(lambda x: set(x))"
   ]
  },
  {
   "cell_type": "markdown",
   "id": "grand-segment",
   "metadata": {},
   "source": [
    "Insight: the price of a product can in some cases vary quite a lot."
   ]
  },
  {
   "cell_type": "markdown",
   "id": "fixed-cheese",
   "metadata": {},
   "source": [
    "How frequently is a particular product being cancelled?"
   ]
  },
  {
   "cell_type": "code",
   "execution_count": 102,
   "id": "restricted-housing",
   "metadata": {
    "scrolled": true
   },
   "outputs": [
    {
     "data": {
      "text/plain": [
       "Description\n",
       "BLUE GREEN CHRISTMAS HANGING BALL      1.000000\n",
       "VINTAGE BLUE VACUUM FLASK 0.5L         1.000000\n",
       "PURPLE ORCHID FLOWER LIGHTS            1.000000\n",
       "SET 6 MINI SUSHI SET FRIDGE MAGNETS    1.000000\n",
       "HAND OPEN SHAPE CHROME                 1.000000\n",
       "SET OF KITCHEN WALL  STICKERS          1.000000\n",
       "ENGLISH ROSE DESIGN KITCHEN APRON      1.000000\n",
       "Adjustment by Peter on 24/05/2010 1    1.000000\n",
       "WHITE ORCHID FLOWER LIGHTS             1.000000\n",
       "ZINC HEART HANGER WITH HOOKS           1.000000\n",
       "S/4 HEART CRYSTAL FRIDGE MAGNETS       1.000000\n",
       "PINK EAR MUFF HEADPHONES               1.000000\n",
       "LARGE GLASS HEART TRINKET POT          1.000000\n",
       "LARGE SILVER BALUSTRADE CANDLESTICK    1.000000\n",
       "VINTAGE WOOD ORGANISER                 1.000000\n",
       "Discount                               0.948454\n",
       "FEATHER HEART LIGHTS                   0.800000\n",
       "RED HEART CANDY POP LIGHTS             0.750000\n",
       "CREAM SWEETHEART DOUBLE SHELF          0.666667\n",
       "CAMOUFLAGE BACKPACK ON WHEELS          0.666667\n",
       "CERAMIC CAKE TEAPOT WITH CHERRY        0.666667\n",
       "SILVER CHERRY LIGHTS                   0.633333\n",
       "WHITE CHERRY LIGHTS                    0.546296\n",
       "BLACK CHERRY LIGHTS                    0.505263\n",
       "SET OF 6 SPICE TINS PANTRY DESIGN      0.500000\n",
       "LITTLE FLOWER SHOPPER BAG              0.500000\n",
       "SET OF 6 DOTS CHOPSTICKS               0.500000\n",
       "ENGLISH ROSE SET/3 GARDEN TOOLS        0.500000\n",
       "WOODLAND CREATURES  WRAP               0.500000\n",
       "SILVER WINE GOBLET                     0.500000\n",
       "BREAD BIN DINER STYLE BLACK            0.500000\n",
       "GLASS JAR, ENGLISH CONFECTIONERY       0.500000\n",
       "Adjustment by john on 26/01/2010 16    0.500000\n",
       "ENGLISH ROSE DESIGN SHOPPING BAG       0.500000\n",
       "WHITE SCANDINAVIAN HEART CHRISTMAS     0.500000\n",
       "NUMBER TILE COTTAGE GARDEN 1           0.500000\n",
       "BOX OF 3 PEBBLE CANDLES                0.500000\n",
       "MULTICOLOUR POLKADOT PLATE             0.500000\n",
       "CIRCUS PARADE LUNCHBOX                 0.500000\n",
       "SWEETHEART CREAM STEEL FOLDIN CHAIR    0.500000\n",
       "S/16 BLACK SHINY/MAT BAUBLES           0.500000\n",
       "LUNCHBOX I LOVE LONDON                 0.500000\n",
       "BLUE TILED SET OF 3 DRAWERS            0.500000\n",
       "TEATIME ROUND CAKE TINS                0.500000\n",
       "DIAMANTE NECKLACE                      0.400000\n",
       "PINK/YELLOW PATCH CUSHION COVER        0.400000\n",
       "MULTICOLOUR FEATHERS CURTAIN           0.400000\n",
       "Adjustment by john on 26/01/2010 17    0.363636\n",
       "Manual                                 0.346273\n",
       " Bank Charges                          0.333333\n",
       "Name: Cancellation, dtype: float64"
      ]
     },
     "execution_count": 102,
     "metadata": {},
     "output_type": "execute_result"
    }
   ],
   "source": [
    "df.groupby('Description').Cancellation.apply(lambda x: sum(list(x))/len(list(x))).sort_values(ascending=False).head(50)"
   ]
  },
  {
   "cell_type": "code",
   "execution_count": 103,
   "id": "coated-graphic",
   "metadata": {
    "scrolled": true
   },
   "outputs": [
    {
     "data": {
      "text/plain": [
       "StockCode\n",
       "21254     1.000000\n",
       "21315     1.000000\n",
       "21346     1.000000\n",
       "22003     1.000000\n",
       "79340P    1.000000\n",
       "79340W    1.000000\n",
       "35631B    1.000000\n",
       "21053     1.000000\n",
       "21766     1.000000\n",
       "85219     1.000000\n",
       "35001C    1.000000\n",
       "20779     1.000000\n",
       "47567     1.000000\n",
       "21701     1.000000\n",
       "D         0.948454\n",
       "79301     0.800000\n",
       "85043     0.750000\n",
       "85069     0.666667\n",
       "78056     0.666667\n",
       "37451     0.666667\n",
       "79323B    0.505263\n",
       "22722     0.500000\n",
       "79065A    0.500000\n",
       "20822     0.500000\n",
       "47569     0.500000\n",
       "22850     0.500000\n",
       "21475     0.500000\n",
       "20791     0.500000\n",
       "21950     0.500000\n",
       "40002     0.500000\n",
       "20885     0.500000\n",
       "47504J    0.500000\n",
       "21496     0.500000\n",
       "35603B    0.500000\n",
       "20715     0.500000\n",
       "35976B    0.500000\n",
       "ADJUST    0.475410\n",
       "44217M    0.400000\n",
       "90176C    0.400000\n",
       "M         0.346273\n",
       "84967A    0.333333\n",
       "90049     0.333333\n",
       "85083     0.333333\n",
       "84679     0.333333\n",
       "35001P    0.333333\n",
       "85159A    0.333333\n",
       "17013C    0.333333\n",
       "37488A    0.333333\n",
       "85185E    0.333333\n",
       "84611B    0.333333\n",
       "Name: Cancellation, dtype: float64"
      ]
     },
     "execution_count": 103,
     "metadata": {},
     "output_type": "execute_result"
    }
   ],
   "source": [
    "df.groupby('StockCode').Cancellation.apply(lambda x: sum(list(x))/len(list(x))).sort_values(ascending=False).head(50)"
   ]
  },
  {
   "cell_type": "markdown",
   "id": "eight-purchase",
   "metadata": {},
   "source": [
    "Is there a dependence between the average unit price of a product and its cancellation rate?"
   ]
  },
  {
   "cell_type": "code",
   "execution_count": 246,
   "id": "sixth-installation",
   "metadata": {},
   "outputs": [],
   "source": [
    "df_prod = pd.DataFrame(df.groupby('StockCode').Cancellation.\\\n",
    "                       apply(lambda x: sum(list(x))/len(list(x))).\\\n",
    "                       sort_values(ascending=False)).rename(columns={'Cancellation': 'Product Cancellation Rate'})#.dropna(inplace=True)\n",
    "\n",
    "tmp = pd.DataFrame(df.groupby('StockCode').Price.agg('mean')).rename(columns={'Price': 'Product Price Mean'})\n",
    "df_prod = pd.concat([df_prod, tmp], axis=1)\n",
    "\n",
    "tmp = pd.DataFrame(df.groupby('StockCode')['Transaction Price'].agg('mean')).rename(columns={'Transaction Price': 'Product Transaction Price Mean'})\n",
    "df_prod = pd.concat([df_prod, tmp], axis=1)"
   ]
  },
  {
   "cell_type": "code",
   "execution_count": 248,
   "id": "postal-opera",
   "metadata": {
    "scrolled": true
   },
   "outputs": [
    {
     "data": {
      "text/plain": [
       "Text(0, 0.5, 'Cancellation Rate')"
      ]
     },
     "execution_count": 248,
     "metadata": {},
     "output_type": "execute_result"
    },
    {
     "data": {
      "image/png": "[encoded data removed]",
      "text/plain": [
       "<Figure size 432x288 with 1 Axes>"
      ]
     },
     "metadata": {
      "needs_background": "light"
     },
     "output_type": "display_data"
    }
   ],
   "source": [
    "plt.scatter(df_prod['Product Price Mean'], df_prod['Product Cancellation Rate'], alpha=0.5)\n",
    "plt.xlabel('Average Price')\n",
    "plt.ylabel('Cancellation Rate')\n",
    "#plt.title()"
   ]
  },
  {
   "cell_type": "code",
   "execution_count": 249,
   "id": "fourth-approach",
   "metadata": {
    "scrolled": true
   },
   "outputs": [
    {
     "name": "stdout",
     "output_type": "stream",
     "text": [
      "Correlation coefficient:\n",
      "0.1420710455048556\n"
     ]
    }
   ],
   "source": [
    "print(f'Correlation coefficient:')\n",
    "print(df_prod['Product Price Mean'].corr(df_prod['Product Cancellation Rate']))"
   ]
  },
  {
   "cell_type": "code",
   "execution_count": 250,
   "id": "constant-demographic",
   "metadata": {},
   "outputs": [
    {
     "name": "stdout",
     "output_type": "stream",
     "text": [
      "Correlation coefficient regardless the outliers:\n",
      "0.1436433404519347\n"
     ]
    }
   ],
   "source": [
    "print(f'Correlation coefficient regardless the outliers:')\n",
    "print(df_prod.query('`Product Price Mean`<50')['Product Price Mean'].corr(df_prod['Product Cancellation Rate']))"
   ]
  },
  {
   "cell_type": "code",
   "execution_count": 251,
   "id": "suffering-excerpt",
   "metadata": {
    "scrolled": true
   },
   "outputs": [
    {
     "data": {
      "text/plain": [
       "Text(0, 0.5, 'Cancellation Rate')"
      ]
     },
     "execution_count": 251,
     "metadata": {},
     "output_type": "execute_result"
    },
    {
     "data": {
      "image/png": "[encoded data removed]",
      "text/plain": [
       "<Figure size 432x288 with 1 Axes>"
      ]
     },
     "metadata": {
      "needs_background": "light"
     },
     "output_type": "display_data"
    }
   ],
   "source": [
    "plt.scatter(df_prod['Product Transaction Price Mean'], df_prod['Product Cancellation Rate'], alpha=0.5)\n",
    "plt.xlabel('Average Transaction Price')\n",
    "plt.ylabel('Cancellation Rate')\n",
    "#plt.title()"
   ]
  },
  {
   "cell_type": "code",
   "execution_count": 252,
   "id": "integrated-screw",
   "metadata": {
    "scrolled": true
   },
   "outputs": [
    {
     "name": "stdout",
     "output_type": "stream",
     "text": [
      "Correlation coefficient:\n",
      "0.05745083693282338\n"
     ]
    }
   ],
   "source": [
    "print(f'Correlation coefficient:')\n",
    "print(df_prod['Product Transaction Price Mean'].corr(df_prod['Product Cancellation Rate']))"
   ]
  },
  {
   "cell_type": "code",
   "execution_count": 253,
   "id": "forbidden-jersey",
   "metadata": {},
   "outputs": [
    {
     "name": "stdout",
     "output_type": "stream",
     "text": [
      "Correlation coefficient regardless the outliers:\n",
      "0.12544196279210443\n"
     ]
    }
   ],
   "source": [
    "print(f'Correlation coefficient regardless the outliers:')\n",
    "print(df_prod.query('`Product Transaction Price Mean`<200')['Product Transaction Price Mean'].corr(df_prod['Product Cancellation Rate']))"
   ]
  },
  {
   "cell_type": "code",
   "execution_count": 254,
   "id": "intimate-billy",
   "metadata": {},
   "outputs": [
    {
     "data": {
      "image/png": "[encoded data removed]",
      "text/plain": [
       "<Figure size 432x288 with 1 Axes>"
      ]
     },
     "metadata": {
      "needs_background": "light"
     },
     "output_type": "display_data"
    }
   ],
   "source": [
    "plt.hist(df_prod.query('`Product Cancellation Rate`>0.4')['Product Transaction Price Mean'],\\\n",
    "         bins=20, alpha=0.3)\n",
    "plt.xlabel('Quantity')\n",
    "plt.show()"
   ]
  },
  {
   "cell_type": "markdown",
   "id": "beneficial-approach",
   "metadata": {},
   "source": [
    "Insight: globally there is not much correlation between the cancellation rate and the mean unit price or total transaction price of a product. However, it is rather cheap products that have very high cancellation rates."
   ]
  },
  {
   "cell_type": "code",
   "execution_count": 257,
   "id": "canadian-egyptian",
   "metadata": {
    "scrolled": true
   },
   "outputs": [],
   "source": [
    "df = pd.merge(df, df_prod['Product Cancellation Rate'], how='left', on='StockCode')"
   ]
  },
  {
   "cell_type": "code",
   "execution_count": 256,
   "id": "directed-portrait",
   "metadata": {},
   "outputs": [
    {
     "data": {
      "text/html": [
       "<div>\n",
       "<style scoped>\n",
       "    .dataframe tbody tr th:only-of-type {\n",
       "        vertical-align: middle;\n",
       "    }\n",
       "\n",
       "    .dataframe tbody tr th {\n",
       "        vertical-align: top;\n",
       "    }\n",
       "\n",
       "    .dataframe thead th {\n",
       "        text-align: right;\n",
       "    }\n",
       "</style>\n",
       "<table border=\"1\" class=\"dataframe\">\n",
       "  <thead>\n",
       "    <tr style=\"text-align: right;\">\n",
       "      <th></th>\n",
       "      <th>Product Cancellation Rate</th>\n",
       "      <th>Product Price Mean</th>\n",
       "      <th>Product Transaction Price Mean</th>\n",
       "    </tr>\n",
       "    <tr>\n",
       "      <th>StockCode</th>\n",
       "      <th></th>\n",
       "      <th></th>\n",
       "      <th></th>\n",
       "    </tr>\n",
       "  </thead>\n",
       "  <tbody>\n",
       "    <tr>\n",
       "      <th>21254</th>\n",
       "      <td>1.0</td>\n",
       "      <td>2.950000</td>\n",
       "      <td>11.800000</td>\n",
       "    </tr>\n",
       "    <tr>\n",
       "      <th>21315</th>\n",
       "      <td>1.0</td>\n",
       "      <td>4.250000</td>\n",
       "      <td>17.000000</td>\n",
       "    </tr>\n",
       "    <tr>\n",
       "      <th>21346</th>\n",
       "      <td>1.0</td>\n",
       "      <td>5.950000</td>\n",
       "      <td>5.950000</td>\n",
       "    </tr>\n",
       "    <tr>\n",
       "      <th>22003</th>\n",
       "      <td>1.0</td>\n",
       "      <td>6.750000</td>\n",
       "      <td>67.500000</td>\n",
       "    </tr>\n",
       "    <tr>\n",
       "      <th>79340P</th>\n",
       "      <td>1.0</td>\n",
       "      <td>7.950000</td>\n",
       "      <td>7.950000</td>\n",
       "    </tr>\n",
       "    <tr>\n",
       "      <th>...</th>\n",
       "      <td>...</td>\n",
       "      <td>...</td>\n",
       "      <td>...</td>\n",
       "    </tr>\n",
       "    <tr>\n",
       "      <th>48103</th>\n",
       "      <td>0.0</td>\n",
       "      <td>7.051000</td>\n",
       "      <td>20.173000</td>\n",
       "    </tr>\n",
       "    <tr>\n",
       "      <th>48116</th>\n",
       "      <td>0.0</td>\n",
       "      <td>7.088699</td>\n",
       "      <td>43.896098</td>\n",
       "    </tr>\n",
       "    <tr>\n",
       "      <th>48129</th>\n",
       "      <td>0.0</td>\n",
       "      <td>7.243450</td>\n",
       "      <td>42.247604</td>\n",
       "    </tr>\n",
       "    <tr>\n",
       "      <th>48175</th>\n",
       "      <td>0.0</td>\n",
       "      <td>4.000000</td>\n",
       "      <td>152.000000</td>\n",
       "    </tr>\n",
       "    <tr>\n",
       "      <th>TEST002</th>\n",
       "      <td>0.0</td>\n",
       "      <td>1.000000</td>\n",
       "      <td>1.000000</td>\n",
       "    </tr>\n",
       "  </tbody>\n",
       "</table>\n",
       "<p>4031 rows × 3 columns</p>\n",
       "</div>"
      ],
      "text/plain": [
       "           Product Cancellation Rate  Product Price Mean  \\\n",
       "StockCode                                                  \n",
       "21254                            1.0            2.950000   \n",
       "21315                            1.0            4.250000   \n",
       "21346                            1.0            5.950000   \n",
       "22003                            1.0            6.750000   \n",
       "79340P                           1.0            7.950000   \n",
       "...                              ...                 ...   \n",
       "48103                            0.0            7.051000   \n",
       "48116                            0.0            7.088699   \n",
       "48129                            0.0            7.243450   \n",
       "48175                            0.0            4.000000   \n",
       "TEST002                          0.0            1.000000   \n",
       "\n",
       "           Product Transaction Price Mean  \n",
       "StockCode                                  \n",
       "21254                           11.800000  \n",
       "21315                           17.000000  \n",
       "21346                            5.950000  \n",
       "22003                           67.500000  \n",
       "79340P                           7.950000  \n",
       "...                                   ...  \n",
       "48103                           20.173000  \n",
       "48116                           43.896098  \n",
       "48129                           42.247604  \n",
       "48175                          152.000000  \n",
       "TEST002                          1.000000  \n",
       "\n",
       "[4031 rows x 3 columns]"
      ]
     },
     "execution_count": 256,
     "metadata": {},
     "output_type": "execute_result"
    }
   ],
   "source": [
    "df_prod"
   ]
  },
  {
   "cell_type": "markdown",
   "id": "announced-consultation",
   "metadata": {},
   "source": [
    "## Temporal distribution of cancellations"
   ]
  },
  {
   "cell_type": "code",
   "execution_count": 176,
   "id": "extreme-brake",
   "metadata": {},
   "outputs": [
    {
     "name": "stdout",
     "output_type": "stream",
     "text": [
      "The earliest date:\n",
      "2009-12-01 07:45:00\n",
      "\n",
      "The latest date:\n",
      "2010-12-09 20:01:00\n"
     ]
    }
   ],
   "source": [
    "print(f'The earliest date:')\n",
    "print(df['InvoiceDate'].min())\n",
    "print()\n",
    "print(f'The latest date:')\n",
    "print(df['InvoiceDate'].max())"
   ]
  },
  {
   "cell_type": "code",
   "execution_count": 482,
   "id": "growing-nevada",
   "metadata": {},
   "outputs": [
    {
     "data": {
      "image/png": "[encoded data removed]",
      "text/plain": [
       "<Figure size 432x288 with 1 Axes>"
      ]
     },
     "metadata": {
      "needs_background": "light"
     },
     "output_type": "display_data"
    }
   ],
   "source": [
    "plt.hist(df['InvoiceDate'],\\\n",
    "         bins=20, alpha=0.3)\n",
    "plt.xlabel('Invoice Date')\n",
    "plt.show()"
   ]
  },
  {
   "cell_type": "markdown",
   "id": "painted-luther",
   "metadata": {},
   "source": [
    "## Churn prediction"
   ]
  },
  {
   "cell_type": "code",
   "execution_count": 293,
   "id": "directed-branch",
   "metadata": {},
   "outputs": [
    {
     "data": {
      "text/plain": [
       "array([1])"
      ]
     },
     "execution_count": 293,
     "metadata": {},
     "output_type": "execute_result"
    }
   ],
   "source": [
    "# Sanity checks\n",
    "df.groupby('Customer ID')['Customer Cancellation Rate'].apply(lambda x: len(set(x))).unique()\n",
    "df.groupby('Customer ID')['Customer With Cancellations'].apply(lambda x: len(set(x))).unique()"
   ]
  },
  {
   "cell_type": "markdown",
   "id": "fitting-psychiatry",
   "metadata": {},
   "source": [
    "Make a dataframe aggregated per customer."
   ]
  },
  {
   "cell_type": "code",
   "execution_count": 766,
   "id": "pediatric-darkness",
   "metadata": {},
   "outputs": [],
   "source": [
    "df_customer = pd.DataFrame(df.groupby('Customer ID').Quantity.agg(['sum', 'mean', 'min', 'max'])).rename(columns={'sum': 'Quantity Sum', 'mean': 'Quantity Mean', 'min': 'Quantity Min', 'max': 'Quantity Max'})"
   ]
  },
  {
   "cell_type": "code",
   "execution_count": 767,
   "id": "moderate-helmet",
   "metadata": {},
   "outputs": [],
   "source": [
    "tmp = pd.DataFrame(df.groupby('Customer ID')['Price'].agg(['mean', 'min', 'max'])).rename(columns={'mean': 'Price Mean', 'min': 'Price Min', 'max': 'Price Max'})\n",
    "df_customer = pd.merge(df_customer, tmp, how='left', on='Customer ID')"
   ]
  },
  {
   "cell_type": "code",
   "execution_count": 768,
   "id": "ceramic-voluntary",
   "metadata": {},
   "outputs": [],
   "source": [
    "tmp = pd.DataFrame(df.groupby('Customer ID')['Transaction Price'].agg(['sum', 'mean', 'min', 'max'])).rename(columns={'sum': 'Transaction Price Sum', 'mean': 'Transaction Price Mean', 'min': 'Transaction Price Min', 'max': 'Transaction Price Max'})\n",
    "df_customer = pd.merge(df_customer, tmp, how='left', on='Customer ID')"
   ]
  },
  {
   "cell_type": "code",
   "execution_count": 769,
   "id": "amended-consumption",
   "metadata": {},
   "outputs": [],
   "source": [
    "tmp = pd.DataFrame(df.groupby('Customer ID')['Customer Cancellation Rate'].apply(lambda x: list(x)[0]))\n",
    "df_customer = pd.merge(df_customer, tmp, how='left', on='Customer ID')"
   ]
  },
  {
   "cell_type": "code",
   "execution_count": 770,
   "id": "plain-windows",
   "metadata": {},
   "outputs": [],
   "source": [
    "tmp = pd.DataFrame(df.groupby('Customer ID')['Customer With Cancellations'].apply(lambda x: list(x)[0]))\n",
    "df_customer = pd.merge(df_customer, tmp, how='left', on='Customer ID')"
   ]
  },
  {
   "cell_type": "code",
   "execution_count": 771,
   "id": "optional-sullivan",
   "metadata": {},
   "outputs": [],
   "source": [
    "tmp = pd.DataFrame(df.groupby(['Customer ID']).Description.apply(list).apply(lambda l: max(set(l), key=l.count))).rename(columns={'Description': 'Most Frequent Product'})\n",
    "df_customer = pd.merge(df_customer, tmp, how='left', on='Customer ID')"
   ]
  },
  {
   "cell_type": "code",
   "execution_count": 305,
   "id": "published-reverse",
   "metadata": {},
   "outputs": [
    {
     "data": {
      "text/plain": [
       "Timestamp('2010-06-30 19:56:14.853674752')"
      ]
     },
     "execution_count": 305,
     "metadata": {},
     "output_type": "execute_result"
    }
   ],
   "source": [
    "#pd.to_datetime(df.InvoiceDate.values.astype(np.int64).mean())"
   ]
  },
  {
   "cell_type": "code",
   "execution_count": 343,
   "id": "recovered-float",
   "metadata": {},
   "outputs": [],
   "source": [
    "#tmp = pd.DataFrame(df.groupby('Customer ID')['InvoiceDate'].apply(lambda x: x.astype(np.int64).mean()/1.e18)).rename(columns={'InvoiceDate':'Invoice Date Mean'})\n",
    "#df_customer = pd.merge(df_customer, tmp, how='left', on='Customer ID')                   \n",
    "                   "
   ]
  },
  {
   "cell_type": "code",
   "execution_count": 344,
   "id": "unlikely-challenge",
   "metadata": {},
   "outputs": [],
   "source": [
    "#tmp = pd.DataFrame(df.groupby('Customer ID')['InvoiceDate'].apply(lambda x: x.astype(np.int64).min()/1.e18)).rename(columns={'InvoiceDate':'Invoice Date Min'})\n",
    "#df_customer = pd.merge(df_customer, tmp, how='left', on='Customer ID')                   \n"
   ]
  },
  {
   "cell_type": "code",
   "execution_count": 345,
   "id": "caroline-anime",
   "metadata": {},
   "outputs": [],
   "source": [
    "#tmp = pd.DataFrame(df.groupby('Customer ID')['InvoiceDate'].apply(lambda x: x.astype(np.int64).max()/1.e18)).rename(columns={'InvoiceDate':'Invoice Date Max'})\n",
    "#df_customer = pd.merge(df_customer, tmp, how='left', on='Customer ID')                   \n"
   ]
  },
  {
   "cell_type": "code",
   "execution_count": 772,
   "id": "mighty-colon",
   "metadata": {},
   "outputs": [],
   "source": [
    "tmp = pd.DataFrame(df.groupby('Customer ID')['Country'].apply(lambda x: list(x)[0])).rename(columns={'InvoiceDate':'Invoice Date Max'})\n",
    "df_customer = pd.merge(df_customer, tmp, how='left', on='Customer ID')                   \n",
    "#tmp"
   ]
  },
  {
   "cell_type": "code",
   "execution_count": 681,
   "id": "adolescent-courtesy",
   "metadata": {
    "scrolled": true
   },
   "outputs": [
    {
     "data": {
      "text/plain": [
       "37"
      ]
     },
     "execution_count": 681,
     "metadata": {},
     "output_type": "execute_result"
    }
   ],
   "source": [
    "#df_customer['Country'].nunique()\n",
    "#pd.get_dummies(df_customer['Country'])"
   ]
  },
  {
   "cell_type": "code",
   "execution_count": 751,
   "id": "aggregate-insurance",
   "metadata": {
    "scrolled": false
   },
   "outputs": [],
   "source": [
    "#df_customer['Country'].value_counts()"
   ]
  },
  {
   "cell_type": "code",
   "execution_count": 339,
   "id": "worthy-marker",
   "metadata": {},
   "outputs": [],
   "source": [
    "#df_customer.drop(['Invoice Date Mean_y', 'Invoice Date Min_y', 'Invoice Date Max_y'], axis=1, inplace=True)"
   ]
  },
  {
   "cell_type": "code",
   "execution_count": 341,
   "id": "norwegian-tribute",
   "metadata": {},
   "outputs": [],
   "source": [
    "#df_customer.drop(['Invoice Date Mean'], axis=1, inplace=True)"
   ]
  },
  {
   "cell_type": "code",
   "execution_count": 773,
   "id": "smart-florist",
   "metadata": {},
   "outputs": [],
   "source": [
    "df_customer['Customer With Cancellations'] = df_customer['Customer With Cancellations'].astype(np.int64)"
   ]
  },
  {
   "cell_type": "code",
   "execution_count": 774,
   "id": "level-blend",
   "metadata": {},
   "outputs": [
    {
     "data": {
      "text/plain": [
       "<AxesSubplot:>"
      ]
     },
     "execution_count": 774,
     "metadata": {},
     "output_type": "execute_result"
    },
    {
     "data": {
      "image/png": "[encoded data removed]",
      "text/plain": [
       "<Figure size 432x288 with 1 Axes>"
      ]
     },
     "metadata": {
      "needs_background": "light"
     },
     "output_type": "display_data"
    }
   ],
   "source": [
    "df_customer['Customer Cancellation Rate'].hist(bins=100)"
   ]
  },
  {
   "cell_type": "code",
   "execution_count": 806,
   "id": "chronic-fusion",
   "metadata": {},
   "outputs": [
    {
     "data": {
      "text/html": [
       "<div>\n",
       "<style scoped>\n",
       "    .dataframe tbody tr th:only-of-type {\n",
       "        vertical-align: middle;\n",
       "    }\n",
       "\n",
       "    .dataframe tbody tr th {\n",
       "        vertical-align: top;\n",
       "    }\n",
       "\n",
       "    .dataframe thead th {\n",
       "        text-align: right;\n",
       "    }\n",
       "</style>\n",
       "<table border=\"1\" class=\"dataframe\">\n",
       "  <thead>\n",
       "    <tr style=\"text-align: right;\">\n",
       "      <th></th>\n",
       "      <th>Quantity Sum</th>\n",
       "      <th>Quantity Mean</th>\n",
       "      <th>Quantity Min</th>\n",
       "      <th>Quantity Max</th>\n",
       "      <th>Price Mean</th>\n",
       "      <th>Price Min</th>\n",
       "      <th>Price Max</th>\n",
       "      <th>Transaction Price Sum</th>\n",
       "      <th>Transaction Price Mean</th>\n",
       "      <th>Transaction Price Min</th>\n",
       "      <th>...</th>\n",
       "      <th>WOOD S/3 CABINET ANT WHITE FINISH</th>\n",
       "      <th>VICTORIAN GLASS HANGING T-LIGHT</th>\n",
       "      <th>SET/5 RED SPOTTY LID GLASS BOWLS</th>\n",
       "      <th>WOODEN FRAME ANTIQUE WHITE</th>\n",
       "      <th>CHOCOLATE HOT WATER BOTTLE</th>\n",
       "      <th>I CAN ONLY PLEASE ONE PERSON MUG</th>\n",
       "      <th>JUMBO STORAGE BAG SUKI</th>\n",
       "      <th>ASSORTED COLOURS SILK FAN</th>\n",
       "      <th>STRAWBERRY CHARLOTTE BAG</th>\n",
       "      <th>Cluster</th>\n",
       "    </tr>\n",
       "    <tr>\n",
       "      <th>Customer ID</th>\n",
       "      <th></th>\n",
       "      <th></th>\n",
       "      <th></th>\n",
       "      <th></th>\n",
       "      <th></th>\n",
       "      <th></th>\n",
       "      <th></th>\n",
       "      <th></th>\n",
       "      <th></th>\n",
       "      <th></th>\n",
       "      <th></th>\n",
       "      <th></th>\n",
       "      <th></th>\n",
       "      <th></th>\n",
       "      <th></th>\n",
       "      <th></th>\n",
       "      <th></th>\n",
       "      <th></th>\n",
       "      <th></th>\n",
       "      <th></th>\n",
       "      <th></th>\n",
       "    </tr>\n",
       "  </thead>\n",
       "  <tbody>\n",
       "    <tr>\n",
       "      <th>12346.0</th>\n",
       "      <td>87</td>\n",
       "      <td>1.933333</td>\n",
       "      <td>1</td>\n",
       "      <td>10</td>\n",
       "      <td>12.564889</td>\n",
       "      <td>1.00</td>\n",
       "      <td>142.31</td>\n",
       "      <td>797.46</td>\n",
       "      <td>17.721333</td>\n",
       "      <td>1.00</td>\n",
       "      <td>...</td>\n",
       "      <td>False</td>\n",
       "      <td>False</td>\n",
       "      <td>False</td>\n",
       "      <td>False</td>\n",
       "      <td>False</td>\n",
       "      <td>False</td>\n",
       "      <td>False</td>\n",
       "      <td>False</td>\n",
       "      <td>False</td>\n",
       "      <td>1</td>\n",
       "    </tr>\n",
       "    <tr>\n",
       "      <th>12347.0</th>\n",
       "      <td>828</td>\n",
       "      <td>11.661972</td>\n",
       "      <td>3</td>\n",
       "      <td>36</td>\n",
       "      <td>2.295070</td>\n",
       "      <td>0.38</td>\n",
       "      <td>12.75</td>\n",
       "      <td>1323.32</td>\n",
       "      <td>18.638310</td>\n",
       "      <td>7.80</td>\n",
       "      <td>...</td>\n",
       "      <td>False</td>\n",
       "      <td>False</td>\n",
       "      <td>False</td>\n",
       "      <td>False</td>\n",
       "      <td>False</td>\n",
       "      <td>False</td>\n",
       "      <td>False</td>\n",
       "      <td>False</td>\n",
       "      <td>False</td>\n",
       "      <td>0</td>\n",
       "    </tr>\n",
       "    <tr>\n",
       "      <th>12348.0</th>\n",
       "      <td>373</td>\n",
       "      <td>18.650000</td>\n",
       "      <td>1</td>\n",
       "      <td>24</td>\n",
       "      <td>0.719500</td>\n",
       "      <td>0.29</td>\n",
       "      <td>1.45</td>\n",
       "      <td>222.16</td>\n",
       "      <td>11.108000</td>\n",
       "      <td>1.00</td>\n",
       "      <td>...</td>\n",
       "      <td>False</td>\n",
       "      <td>False</td>\n",
       "      <td>False</td>\n",
       "      <td>False</td>\n",
       "      <td>False</td>\n",
       "      <td>False</td>\n",
       "      <td>False</td>\n",
       "      <td>False</td>\n",
       "      <td>False</td>\n",
       "      <td>0</td>\n",
       "    </tr>\n",
       "    <tr>\n",
       "      <th>12349.0</th>\n",
       "      <td>998</td>\n",
       "      <td>9.327103</td>\n",
       "      <td>1</td>\n",
       "      <td>48</td>\n",
       "      <td>8.406449</td>\n",
       "      <td>0.42</td>\n",
       "      <td>250.00</td>\n",
       "      <td>2695.29</td>\n",
       "      <td>25.189626</td>\n",
       "      <td>1.25</td>\n",
       "      <td>...</td>\n",
       "      <td>False</td>\n",
       "      <td>False</td>\n",
       "      <td>True</td>\n",
       "      <td>False</td>\n",
       "      <td>False</td>\n",
       "      <td>False</td>\n",
       "      <td>False</td>\n",
       "      <td>False</td>\n",
       "      <td>False</td>\n",
       "      <td>0</td>\n",
       "    </tr>\n",
       "    <tr>\n",
       "      <th>12351.0</th>\n",
       "      <td>261</td>\n",
       "      <td>12.428571</td>\n",
       "      <td>1</td>\n",
       "      <td>25</td>\n",
       "      <td>2.355238</td>\n",
       "      <td>0.42</td>\n",
       "      <td>12.75</td>\n",
       "      <td>300.93</td>\n",
       "      <td>14.330000</td>\n",
       "      <td>9.90</td>\n",
       "      <td>...</td>\n",
       "      <td>False</td>\n",
       "      <td>False</td>\n",
       "      <td>False</td>\n",
       "      <td>False</td>\n",
       "      <td>False</td>\n",
       "      <td>False</td>\n",
       "      <td>False</td>\n",
       "      <td>False</td>\n",
       "      <td>False</td>\n",
       "      <td>0</td>\n",
       "    </tr>\n",
       "    <tr>\n",
       "      <th>...</th>\n",
       "      <td>...</td>\n",
       "      <td>...</td>\n",
       "      <td>...</td>\n",
       "      <td>...</td>\n",
       "      <td>...</td>\n",
       "      <td>...</td>\n",
       "      <td>...</td>\n",
       "      <td>...</td>\n",
       "      <td>...</td>\n",
       "      <td>...</td>\n",
       "      <td>...</td>\n",
       "      <td>...</td>\n",
       "      <td>...</td>\n",
       "      <td>...</td>\n",
       "      <td>...</td>\n",
       "      <td>...</td>\n",
       "      <td>...</td>\n",
       "      <td>...</td>\n",
       "      <td>...</td>\n",
       "      <td>...</td>\n",
       "      <td>...</td>\n",
       "    </tr>\n",
       "    <tr>\n",
       "      <th>18283.0</th>\n",
       "      <td>322</td>\n",
       "      <td>1.483871</td>\n",
       "      <td>1</td>\n",
       "      <td>12</td>\n",
       "      <td>2.199401</td>\n",
       "      <td>0.21</td>\n",
       "      <td>10.95</td>\n",
       "      <td>619.37</td>\n",
       "      <td>2.854240</td>\n",
       "      <td>0.21</td>\n",
       "      <td>...</td>\n",
       "      <td>False</td>\n",
       "      <td>True</td>\n",
       "      <td>False</td>\n",
       "      <td>False</td>\n",
       "      <td>False</td>\n",
       "      <td>True</td>\n",
       "      <td>True</td>\n",
       "      <td>False</td>\n",
       "      <td>True</td>\n",
       "      <td>2</td>\n",
       "    </tr>\n",
       "    <tr>\n",
       "      <th>18284.0</th>\n",
       "      <td>495</td>\n",
       "      <td>17.068966</td>\n",
       "      <td>1</td>\n",
       "      <td>50</td>\n",
       "      <td>4.003103</td>\n",
       "      <td>0.21</td>\n",
       "      <td>50.00</td>\n",
       "      <td>486.68</td>\n",
       "      <td>16.782069</td>\n",
       "      <td>6.30</td>\n",
       "      <td>...</td>\n",
       "      <td>False</td>\n",
       "      <td>False</td>\n",
       "      <td>False</td>\n",
       "      <td>False</td>\n",
       "      <td>False</td>\n",
       "      <td>False</td>\n",
       "      <td>False</td>\n",
       "      <td>False</td>\n",
       "      <td>False</td>\n",
       "      <td>0</td>\n",
       "    </tr>\n",
       "    <tr>\n",
       "      <th>18285.0</th>\n",
       "      <td>145</td>\n",
       "      <td>12.083333</td>\n",
       "      <td>1</td>\n",
       "      <td>80</td>\n",
       "      <td>8.350000</td>\n",
       "      <td>0.65</td>\n",
       "      <td>50.00</td>\n",
       "      <td>427.00</td>\n",
       "      <td>35.583333</td>\n",
       "      <td>7.80</td>\n",
       "      <td>...</td>\n",
       "      <td>False</td>\n",
       "      <td>True</td>\n",
       "      <td>False</td>\n",
       "      <td>False</td>\n",
       "      <td>False</td>\n",
       "      <td>False</td>\n",
       "      <td>False</td>\n",
       "      <td>False</td>\n",
       "      <td>False</td>\n",
       "      <td>0</td>\n",
       "    </tr>\n",
       "    <tr>\n",
       "      <th>18286.0</th>\n",
       "      <td>624</td>\n",
       "      <td>8.914286</td>\n",
       "      <td>1</td>\n",
       "      <td>36</td>\n",
       "      <td>4.379286</td>\n",
       "      <td>0.21</td>\n",
       "      <td>50.00</td>\n",
       "      <td>1404.43</td>\n",
       "      <td>20.063286</td>\n",
       "      <td>7.50</td>\n",
       "      <td>...</td>\n",
       "      <td>False</td>\n",
       "      <td>True</td>\n",
       "      <td>False</td>\n",
       "      <td>False</td>\n",
       "      <td>False</td>\n",
       "      <td>False</td>\n",
       "      <td>True</td>\n",
       "      <td>False</td>\n",
       "      <td>False</td>\n",
       "      <td>2</td>\n",
       "    </tr>\n",
       "    <tr>\n",
       "      <th>18287.0</th>\n",
       "      <td>1429</td>\n",
       "      <td>16.616279</td>\n",
       "      <td>1</td>\n",
       "      <td>60</td>\n",
       "      <td>2.841163</td>\n",
       "      <td>0.21</td>\n",
       "      <td>50.00</td>\n",
       "      <td>2350.81</td>\n",
       "      <td>27.335000</td>\n",
       "      <td>5.04</td>\n",
       "      <td>...</td>\n",
       "      <td>False</td>\n",
       "      <td>False</td>\n",
       "      <td>False</td>\n",
       "      <td>False</td>\n",
       "      <td>False</td>\n",
       "      <td>False</td>\n",
       "      <td>False</td>\n",
       "      <td>False</td>\n",
       "      <td>False</td>\n",
       "      <td>0</td>\n",
       "    </tr>\n",
       "  </tbody>\n",
       "</table>\n",
       "<p>4383 rows × 36 columns</p>\n",
       "</div>"
      ],
      "text/plain": [
       "             Quantity Sum  Quantity Mean  Quantity Min  Quantity Max  \\\n",
       "Customer ID                                                            \n",
       "12346.0                87       1.933333             1            10   \n",
       "12347.0               828      11.661972             3            36   \n",
       "12348.0               373      18.650000             1            24   \n",
       "12349.0               998       9.327103             1            48   \n",
       "12351.0               261      12.428571             1            25   \n",
       "...                   ...            ...           ...           ...   \n",
       "18283.0               322       1.483871             1            12   \n",
       "18284.0               495      17.068966             1            50   \n",
       "18285.0               145      12.083333             1            80   \n",
       "18286.0               624       8.914286             1            36   \n",
       "18287.0              1429      16.616279             1            60   \n",
       "\n",
       "             Price Mean  Price Min  Price Max  Transaction Price Sum  \\\n",
       "Customer ID                                                            \n",
       "12346.0       12.564889       1.00     142.31                 797.46   \n",
       "12347.0        2.295070       0.38      12.75                1323.32   \n",
       "12348.0        0.719500       0.29       1.45                 222.16   \n",
       "12349.0        8.406449       0.42     250.00                2695.29   \n",
       "12351.0        2.355238       0.42      12.75                 300.93   \n",
       "...                 ...        ...        ...                    ...   \n",
       "18283.0        2.199401       0.21      10.95                 619.37   \n",
       "18284.0        4.003103       0.21      50.00                 486.68   \n",
       "18285.0        8.350000       0.65      50.00                 427.00   \n",
       "18286.0        4.379286       0.21      50.00                1404.43   \n",
       "18287.0        2.841163       0.21      50.00                2350.81   \n",
       "\n",
       "             Transaction Price Mean  Transaction Price Min  ...  \\\n",
       "Customer ID                                                 ...   \n",
       "12346.0                   17.721333                   1.00  ...   \n",
       "12347.0                   18.638310                   7.80  ...   \n",
       "12348.0                   11.108000                   1.00  ...   \n",
       "12349.0                   25.189626                   1.25  ...   \n",
       "12351.0                   14.330000                   9.90  ...   \n",
       "...                             ...                    ...  ...   \n",
       "18283.0                    2.854240                   0.21  ...   \n",
       "18284.0                   16.782069                   6.30  ...   \n",
       "18285.0                   35.583333                   7.80  ...   \n",
       "18286.0                   20.063286                   7.50  ...   \n",
       "18287.0                   27.335000                   5.04  ...   \n",
       "\n",
       "             WOOD S/3 CABINET ANT WHITE FINISH  \\\n",
       "Customer ID                                      \n",
       "12346.0                                  False   \n",
       "12347.0                                  False   \n",
       "12348.0                                  False   \n",
       "12349.0                                  False   \n",
       "12351.0                                  False   \n",
       "...                                        ...   \n",
       "18283.0                                  False   \n",
       "18284.0                                  False   \n",
       "18285.0                                  False   \n",
       "18286.0                                  False   \n",
       "18287.0                                  False   \n",
       "\n",
       "             VICTORIAN GLASS HANGING T-LIGHT  \\\n",
       "Customer ID                                    \n",
       "12346.0                                False   \n",
       "12347.0                                False   \n",
       "12348.0                                False   \n",
       "12349.0                                False   \n",
       "12351.0                                False   \n",
       "...                                      ...   \n",
       "18283.0                                 True   \n",
       "18284.0                                False   \n",
       "18285.0                                 True   \n",
       "18286.0                                 True   \n",
       "18287.0                                False   \n",
       "\n",
       "             SET/5 RED SPOTTY LID GLASS BOWLS WOODEN FRAME ANTIQUE WHITE   \\\n",
       "Customer ID                                                                 \n",
       "12346.0                                 False                       False   \n",
       "12347.0                                 False                       False   \n",
       "12348.0                                 False                       False   \n",
       "12349.0                                  True                       False   \n",
       "12351.0                                 False                       False   \n",
       "...                                       ...                         ...   \n",
       "18283.0                                 False                       False   \n",
       "18284.0                                 False                       False   \n",
       "18285.0                                 False                       False   \n",
       "18286.0                                 False                       False   \n",
       "18287.0                                 False                       False   \n",
       "\n",
       "            CHOCOLATE HOT WATER BOTTLE  I CAN ONLY PLEASE ONE PERSON MUG  \\\n",
       "Customer ID                                                                \n",
       "12346.0                          False                             False   \n",
       "12347.0                          False                             False   \n",
       "12348.0                          False                             False   \n",
       "12349.0                          False                             False   \n",
       "12351.0                          False                             False   \n",
       "...                                ...                               ...   \n",
       "18283.0                          False                              True   \n",
       "18284.0                          False                             False   \n",
       "18285.0                          False                             False   \n",
       "18286.0                          False                             False   \n",
       "18287.0                          False                             False   \n",
       "\n",
       "             JUMBO STORAGE BAG SUKI  ASSORTED COLOURS SILK FAN  \\\n",
       "Customer ID                                                      \n",
       "12346.0                       False                      False   \n",
       "12347.0                       False                      False   \n",
       "12348.0                       False                      False   \n",
       "12349.0                       False                      False   \n",
       "12351.0                       False                      False   \n",
       "...                             ...                        ...   \n",
       "18283.0                        True                      False   \n",
       "18284.0                       False                      False   \n",
       "18285.0                       False                      False   \n",
       "18286.0                        True                      False   \n",
       "18287.0                       False                      False   \n",
       "\n",
       "             STRAWBERRY CHARLOTTE BAG  Cluster  \n",
       "Customer ID                                     \n",
       "12346.0                         False        1  \n",
       "12347.0                         False        0  \n",
       "12348.0                         False        0  \n",
       "12349.0                         False        0  \n",
       "12351.0                         False        0  \n",
       "...                               ...      ...  \n",
       "18283.0                          True        2  \n",
       "18284.0                         False        0  \n",
       "18285.0                         False        0  \n",
       "18286.0                         False        2  \n",
       "18287.0                         False        0  \n",
       "\n",
       "[4383 rows x 36 columns]"
      ]
     },
     "execution_count": 806,
     "metadata": {},
     "output_type": "execute_result"
    }
   ],
   "source": [
    "df_customer"
   ]
  },
  {
   "cell_type": "markdown",
   "id": "centered-episode",
   "metadata": {},
   "source": [
    "### Most frequently purchased products"
   ]
  },
  {
   "cell_type": "markdown",
   "id": "outdoor-display",
   "metadata": {},
   "source": [
    "To incorporate the product information into customer segmentation, I will identify 20 most frequently purchased products, and for each of them produce a variable per costumer, telling whether the customer ever purchased that product."
   ]
  },
  {
   "cell_type": "code",
   "execution_count": 776,
   "id": "associate-beach",
   "metadata": {
    "scrolled": false
   },
   "outputs": [
    {
     "data": {
      "text/plain": [
       "WHITE HANGING HEART T-LIGHT HOLDER    165\n",
       "POSTAGE                                73\n",
       "Manual                                 60\n",
       "REGENCY CAKESTAND 3 TIER               58\n",
       "HOME BUILDING BLOCK WORD               52\n",
       "STRAWBERRY CERAMIC TRINKET BOX         47\n",
       "BAKING SET 9 PIECE RETROSPOT           41\n",
       "LUNCH BAG WOODLAND                     36\n",
       "REX CASH+CARRY JUMBO SHOPPER           34\n",
       "ASSORTED COLOUR BIRD ORNAMENT          32\n",
       "JUMBO BAG STRAWBERRY                   30\n",
       "WOOD S/3 CABINET ANT WHITE FINISH      30\n",
       "VICTORIAN GLASS HANGING T-LIGHT        28\n",
       "SET/5 RED SPOTTY LID GLASS BOWLS       27\n",
       "WOODEN FRAME ANTIQUE WHITE             25\n",
       "CHOCOLATE HOT WATER BOTTLE             24\n",
       "I CAN ONLY PLEASE ONE PERSON MUG       23\n",
       "JUMBO STORAGE BAG SUKI                 23\n",
       "ASSORTED COLOURS SILK FAN              22\n",
       "STRAWBERRY CHARLOTTE BAG               21\n",
       "RED HANGING HEART T-LIGHT HOLDER       21\n",
       "ANTIQUE SILVER TEA GLASS ENGRAVED      20\n",
       "PACK OF 72 SKULL CAKE CASES            20\n",
       "RED TOADSTOOL LED NIGHT LIGHT          19\n",
       "RETRO SPOT TEA SET CERAMIC 11 PC       19\n",
       "WOOD BLACK BOARD ANT WHITE FINISH      18\n",
       "HANGING JAM JAR T-LIGHT HOLDER         18\n",
       "HEART OF WICKER LARGE                  18\n",
       "LUNCH BAG SUKI  DESIGN                 18\n",
       "PAPER CHAIN KIT 50'S CHRISTMAS         17\n",
       "Name: Most Frequent Product, dtype: int64"
      ]
     },
     "execution_count": 776,
     "metadata": {},
     "output_type": "execute_result"
    }
   ],
   "source": [
    "df_customer['Most Frequent Product'].value_counts().head(30)"
   ]
  },
  {
   "cell_type": "code",
   "execution_count": 777,
   "id": "instructional-herald",
   "metadata": {},
   "outputs": [],
   "source": [
    "products = list(df_customer['Most Frequent Product'].value_counts().head(20).index)"
   ]
  },
  {
   "cell_type": "code",
   "execution_count": 778,
   "id": "under-insulation",
   "metadata": {},
   "outputs": [
    {
     "data": {
      "text/plain": [
       "['WHITE HANGING HEART T-LIGHT HOLDER',\n",
       " 'POSTAGE',\n",
       " 'Manual',\n",
       " 'REGENCY CAKESTAND 3 TIER',\n",
       " 'HOME BUILDING BLOCK WORD',\n",
       " 'STRAWBERRY CERAMIC TRINKET BOX',\n",
       " 'BAKING SET 9 PIECE RETROSPOT ',\n",
       " 'LUNCH BAG WOODLAND',\n",
       " 'REX CASH+CARRY JUMBO SHOPPER',\n",
       " 'ASSORTED COLOUR BIRD ORNAMENT',\n",
       " 'JUMBO BAG STRAWBERRY',\n",
       " 'WOOD S/3 CABINET ANT WHITE FINISH',\n",
       " 'VICTORIAN GLASS HANGING T-LIGHT',\n",
       " 'SET/5 RED SPOTTY LID GLASS BOWLS',\n",
       " 'WOODEN FRAME ANTIQUE WHITE ',\n",
       " 'CHOCOLATE HOT WATER BOTTLE',\n",
       " 'I CAN ONLY PLEASE ONE PERSON MUG',\n",
       " 'JUMBO STORAGE BAG SUKI',\n",
       " 'ASSORTED COLOURS SILK FAN',\n",
       " 'STRAWBERRY CHARLOTTE BAG']"
      ]
     },
     "execution_count": 778,
     "metadata": {},
     "output_type": "execute_result"
    }
   ],
   "source": [
    "products"
   ]
  },
  {
   "cell_type": "code",
   "execution_count": 779,
   "id": "juvenile-advantage",
   "metadata": {},
   "outputs": [],
   "source": [
    "df_pd = pd.DataFrame(df.groupby('Customer ID').Description.apply(lambda x: 'WHITE HANGING HEART T-LIGHT HOLDER' in list(x))).rename(columns={'Description':'WHITE HANGING HEART T-LIGHT HOLDER'})"
   ]
  },
  {
   "cell_type": "code",
   "execution_count": 780,
   "id": "ruled-curve",
   "metadata": {},
   "outputs": [],
   "source": [
    "for p in products:\n",
    "    if p==products[0]:\n",
    "        continue\n",
    "    tmp = pd.DataFrame(df.groupby('Customer ID').Description.\\\n",
    "                       apply(lambda x: p in list(x))).\\\n",
    "                        rename(columns={'Description':p})\n",
    "    df_pd = pd.merge(df_pd, tmp, on='Customer ID')"
   ]
  },
  {
   "cell_type": "code",
   "execution_count": 781,
   "id": "ruled-softball",
   "metadata": {
    "scrolled": true
   },
   "outputs": [
    {
     "data": {
      "text/html": [
       "<div>\n",
       "<style scoped>\n",
       "    .dataframe tbody tr th:only-of-type {\n",
       "        vertical-align: middle;\n",
       "    }\n",
       "\n",
       "    .dataframe tbody tr th {\n",
       "        vertical-align: top;\n",
       "    }\n",
       "\n",
       "    .dataframe thead th {\n",
       "        text-align: right;\n",
       "    }\n",
       "</style>\n",
       "<table border=\"1\" class=\"dataframe\">\n",
       "  <thead>\n",
       "    <tr style=\"text-align: right;\">\n",
       "      <th></th>\n",
       "      <th>WHITE HANGING HEART T-LIGHT HOLDER</th>\n",
       "      <th>POSTAGE</th>\n",
       "      <th>Manual</th>\n",
       "      <th>REGENCY CAKESTAND 3 TIER</th>\n",
       "      <th>HOME BUILDING BLOCK WORD</th>\n",
       "      <th>STRAWBERRY CERAMIC TRINKET BOX</th>\n",
       "      <th>BAKING SET 9 PIECE RETROSPOT</th>\n",
       "      <th>LUNCH BAG WOODLAND</th>\n",
       "      <th>REX CASH+CARRY JUMBO SHOPPER</th>\n",
       "      <th>ASSORTED COLOUR BIRD ORNAMENT</th>\n",
       "      <th>JUMBO BAG STRAWBERRY</th>\n",
       "      <th>WOOD S/3 CABINET ANT WHITE FINISH</th>\n",
       "      <th>VICTORIAN GLASS HANGING T-LIGHT</th>\n",
       "      <th>SET/5 RED SPOTTY LID GLASS BOWLS</th>\n",
       "      <th>WOODEN FRAME ANTIQUE WHITE</th>\n",
       "      <th>CHOCOLATE HOT WATER BOTTLE</th>\n",
       "      <th>I CAN ONLY PLEASE ONE PERSON MUG</th>\n",
       "      <th>JUMBO STORAGE BAG SUKI</th>\n",
       "      <th>ASSORTED COLOURS SILK FAN</th>\n",
       "      <th>STRAWBERRY CHARLOTTE BAG</th>\n",
       "    </tr>\n",
       "    <tr>\n",
       "      <th>Customer ID</th>\n",
       "      <th></th>\n",
       "      <th></th>\n",
       "      <th></th>\n",
       "      <th></th>\n",
       "      <th></th>\n",
       "      <th></th>\n",
       "      <th></th>\n",
       "      <th></th>\n",
       "      <th></th>\n",
       "      <th></th>\n",
       "      <th></th>\n",
       "      <th></th>\n",
       "      <th></th>\n",
       "      <th></th>\n",
       "      <th></th>\n",
       "      <th></th>\n",
       "      <th></th>\n",
       "      <th></th>\n",
       "      <th></th>\n",
       "      <th></th>\n",
       "    </tr>\n",
       "  </thead>\n",
       "  <tbody>\n",
       "    <tr>\n",
       "      <th>12346.0</th>\n",
       "      <td>False</td>\n",
       "      <td>False</td>\n",
       "      <td>True</td>\n",
       "      <td>False</td>\n",
       "      <td>False</td>\n",
       "      <td>False</td>\n",
       "      <td>False</td>\n",
       "      <td>False</td>\n",
       "      <td>False</td>\n",
       "      <td>False</td>\n",
       "      <td>False</td>\n",
       "      <td>False</td>\n",
       "      <td>False</td>\n",
       "      <td>False</td>\n",
       "      <td>False</td>\n",
       "      <td>False</td>\n",
       "      <td>False</td>\n",
       "      <td>False</td>\n",
       "      <td>False</td>\n",
       "      <td>False</td>\n",
       "    </tr>\n",
       "    <tr>\n",
       "      <th>12347.0</th>\n",
       "      <td>False</td>\n",
       "      <td>False</td>\n",
       "      <td>False</td>\n",
       "      <td>True</td>\n",
       "      <td>False</td>\n",
       "      <td>False</td>\n",
       "      <td>False</td>\n",
       "      <td>False</td>\n",
       "      <td>False</td>\n",
       "      <td>False</td>\n",
       "      <td>False</td>\n",
       "      <td>False</td>\n",
       "      <td>False</td>\n",
       "      <td>False</td>\n",
       "      <td>False</td>\n",
       "      <td>False</td>\n",
       "      <td>False</td>\n",
       "      <td>False</td>\n",
       "      <td>False</td>\n",
       "      <td>False</td>\n",
       "    </tr>\n",
       "    <tr>\n",
       "      <th>12348.0</th>\n",
       "      <td>False</td>\n",
       "      <td>True</td>\n",
       "      <td>False</td>\n",
       "      <td>False</td>\n",
       "      <td>False</td>\n",
       "      <td>False</td>\n",
       "      <td>False</td>\n",
       "      <td>False</td>\n",
       "      <td>False</td>\n",
       "      <td>False</td>\n",
       "      <td>False</td>\n",
       "      <td>False</td>\n",
       "      <td>False</td>\n",
       "      <td>False</td>\n",
       "      <td>False</td>\n",
       "      <td>False</td>\n",
       "      <td>False</td>\n",
       "      <td>False</td>\n",
       "      <td>False</td>\n",
       "      <td>False</td>\n",
       "    </tr>\n",
       "    <tr>\n",
       "      <th>12349.0</th>\n",
       "      <td>False</td>\n",
       "      <td>True</td>\n",
       "      <td>False</td>\n",
       "      <td>False</td>\n",
       "      <td>False</td>\n",
       "      <td>True</td>\n",
       "      <td>False</td>\n",
       "      <td>False</td>\n",
       "      <td>False</td>\n",
       "      <td>True</td>\n",
       "      <td>False</td>\n",
       "      <td>False</td>\n",
       "      <td>False</td>\n",
       "      <td>True</td>\n",
       "      <td>False</td>\n",
       "      <td>False</td>\n",
       "      <td>False</td>\n",
       "      <td>False</td>\n",
       "      <td>False</td>\n",
       "      <td>False</td>\n",
       "    </tr>\n",
       "    <tr>\n",
       "      <th>12351.0</th>\n",
       "      <td>False</td>\n",
       "      <td>False</td>\n",
       "      <td>False</td>\n",
       "      <td>False</td>\n",
       "      <td>False</td>\n",
       "      <td>False</td>\n",
       "      <td>False</td>\n",
       "      <td>False</td>\n",
       "      <td>False</td>\n",
       "      <td>False</td>\n",
       "      <td>False</td>\n",
       "      <td>False</td>\n",
       "      <td>False</td>\n",
       "      <td>False</td>\n",
       "      <td>False</td>\n",
       "      <td>False</td>\n",
       "      <td>False</td>\n",
       "      <td>False</td>\n",
       "      <td>False</td>\n",
       "      <td>False</td>\n",
       "    </tr>\n",
       "    <tr>\n",
       "      <th>...</th>\n",
       "      <td>...</td>\n",
       "      <td>...</td>\n",
       "      <td>...</td>\n",
       "      <td>...</td>\n",
       "      <td>...</td>\n",
       "      <td>...</td>\n",
       "      <td>...</td>\n",
       "      <td>...</td>\n",
       "      <td>...</td>\n",
       "      <td>...</td>\n",
       "      <td>...</td>\n",
       "      <td>...</td>\n",
       "      <td>...</td>\n",
       "      <td>...</td>\n",
       "      <td>...</td>\n",
       "      <td>...</td>\n",
       "      <td>...</td>\n",
       "      <td>...</td>\n",
       "      <td>...</td>\n",
       "      <td>...</td>\n",
       "    </tr>\n",
       "    <tr>\n",
       "      <th>18283.0</th>\n",
       "      <td>True</td>\n",
       "      <td>False</td>\n",
       "      <td>False</td>\n",
       "      <td>False</td>\n",
       "      <td>False</td>\n",
       "      <td>True</td>\n",
       "      <td>False</td>\n",
       "      <td>True</td>\n",
       "      <td>True</td>\n",
       "      <td>False</td>\n",
       "      <td>False</td>\n",
       "      <td>False</td>\n",
       "      <td>True</td>\n",
       "      <td>False</td>\n",
       "      <td>False</td>\n",
       "      <td>False</td>\n",
       "      <td>True</td>\n",
       "      <td>True</td>\n",
       "      <td>False</td>\n",
       "      <td>True</td>\n",
       "    </tr>\n",
       "    <tr>\n",
       "      <th>18284.0</th>\n",
       "      <td>False</td>\n",
       "      <td>False</td>\n",
       "      <td>False</td>\n",
       "      <td>False</td>\n",
       "      <td>False</td>\n",
       "      <td>False</td>\n",
       "      <td>False</td>\n",
       "      <td>False</td>\n",
       "      <td>False</td>\n",
       "      <td>False</td>\n",
       "      <td>False</td>\n",
       "      <td>False</td>\n",
       "      <td>False</td>\n",
       "      <td>False</td>\n",
       "      <td>False</td>\n",
       "      <td>False</td>\n",
       "      <td>False</td>\n",
       "      <td>False</td>\n",
       "      <td>False</td>\n",
       "      <td>False</td>\n",
       "    </tr>\n",
       "    <tr>\n",
       "      <th>18285.0</th>\n",
       "      <td>False</td>\n",
       "      <td>False</td>\n",
       "      <td>False</td>\n",
       "      <td>False</td>\n",
       "      <td>False</td>\n",
       "      <td>False</td>\n",
       "      <td>False</td>\n",
       "      <td>False</td>\n",
       "      <td>False</td>\n",
       "      <td>False</td>\n",
       "      <td>False</td>\n",
       "      <td>False</td>\n",
       "      <td>True</td>\n",
       "      <td>False</td>\n",
       "      <td>False</td>\n",
       "      <td>False</td>\n",
       "      <td>False</td>\n",
       "      <td>False</td>\n",
       "      <td>False</td>\n",
       "      <td>False</td>\n",
       "    </tr>\n",
       "    <tr>\n",
       "      <th>18286.0</th>\n",
       "      <td>False</td>\n",
       "      <td>False</td>\n",
       "      <td>False</td>\n",
       "      <td>True</td>\n",
       "      <td>True</td>\n",
       "      <td>False</td>\n",
       "      <td>False</td>\n",
       "      <td>False</td>\n",
       "      <td>False</td>\n",
       "      <td>False</td>\n",
       "      <td>False</td>\n",
       "      <td>False</td>\n",
       "      <td>True</td>\n",
       "      <td>False</td>\n",
       "      <td>False</td>\n",
       "      <td>False</td>\n",
       "      <td>False</td>\n",
       "      <td>True</td>\n",
       "      <td>False</td>\n",
       "      <td>False</td>\n",
       "    </tr>\n",
       "    <tr>\n",
       "      <th>18287.0</th>\n",
       "      <td>False</td>\n",
       "      <td>False</td>\n",
       "      <td>False</td>\n",
       "      <td>False</td>\n",
       "      <td>False</td>\n",
       "      <td>True</td>\n",
       "      <td>False</td>\n",
       "      <td>False</td>\n",
       "      <td>False</td>\n",
       "      <td>True</td>\n",
       "      <td>False</td>\n",
       "      <td>False</td>\n",
       "      <td>False</td>\n",
       "      <td>False</td>\n",
       "      <td>False</td>\n",
       "      <td>False</td>\n",
       "      <td>False</td>\n",
       "      <td>False</td>\n",
       "      <td>False</td>\n",
       "      <td>False</td>\n",
       "    </tr>\n",
       "  </tbody>\n",
       "</table>\n",
       "<p>4383 rows × 20 columns</p>\n",
       "</div>"
      ],
      "text/plain": [
       "             WHITE HANGING HEART T-LIGHT HOLDER  POSTAGE  Manual  \\\n",
       "Customer ID                                                        \n",
       "12346.0                                   False    False    True   \n",
       "12347.0                                   False    False   False   \n",
       "12348.0                                   False     True   False   \n",
       "12349.0                                   False     True   False   \n",
       "12351.0                                   False    False   False   \n",
       "...                                         ...      ...     ...   \n",
       "18283.0                                    True    False   False   \n",
       "18284.0                                   False    False   False   \n",
       "18285.0                                   False    False   False   \n",
       "18286.0                                   False    False   False   \n",
       "18287.0                                   False    False   False   \n",
       "\n",
       "             REGENCY CAKESTAND 3 TIER  HOME BUILDING BLOCK WORD  \\\n",
       "Customer ID                                                       \n",
       "12346.0                         False                     False   \n",
       "12347.0                          True                     False   \n",
       "12348.0                         False                     False   \n",
       "12349.0                         False                     False   \n",
       "12351.0                         False                     False   \n",
       "...                               ...                       ...   \n",
       "18283.0                         False                     False   \n",
       "18284.0                         False                     False   \n",
       "18285.0                         False                     False   \n",
       "18286.0                          True                      True   \n",
       "18287.0                         False                     False   \n",
       "\n",
       "             STRAWBERRY CERAMIC TRINKET BOX  BAKING SET 9 PIECE RETROSPOT   \\\n",
       "Customer ID                                                                  \n",
       "12346.0                               False                          False   \n",
       "12347.0                               False                          False   \n",
       "12348.0                               False                          False   \n",
       "12349.0                                True                          False   \n",
       "12351.0                               False                          False   \n",
       "...                                     ...                            ...   \n",
       "18283.0                                True                          False   \n",
       "18284.0                               False                          False   \n",
       "18285.0                               False                          False   \n",
       "18286.0                               False                          False   \n",
       "18287.0                                True                          False   \n",
       "\n",
       "             LUNCH BAG WOODLAND  REX CASH+CARRY JUMBO SHOPPER  \\\n",
       "Customer ID                                                     \n",
       "12346.0                   False                         False   \n",
       "12347.0                   False                         False   \n",
       "12348.0                   False                         False   \n",
       "12349.0                   False                         False   \n",
       "12351.0                   False                         False   \n",
       "...                         ...                           ...   \n",
       "18283.0                    True                          True   \n",
       "18284.0                   False                         False   \n",
       "18285.0                   False                         False   \n",
       "18286.0                   False                         False   \n",
       "18287.0                   False                         False   \n",
       "\n",
       "             ASSORTED COLOUR BIRD ORNAMENT  JUMBO BAG STRAWBERRY  \\\n",
       "Customer ID                                                        \n",
       "12346.0                              False                 False   \n",
       "12347.0                              False                 False   \n",
       "12348.0                              False                 False   \n",
       "12349.0                               True                 False   \n",
       "12351.0                              False                 False   \n",
       "...                                    ...                   ...   \n",
       "18283.0                              False                 False   \n",
       "18284.0                              False                 False   \n",
       "18285.0                              False                 False   \n",
       "18286.0                              False                 False   \n",
       "18287.0                               True                 False   \n",
       "\n",
       "             WOOD S/3 CABINET ANT WHITE FINISH  \\\n",
       "Customer ID                                      \n",
       "12346.0                                  False   \n",
       "12347.0                                  False   \n",
       "12348.0                                  False   \n",
       "12349.0                                  False   \n",
       "12351.0                                  False   \n",
       "...                                        ...   \n",
       "18283.0                                  False   \n",
       "18284.0                                  False   \n",
       "18285.0                                  False   \n",
       "18286.0                                  False   \n",
       "18287.0                                  False   \n",
       "\n",
       "             VICTORIAN GLASS HANGING T-LIGHT  \\\n",
       "Customer ID                                    \n",
       "12346.0                                False   \n",
       "12347.0                                False   \n",
       "12348.0                                False   \n",
       "12349.0                                False   \n",
       "12351.0                                False   \n",
       "...                                      ...   \n",
       "18283.0                                 True   \n",
       "18284.0                                False   \n",
       "18285.0                                 True   \n",
       "18286.0                                 True   \n",
       "18287.0                                False   \n",
       "\n",
       "             SET/5 RED SPOTTY LID GLASS BOWLS  WOODEN FRAME ANTIQUE WHITE   \\\n",
       "Customer ID                                                                  \n",
       "12346.0                                 False                        False   \n",
       "12347.0                                 False                        False   \n",
       "12348.0                                 False                        False   \n",
       "12349.0                                  True                        False   \n",
       "12351.0                                 False                        False   \n",
       "...                                       ...                          ...   \n",
       "18283.0                                 False                        False   \n",
       "18284.0                                 False                        False   \n",
       "18285.0                                 False                        False   \n",
       "18286.0                                 False                        False   \n",
       "18287.0                                 False                        False   \n",
       "\n",
       "             CHOCOLATE HOT WATER BOTTLE  I CAN ONLY PLEASE ONE PERSON MUG  \\\n",
       "Customer ID                                                                 \n",
       "12346.0                           False                             False   \n",
       "12347.0                           False                             False   \n",
       "12348.0                           False                             False   \n",
       "12349.0                           False                             False   \n",
       "12351.0                           False                             False   \n",
       "...                                 ...                               ...   \n",
       "18283.0                           False                              True   \n",
       "18284.0                           False                             False   \n",
       "18285.0                           False                             False   \n",
       "18286.0                           False                             False   \n",
       "18287.0                           False                             False   \n",
       "\n",
       "             JUMBO STORAGE BAG SUKI  ASSORTED COLOURS SILK FAN  \\\n",
       "Customer ID                                                      \n",
       "12346.0                       False                      False   \n",
       "12347.0                       False                      False   \n",
       "12348.0                       False                      False   \n",
       "12349.0                       False                      False   \n",
       "12351.0                       False                      False   \n",
       "...                             ...                        ...   \n",
       "18283.0                        True                      False   \n",
       "18284.0                       False                      False   \n",
       "18285.0                       False                      False   \n",
       "18286.0                        True                      False   \n",
       "18287.0                       False                      False   \n",
       "\n",
       "             STRAWBERRY CHARLOTTE BAG  \n",
       "Customer ID                            \n",
       "12346.0                         False  \n",
       "12347.0                         False  \n",
       "12348.0                         False  \n",
       "12349.0                         False  \n",
       "12351.0                         False  \n",
       "...                               ...  \n",
       "18283.0                          True  \n",
       "18284.0                         False  \n",
       "18285.0                         False  \n",
       "18286.0                         False  \n",
       "18287.0                         False  \n",
       "\n",
       "[4383 rows x 20 columns]"
      ]
     },
     "execution_count": 781,
     "metadata": {},
     "output_type": "execute_result"
    }
   ],
   "source": [
    "df_pd"
   ]
  },
  {
   "cell_type": "code",
   "execution_count": 782,
   "id": "amazing-springfield",
   "metadata": {},
   "outputs": [],
   "source": [
    "df_customer = pd.merge(df_customer, df_pd, on='Customer ID')"
   ]
  },
  {
   "cell_type": "code",
   "execution_count": 783,
   "id": "outside-boutique",
   "metadata": {},
   "outputs": [
    {
     "data": {
      "text/plain": [
       "Index(['Quantity Sum', 'Quantity Mean', 'Quantity Min', 'Quantity Max',\n",
       "       'Price Mean', 'Price Min', 'Price Max', 'Transaction Price Sum',\n",
       "       'Transaction Price Mean', 'Transaction Price Min',\n",
       "       'Transaction Price Max', 'Customer Cancellation Rate',\n",
       "       'Customer With Cancellations', 'Most Frequent Product', 'Country',\n",
       "       'WHITE HANGING HEART T-LIGHT HOLDER', 'POSTAGE', 'Manual',\n",
       "       'REGENCY CAKESTAND 3 TIER', 'HOME BUILDING BLOCK WORD',\n",
       "       'STRAWBERRY CERAMIC TRINKET BOX', 'BAKING SET 9 PIECE RETROSPOT ',\n",
       "       'LUNCH BAG WOODLAND', 'REX CASH+CARRY JUMBO SHOPPER',\n",
       "       'ASSORTED COLOUR BIRD ORNAMENT', 'JUMBO BAG STRAWBERRY',\n",
       "       'WOOD S/3 CABINET ANT WHITE FINISH', 'VICTORIAN GLASS HANGING T-LIGHT',\n",
       "       'SET/5 RED SPOTTY LID GLASS BOWLS', 'WOODEN FRAME ANTIQUE WHITE ',\n",
       "       'CHOCOLATE HOT WATER BOTTLE', 'I CAN ONLY PLEASE ONE PERSON MUG',\n",
       "       'JUMBO STORAGE BAG SUKI', 'ASSORTED COLOURS SILK FAN',\n",
       "       'STRAWBERRY CHARLOTTE BAG'],\n",
       "      dtype='object')"
      ]
     },
     "execution_count": 783,
     "metadata": {},
     "output_type": "execute_result"
    }
   ],
   "source": [
    "df_customer.columns"
   ]
  },
  {
   "cell_type": "markdown",
   "id": "rapid-treatment",
   "metadata": {},
   "source": [
    "## Clustering customers"
   ]
  },
  {
   "cell_type": "markdown",
   "id": "virtual-coast",
   "metadata": {},
   "source": [
    "Prepare data for clustering."
   ]
  },
  {
   "cell_type": "code",
   "execution_count": 797,
   "id": "incoming-malaysia",
   "metadata": {},
   "outputs": [],
   "source": [
    "from sklearn.preprocessing import StandardScaler\n",
    "\n",
    "scaler = StandardScaler()\n",
    "\n",
    "X = scaler.fit_transform(df_customer.drop(['Customer Cancellation Rate', 'Customer With Cancellations', 'Most Frequent Product', 'Country'], axis=1))"
   ]
  },
  {
   "cell_type": "markdown",
   "id": "loose-mauritius",
   "metadata": {},
   "source": [
    "Optimising the number of clusers."
   ]
  },
  {
   "cell_type": "code",
   "execution_count": 798,
   "id": "psychological-crystal",
   "metadata": {
    "scrolled": true
   },
   "outputs": [
    {
     "name": "stdout",
     "output_type": "stream",
     "text": [
      "=========\n",
      "k = 1\n",
      "Customers per cluster:\n",
      "0    4383\n",
      "dtype: int64\n",
      "=========\n",
      "k = 2\n",
      "Customers per cluster:\n",
      "0    4381\n",
      "1       2\n",
      "dtype: int64\n",
      "=========\n",
      "k = 3\n",
      "Customers per cluster:\n",
      "1    3596\n",
      "0     786\n",
      "2       1\n",
      "dtype: int64\n",
      "=========\n",
      "k = 4\n",
      "Customers per cluster:\n",
      "2    3592\n",
      "0     784\n",
      "3       5\n",
      "1       2\n",
      "dtype: int64\n",
      "=========\n",
      "k = 5\n",
      "Customers per cluster:\n",
      "2    3527\n",
      "1     481\n",
      "0     362\n",
      "3      11\n",
      "4       2\n",
      "dtype: int64\n",
      "=========\n",
      "k = 6\n",
      "Customers per cluster:\n",
      "0    3374\n",
      "3     704\n",
      "1     289\n",
      "5       9\n",
      "4       5\n",
      "2       2\n",
      "dtype: int64\n",
      "=========\n",
      "k = 7\n",
      "Customers per cluster:\n",
      "0    3523\n",
      "3     471\n",
      "2     365\n",
      "5      15\n",
      "1       6\n",
      "4       2\n",
      "6       1\n",
      "dtype: int64\n",
      "=========\n",
      "k = 8\n",
      "Customers per cluster:\n",
      "0    3273\n",
      "4     481\n",
      "5     348\n",
      "2     264\n",
      "7       6\n",
      "1       5\n",
      "6       5\n",
      "3       1\n",
      "dtype: int64\n",
      "=========\n",
      "k = 9\n",
      "Customers per cluster:\n",
      "0    2524\n",
      "8     662\n",
      "2     366\n",
      "4     289\n",
      "5     263\n",
      "7     263\n",
      "1      10\n",
      "6       4\n",
      "3       2\n",
      "dtype: int64\n",
      "=========\n",
      "k = 10\n",
      "Customers per cluster:\n",
      "9    2785\n",
      "2     477\n",
      "0     433\n",
      "1     261\n",
      "8     210\n",
      "4     200\n",
      "6       6\n",
      "3       5\n",
      "7       5\n",
      "5       1\n",
      "dtype: int64\n",
      "=========\n",
      "k = 11\n",
      "Customers per cluster:\n",
      "2     2369\n",
      "0      631\n",
      "9      402\n",
      "8      345\n",
      "6      343\n",
      "4      263\n",
      "5       10\n",
      "10       9\n",
      "3        5\n",
      "7        5\n",
      "1        1\n",
      "dtype: int64\n",
      "=========\n",
      "k = 12\n",
      "Customers per cluster:\n",
      "1     2431\n",
      "5      686\n",
      "10     260\n",
      "11     224\n",
      "6      205\n",
      "3      190\n",
      "7      184\n",
      "0      178\n",
      "2       12\n",
      "8        6\n",
      "9        6\n",
      "4        1\n",
      "dtype: int64\n",
      "=========\n",
      "k = 13\n",
      "Customers per cluster:\n",
      "1     2507\n",
      "0      351\n",
      "12     322\n",
      "3      258\n",
      "10     258\n",
      "8      256\n",
      "11     237\n",
      "4      164\n",
      "5       10\n",
      "9        9\n",
      "2        5\n",
      "7        5\n",
      "6        1\n",
      "dtype: int64\n",
      "=========\n",
      "k = 14\n",
      "Customers per cluster:\n",
      "6     2210\n",
      "0      532\n",
      "3      403\n",
      "12     285\n",
      "4      263\n",
      "2      223\n",
      "10     199\n",
      "9      184\n",
      "11      52\n",
      "7       14\n",
      "13       9\n",
      "8        6\n",
      "5        2\n",
      "1        1\n",
      "dtype: int64\n"
     ]
    },
    {
     "data": {
      "image/png": "[encoded data removed]",
      "text/plain": [
       "<Figure size 432x288 with 1 Axes>"
      ]
     },
     "metadata": {
      "needs_background": "light"
     },
     "output_type": "display_data"
    }
   ],
   "source": [
    "from scipy.spatial.distance import cdist\n",
    "distortions = []\n",
    "K = range(1,15)\n",
    "for k in K:\n",
    "    print('=========')\n",
    "    print(f'k = {k}')\n",
    "    kmeanModel = KMeans(init='k-means++', n_clusters=k, n_init=10, random_state=0)\n",
    "    y_km = kmeanModel.fit_predict(X)\n",
    "    print('Customers per cluster:')\n",
    "    print(pd.DataFrame(y_km).value_counts())\n",
    "    distortions.append(sum(np.min(cdist(X, kmeanModel.cluster_centers_, 'euclidean'), axis=1)) / df_customer.drop('Most Frequent Product', axis=1).shape[0])\n",
    "\n",
    "import matplotlib.pyplot as plt\n",
    "plt.plot(K, distortions, 'bx-')\n",
    "plt.xlabel('k')\n",
    "plt.ylabel('Distortion')\n",
    "plt.title('The Elbow Method showing the optimal k')\n",
    "plt.show()\n"
   ]
  },
  {
   "cell_type": "markdown",
   "id": "underlying-essex",
   "metadata": {},
   "source": [
    "Choice: running kmenas with 6 clusters to identify 3 large clusters and 3 small ones. Small ones are then merged into larger ones."
   ]
  },
  {
   "cell_type": "code",
   "execution_count": 799,
   "id": "quiet-perry",
   "metadata": {},
   "outputs": [],
   "source": [
    "k = 6\n",
    "kmeanModel = KMeans(init='k-means++', n_clusters=k, n_init=10, random_state=0)\n",
    "y_km = kmeanModel.fit_predict(X)\n",
    "df_customer['Cluster'] = y_km\n",
    "df_customer['Cluster'].replace([2, 4, 5], [1, 3, 3], inplace=True)\n",
    "df_customer['Cluster'].replace(3, 2, inplace=True)"
   ]
  },
  {
   "cell_type": "code",
   "execution_count": 800,
   "id": "recognized-label",
   "metadata": {},
   "outputs": [
    {
     "data": {
      "text/plain": [
       "0    3374\n",
       "2     718\n",
       "1     291\n",
       "Name: Cluster, dtype: int64"
      ]
     },
     "execution_count": 800,
     "metadata": {},
     "output_type": "execute_result"
    }
   ],
   "source": [
    "df_customer['Cluster'].value_counts()"
   ]
  },
  {
   "cell_type": "markdown",
   "id": "laughing-option",
   "metadata": {},
   "source": [
    "### Exploring clusters"
   ]
  },
  {
   "cell_type": "code",
   "execution_count": 801,
   "id": "adjustable-wagner",
   "metadata": {
    "scrolled": true
   },
   "outputs": [
    {
     "data": {
      "text/html": [
       "<div>\n",
       "<style scoped>\n",
       "    .dataframe tbody tr th:only-of-type {\n",
       "        vertical-align: middle;\n",
       "    }\n",
       "\n",
       "    .dataframe tbody tr th {\n",
       "        vertical-align: top;\n",
       "    }\n",
       "\n",
       "    .dataframe thead th {\n",
       "        text-align: right;\n",
       "    }\n",
       "</style>\n",
       "<table border=\"1\" class=\"dataframe\">\n",
       "  <thead>\n",
       "    <tr style=\"text-align: right;\">\n",
       "      <th></th>\n",
       "      <th>Quantity Sum</th>\n",
       "      <th>Quantity Mean</th>\n",
       "      <th>Quantity Min</th>\n",
       "      <th>Quantity Max</th>\n",
       "      <th>Price Mean</th>\n",
       "      <th>Price Min</th>\n",
       "      <th>Price Max</th>\n",
       "      <th>Transaction Price Sum</th>\n",
       "      <th>Transaction Price Mean</th>\n",
       "      <th>Transaction Price Min</th>\n",
       "      <th>...</th>\n",
       "      <th>WOOD S/3 CABINET ANT WHITE FINISH</th>\n",
       "      <th>VICTORIAN GLASS HANGING T-LIGHT</th>\n",
       "      <th>SET/5 RED SPOTTY LID GLASS BOWLS</th>\n",
       "      <th>WOODEN FRAME ANTIQUE WHITE</th>\n",
       "      <th>CHOCOLATE HOT WATER BOTTLE</th>\n",
       "      <th>I CAN ONLY PLEASE ONE PERSON MUG</th>\n",
       "      <th>JUMBO STORAGE BAG SUKI</th>\n",
       "      <th>ASSORTED COLOURS SILK FAN</th>\n",
       "      <th>STRAWBERRY CHARLOTTE BAG</th>\n",
       "      <th>Cluster</th>\n",
       "    </tr>\n",
       "    <tr>\n",
       "      <th>Customer ID</th>\n",
       "      <th></th>\n",
       "      <th></th>\n",
       "      <th></th>\n",
       "      <th></th>\n",
       "      <th></th>\n",
       "      <th></th>\n",
       "      <th></th>\n",
       "      <th></th>\n",
       "      <th></th>\n",
       "      <th></th>\n",
       "      <th></th>\n",
       "      <th></th>\n",
       "      <th></th>\n",
       "      <th></th>\n",
       "      <th></th>\n",
       "      <th></th>\n",
       "      <th></th>\n",
       "      <th></th>\n",
       "      <th></th>\n",
       "      <th></th>\n",
       "      <th></th>\n",
       "    </tr>\n",
       "  </thead>\n",
       "  <tbody>\n",
       "    <tr>\n",
       "      <th>12346.0</th>\n",
       "      <td>87</td>\n",
       "      <td>1.933333</td>\n",
       "      <td>1</td>\n",
       "      <td>10</td>\n",
       "      <td>12.564889</td>\n",
       "      <td>1.00</td>\n",
       "      <td>142.31</td>\n",
       "      <td>797.46</td>\n",
       "      <td>17.721333</td>\n",
       "      <td>1.00</td>\n",
       "      <td>...</td>\n",
       "      <td>False</td>\n",
       "      <td>False</td>\n",
       "      <td>False</td>\n",
       "      <td>False</td>\n",
       "      <td>False</td>\n",
       "      <td>False</td>\n",
       "      <td>False</td>\n",
       "      <td>False</td>\n",
       "      <td>False</td>\n",
       "      <td>1</td>\n",
       "    </tr>\n",
       "    <tr>\n",
       "      <th>12347.0</th>\n",
       "      <td>828</td>\n",
       "      <td>11.661972</td>\n",
       "      <td>3</td>\n",
       "      <td>36</td>\n",
       "      <td>2.295070</td>\n",
       "      <td>0.38</td>\n",
       "      <td>12.75</td>\n",
       "      <td>1323.32</td>\n",
       "      <td>18.638310</td>\n",
       "      <td>7.80</td>\n",
       "      <td>...</td>\n",
       "      <td>False</td>\n",
       "      <td>False</td>\n",
       "      <td>False</td>\n",
       "      <td>False</td>\n",
       "      <td>False</td>\n",
       "      <td>False</td>\n",
       "      <td>False</td>\n",
       "      <td>False</td>\n",
       "      <td>False</td>\n",
       "      <td>0</td>\n",
       "    </tr>\n",
       "    <tr>\n",
       "      <th>12348.0</th>\n",
       "      <td>373</td>\n",
       "      <td>18.650000</td>\n",
       "      <td>1</td>\n",
       "      <td>24</td>\n",
       "      <td>0.719500</td>\n",
       "      <td>0.29</td>\n",
       "      <td>1.45</td>\n",
       "      <td>222.16</td>\n",
       "      <td>11.108000</td>\n",
       "      <td>1.00</td>\n",
       "      <td>...</td>\n",
       "      <td>False</td>\n",
       "      <td>False</td>\n",
       "      <td>False</td>\n",
       "      <td>False</td>\n",
       "      <td>False</td>\n",
       "      <td>False</td>\n",
       "      <td>False</td>\n",
       "      <td>False</td>\n",
       "      <td>False</td>\n",
       "      <td>0</td>\n",
       "    </tr>\n",
       "    <tr>\n",
       "      <th>12349.0</th>\n",
       "      <td>998</td>\n",
       "      <td>9.327103</td>\n",
       "      <td>1</td>\n",
       "      <td>48</td>\n",
       "      <td>8.406449</td>\n",
       "      <td>0.42</td>\n",
       "      <td>250.00</td>\n",
       "      <td>2695.29</td>\n",
       "      <td>25.189626</td>\n",
       "      <td>1.25</td>\n",
       "      <td>...</td>\n",
       "      <td>False</td>\n",
       "      <td>False</td>\n",
       "      <td>True</td>\n",
       "      <td>False</td>\n",
       "      <td>False</td>\n",
       "      <td>False</td>\n",
       "      <td>False</td>\n",
       "      <td>False</td>\n",
       "      <td>False</td>\n",
       "      <td>0</td>\n",
       "    </tr>\n",
       "    <tr>\n",
       "      <th>12351.0</th>\n",
       "      <td>261</td>\n",
       "      <td>12.428571</td>\n",
       "      <td>1</td>\n",
       "      <td>25</td>\n",
       "      <td>2.355238</td>\n",
       "      <td>0.42</td>\n",
       "      <td>12.75</td>\n",
       "      <td>300.93</td>\n",
       "      <td>14.330000</td>\n",
       "      <td>9.90</td>\n",
       "      <td>...</td>\n",
       "      <td>False</td>\n",
       "      <td>False</td>\n",
       "      <td>False</td>\n",
       "      <td>False</td>\n",
       "      <td>False</td>\n",
       "      <td>False</td>\n",
       "      <td>False</td>\n",
       "      <td>False</td>\n",
       "      <td>False</td>\n",
       "      <td>0</td>\n",
       "    </tr>\n",
       "    <tr>\n",
       "      <th>...</th>\n",
       "      <td>...</td>\n",
       "      <td>...</td>\n",
       "      <td>...</td>\n",
       "      <td>...</td>\n",
       "      <td>...</td>\n",
       "      <td>...</td>\n",
       "      <td>...</td>\n",
       "      <td>...</td>\n",
       "      <td>...</td>\n",
       "      <td>...</td>\n",
       "      <td>...</td>\n",
       "      <td>...</td>\n",
       "      <td>...</td>\n",
       "      <td>...</td>\n",
       "      <td>...</td>\n",
       "      <td>...</td>\n",
       "      <td>...</td>\n",
       "      <td>...</td>\n",
       "      <td>...</td>\n",
       "      <td>...</td>\n",
       "      <td>...</td>\n",
       "    </tr>\n",
       "    <tr>\n",
       "      <th>18283.0</th>\n",
       "      <td>322</td>\n",
       "      <td>1.483871</td>\n",
       "      <td>1</td>\n",
       "      <td>12</td>\n",
       "      <td>2.199401</td>\n",
       "      <td>0.21</td>\n",
       "      <td>10.95</td>\n",
       "      <td>619.37</td>\n",
       "      <td>2.854240</td>\n",
       "      <td>0.21</td>\n",
       "      <td>...</td>\n",
       "      <td>False</td>\n",
       "      <td>True</td>\n",
       "      <td>False</td>\n",
       "      <td>False</td>\n",
       "      <td>False</td>\n",
       "      <td>True</td>\n",
       "      <td>True</td>\n",
       "      <td>False</td>\n",
       "      <td>True</td>\n",
       "      <td>2</td>\n",
       "    </tr>\n",
       "    <tr>\n",
       "      <th>18284.0</th>\n",
       "      <td>495</td>\n",
       "      <td>17.068966</td>\n",
       "      <td>1</td>\n",
       "      <td>50</td>\n",
       "      <td>4.003103</td>\n",
       "      <td>0.21</td>\n",
       "      <td>50.00</td>\n",
       "      <td>486.68</td>\n",
       "      <td>16.782069</td>\n",
       "      <td>6.30</td>\n",
       "      <td>...</td>\n",
       "      <td>False</td>\n",
       "      <td>False</td>\n",
       "      <td>False</td>\n",
       "      <td>False</td>\n",
       "      <td>False</td>\n",
       "      <td>False</td>\n",
       "      <td>False</td>\n",
       "      <td>False</td>\n",
       "      <td>False</td>\n",
       "      <td>0</td>\n",
       "    </tr>\n",
       "    <tr>\n",
       "      <th>18285.0</th>\n",
       "      <td>145</td>\n",
       "      <td>12.083333</td>\n",
       "      <td>1</td>\n",
       "      <td>80</td>\n",
       "      <td>8.350000</td>\n",
       "      <td>0.65</td>\n",
       "      <td>50.00</td>\n",
       "      <td>427.00</td>\n",
       "      <td>35.583333</td>\n",
       "      <td>7.80</td>\n",
       "      <td>...</td>\n",
       "      <td>False</td>\n",
       "      <td>True</td>\n",
       "      <td>False</td>\n",
       "      <td>False</td>\n",
       "      <td>False</td>\n",
       "      <td>False</td>\n",
       "      <td>False</td>\n",
       "      <td>False</td>\n",
       "      <td>False</td>\n",
       "      <td>0</td>\n",
       "    </tr>\n",
       "    <tr>\n",
       "      <th>18286.0</th>\n",
       "      <td>624</td>\n",
       "      <td>8.914286</td>\n",
       "      <td>1</td>\n",
       "      <td>36</td>\n",
       "      <td>4.379286</td>\n",
       "      <td>0.21</td>\n",
       "      <td>50.00</td>\n",
       "      <td>1404.43</td>\n",
       "      <td>20.063286</td>\n",
       "      <td>7.50</td>\n",
       "      <td>...</td>\n",
       "      <td>False</td>\n",
       "      <td>True</td>\n",
       "      <td>False</td>\n",
       "      <td>False</td>\n",
       "      <td>False</td>\n",
       "      <td>False</td>\n",
       "      <td>True</td>\n",
       "      <td>False</td>\n",
       "      <td>False</td>\n",
       "      <td>2</td>\n",
       "    </tr>\n",
       "    <tr>\n",
       "      <th>18287.0</th>\n",
       "      <td>1429</td>\n",
       "      <td>16.616279</td>\n",
       "      <td>1</td>\n",
       "      <td>60</td>\n",
       "      <td>2.841163</td>\n",
       "      <td>0.21</td>\n",
       "      <td>50.00</td>\n",
       "      <td>2350.81</td>\n",
       "      <td>27.335000</td>\n",
       "      <td>5.04</td>\n",
       "      <td>...</td>\n",
       "      <td>False</td>\n",
       "      <td>False</td>\n",
       "      <td>False</td>\n",
       "      <td>False</td>\n",
       "      <td>False</td>\n",
       "      <td>False</td>\n",
       "      <td>False</td>\n",
       "      <td>False</td>\n",
       "      <td>False</td>\n",
       "      <td>0</td>\n",
       "    </tr>\n",
       "  </tbody>\n",
       "</table>\n",
       "<p>4383 rows × 36 columns</p>\n",
       "</div>"
      ],
      "text/plain": [
       "             Quantity Sum  Quantity Mean  Quantity Min  Quantity Max  \\\n",
       "Customer ID                                                            \n",
       "12346.0                87       1.933333             1            10   \n",
       "12347.0               828      11.661972             3            36   \n",
       "12348.0               373      18.650000             1            24   \n",
       "12349.0               998       9.327103             1            48   \n",
       "12351.0               261      12.428571             1            25   \n",
       "...                   ...            ...           ...           ...   \n",
       "18283.0               322       1.483871             1            12   \n",
       "18284.0               495      17.068966             1            50   \n",
       "18285.0               145      12.083333             1            80   \n",
       "18286.0               624       8.914286             1            36   \n",
       "18287.0              1429      16.616279             1            60   \n",
       "\n",
       "             Price Mean  Price Min  Price Max  Transaction Price Sum  \\\n",
       "Customer ID                                                            \n",
       "12346.0       12.564889       1.00     142.31                 797.46   \n",
       "12347.0        2.295070       0.38      12.75                1323.32   \n",
       "12348.0        0.719500       0.29       1.45                 222.16   \n",
       "12349.0        8.406449       0.42     250.00                2695.29   \n",
       "12351.0        2.355238       0.42      12.75                 300.93   \n",
       "...                 ...        ...        ...                    ...   \n",
       "18283.0        2.199401       0.21      10.95                 619.37   \n",
       "18284.0        4.003103       0.21      50.00                 486.68   \n",
       "18285.0        8.350000       0.65      50.00                 427.00   \n",
       "18286.0        4.379286       0.21      50.00                1404.43   \n",
       "18287.0        2.841163       0.21      50.00                2350.81   \n",
       "\n",
       "             Transaction Price Mean  Transaction Price Min  ...  \\\n",
       "Customer ID                                                 ...   \n",
       "12346.0                   17.721333                   1.00  ...   \n",
       "12347.0                   18.638310                   7.80  ...   \n",
       "12348.0                   11.108000                   1.00  ...   \n",
       "12349.0                   25.189626                   1.25  ...   \n",
       "12351.0                   14.330000                   9.90  ...   \n",
       "...                             ...                    ...  ...   \n",
       "18283.0                    2.854240                   0.21  ...   \n",
       "18284.0                   16.782069                   6.30  ...   \n",
       "18285.0                   35.583333                   7.80  ...   \n",
       "18286.0                   20.063286                   7.50  ...   \n",
       "18287.0                   27.335000                   5.04  ...   \n",
       "\n",
       "             WOOD S/3 CABINET ANT WHITE FINISH  \\\n",
       "Customer ID                                      \n",
       "12346.0                                  False   \n",
       "12347.0                                  False   \n",
       "12348.0                                  False   \n",
       "12349.0                                  False   \n",
       "12351.0                                  False   \n",
       "...                                        ...   \n",
       "18283.0                                  False   \n",
       "18284.0                                  False   \n",
       "18285.0                                  False   \n",
       "18286.0                                  False   \n",
       "18287.0                                  False   \n",
       "\n",
       "             VICTORIAN GLASS HANGING T-LIGHT  \\\n",
       "Customer ID                                    \n",
       "12346.0                                False   \n",
       "12347.0                                False   \n",
       "12348.0                                False   \n",
       "12349.0                                False   \n",
       "12351.0                                False   \n",
       "...                                      ...   \n",
       "18283.0                                 True   \n",
       "18284.0                                False   \n",
       "18285.0                                 True   \n",
       "18286.0                                 True   \n",
       "18287.0                                False   \n",
       "\n",
       "             SET/5 RED SPOTTY LID GLASS BOWLS WOODEN FRAME ANTIQUE WHITE   \\\n",
       "Customer ID                                                                 \n",
       "12346.0                                 False                       False   \n",
       "12347.0                                 False                       False   \n",
       "12348.0                                 False                       False   \n",
       "12349.0                                  True                       False   \n",
       "12351.0                                 False                       False   \n",
       "...                                       ...                         ...   \n",
       "18283.0                                 False                       False   \n",
       "18284.0                                 False                       False   \n",
       "18285.0                                 False                       False   \n",
       "18286.0                                 False                       False   \n",
       "18287.0                                 False                       False   \n",
       "\n",
       "            CHOCOLATE HOT WATER BOTTLE  I CAN ONLY PLEASE ONE PERSON MUG  \\\n",
       "Customer ID                                                                \n",
       "12346.0                          False                             False   \n",
       "12347.0                          False                             False   \n",
       "12348.0                          False                             False   \n",
       "12349.0                          False                             False   \n",
       "12351.0                          False                             False   \n",
       "...                                ...                               ...   \n",
       "18283.0                          False                              True   \n",
       "18284.0                          False                             False   \n",
       "18285.0                          False                             False   \n",
       "18286.0                          False                             False   \n",
       "18287.0                          False                             False   \n",
       "\n",
       "             JUMBO STORAGE BAG SUKI  ASSORTED COLOURS SILK FAN  \\\n",
       "Customer ID                                                      \n",
       "12346.0                       False                      False   \n",
       "12347.0                       False                      False   \n",
       "12348.0                       False                      False   \n",
       "12349.0                       False                      False   \n",
       "12351.0                       False                      False   \n",
       "...                             ...                        ...   \n",
       "18283.0                        True                      False   \n",
       "18284.0                       False                      False   \n",
       "18285.0                       False                      False   \n",
       "18286.0                        True                      False   \n",
       "18287.0                       False                      False   \n",
       "\n",
       "             STRAWBERRY CHARLOTTE BAG  Cluster  \n",
       "Customer ID                                     \n",
       "12346.0                         False        1  \n",
       "12347.0                         False        0  \n",
       "12348.0                         False        0  \n",
       "12349.0                         False        0  \n",
       "12351.0                         False        0  \n",
       "...                               ...      ...  \n",
       "18283.0                          True        2  \n",
       "18284.0                         False        0  \n",
       "18285.0                         False        0  \n",
       "18286.0                         False        2  \n",
       "18287.0                         False        0  \n",
       "\n",
       "[4383 rows x 36 columns]"
      ]
     },
     "execution_count": 801,
     "metadata": {},
     "output_type": "execute_result"
    }
   ],
   "source": [
    "df_customer"
   ]
  },
  {
   "cell_type": "code",
   "execution_count": 802,
   "id": "floral-charm",
   "metadata": {
    "scrolled": false
   },
   "outputs": [],
   "source": [
    "#import numpy as np\n",
    "#import matplotlib.pyplot as plt\n",
    "\n",
    "#variables = list(df_customer.select_dtypes(include=np.number).columns)\n",
    "\n",
    "#bins = 10\n",
    "\n",
    "#for var in variables:\n",
    "\n",
    "#plt.hist(df_customer['Quantity Sum'], bins, histtype='bar', fill=True, alpha=0.3)\n",
    "#    fig = sb.histplot(data=df_customer, x=var, hue='Cluster', bins=20, \\\n",
    "#                      element=\"step\", palette=[\"C0\", \"C3\", \"C9\"], stat=\"density\",\\\n",
    "                      #common_norm=False\n",
    "#                     )\n",
    "#    fig.set_yscale(\"log\")\n",
    "#    plt.show()\n",
    "\n"
   ]
  },
  {
   "cell_type": "code",
   "execution_count": 803,
   "id": "altered-floating",
   "metadata": {
    "scrolled": false
   },
   "outputs": [
    {
     "name": "stdout",
     "output_type": "stream",
     "text": [
      "========================\n",
      "Quantity Sum\n",
      "Cluster 0 median:\n",
      "288.0\n",
      "Cluster 1 median:\n",
      "534.0\n",
      "Cluster 2 median:\n",
      "1280.5\n"
     ]
    },
    {
     "data": {
      "image/png": "[encoded data removed]",
      "text/plain": [
       "<Figure size 432x288 with 1 Axes>"
      ]
     },
     "metadata": {
      "needs_background": "light"
     },
     "output_type": "display_data"
    },
    {
     "name": "stdout",
     "output_type": "stream",
     "text": [
      "========================\n",
      "Quantity Mean\n",
      "Cluster 0 median:\n",
      "9.634154040404042\n",
      "Cluster 1 median:\n",
      "4.9\n",
      "Cluster 2 median:\n",
      "7.633995760466349\n"
     ]
    },
    {
     "data": {
      "image/png": "[encoded data removed]",
      "text/plain": [
       "<Figure size 432x288 with 1 Axes>"
      ]
     },
     "metadata": {
      "needs_background": "light"
     },
     "output_type": "display_data"
    },
    {
     "name": "stdout",
     "output_type": "stream",
     "text": [
      "========================\n",
      "Quantity Min\n",
      "Cluster 0 median:\n",
      "1.0\n",
      "Cluster 1 median:\n",
      "1.0\n",
      "Cluster 2 median:\n",
      "1.0\n"
     ]
    },
    {
     "data": {
      "image/png": "[encoded data removed]",
      "text/plain": [
       "<Figure size 432x288 with 1 Axes>"
      ]
     },
     "metadata": {
      "needs_background": "light"
     },
     "output_type": "display_data"
    },
    {
     "name": "stdout",
     "output_type": "stream",
     "text": [
      "========================\n",
      "Quantity Max\n",
      "Cluster 0 median:\n",
      "36.0\n",
      "Cluster 1 median:\n",
      "36.0\n",
      "Cluster 2 median:\n",
      "48.0\n"
     ]
    },
    {
     "data": {
      "image/png": "[encoded data removed]",
      "text/plain": [
       "<Figure size 432x288 with 1 Axes>"
      ]
     },
     "metadata": {
      "needs_background": "light"
     },
     "output_type": "display_data"
    },
    {
     "name": "stdout",
     "output_type": "stream",
     "text": [
      "========================\n",
      "Price Mean\n",
      "Cluster 0 median:\n",
      "3.0390389016018307\n",
      "Cluster 1 median:\n",
      "3.2902631578947377\n",
      "Cluster 2 median:\n",
      "2.996996054211701\n"
     ]
    },
    {
     "data": {
      "image/png": "[encoded data removed]",
      "text/plain": [
       "<Figure size 432x288 with 1 Axes>"
      ]
     },
     "metadata": {
      "needs_background": "light"
     },
     "output_type": "display_data"
    },
    {
     "name": "stdout",
     "output_type": "stream",
     "text": [
      "========================\n",
      "Price Min\n",
      "Cluster 0 median:\n",
      "0.42\n",
      "Cluster 1 median:\n",
      "0.38\n",
      "Cluster 2 median:\n",
      "0.29\n"
     ]
    },
    {
     "data": {
      "image/png": "[encoded data removed]",
      "text/plain": [
       "<Figure size 432x288 with 1 Axes>"
      ]
     },
     "metadata": {
      "needs_background": "light"
     },
     "output_type": "display_data"
    },
    {
     "name": "stdout",
     "output_type": "stream",
     "text": [
      "========================\n",
      "Price Max\n",
      "Cluster 0 median:\n",
      "10.95\n",
      "Cluster 1 median:\n",
      "16.95\n",
      "Cluster 2 median:\n",
      "14.95\n"
     ]
    },
    {
     "data": {
      "image/png": "[encoded data removed]",
      "text/plain": [
       "<Figure size 432x288 with 1 Axes>"
      ]
     },
     "metadata": {
      "needs_background": "light"
     },
     "output_type": "display_data"
    },
    {
     "name": "stdout",
     "output_type": "stream",
     "text": [
      "========================\n",
      "Transaction Price Sum\n",
      "Cluster 0 median:\n",
      "527.455\n",
      "Cluster 1 median:\n",
      "1141.8700000000003\n",
      "Cluster 2 median:\n",
      "2502.6999999999985\n"
     ]
    },
    {
     "data": {
      "image/png": "[encoded data removed]",
      "text/plain": [
       "<Figure size 432x288 with 1 Axes>"
      ]
     },
     "metadata": {
      "needs_background": "light"
     },
     "output_type": "display_data"
    },
    {
     "name": "stdout",
     "output_type": "stream",
     "text": [
      "========================\n",
      "Transaction Price Mean\n",
      "Cluster 0 median:\n",
      "17.55644986449865\n",
      "Cluster 1 median:\n",
      "12.798402366863908\n",
      "Cluster 2 median:\n",
      "15.797018279569901\n"
     ]
    },
    {
     "data": {
      "image/png": "[encoded data removed]",
      "text/plain": [
       "<Figure size 432x288 with 1 Axes>"
      ]
     },
     "metadata": {
      "needs_background": "light"
     },
     "output_type": "display_data"
    },
    {
     "name": "stdout",
     "output_type": "stream",
     "text": [
      "========================\n",
      "Transaction Price Min\n",
      "Cluster 0 median:\n",
      "5.04\n",
      "Cluster 1 median:\n",
      "0.85\n",
      "Cluster 2 median:\n",
      "0.85\n"
     ]
    },
    {
     "data": {
      "image/png": "[encoded data removed]",
      "text/plain": [
       "<Figure size 432x288 with 1 Axes>"
      ]
     },
     "metadata": {
      "needs_background": "light"
     },
     "output_type": "display_data"
    },
    {
     "name": "stdout",
     "output_type": "stream",
     "text": [
      "========================\n",
      "Transaction Price Max\n",
      "Cluster 0 median:\n",
      "51.0\n",
      "Cluster 1 median:\n",
      "79.95\n",
      "Cluster 2 median:\n",
      "76.5\n"
     ]
    },
    {
     "data": {
      "image/png": "[encoded data removed]",
      "text/plain": [
       "<Figure size 432x288 with 1 Axes>"
      ]
     },
     "metadata": {
      "needs_background": "light"
     },
     "output_type": "display_data"
    },
    {
     "name": "stdout",
     "output_type": "stream",
     "text": [
      "========================\n",
      "Customer Cancellation Rate\n",
      "Cluster 0 median:\n",
      "0.0\n",
      "Cluster 1 median:\n",
      "0.011695906432748537\n",
      "Cluster 2 median:\n",
      "0.008791251255893036\n"
     ]
    },
    {
     "data": {
      "image/png": "[encoded data removed]",
      "text/plain": [
       "<Figure size 432x288 with 1 Axes>"
      ]
     },
     "metadata": {
      "needs_background": "light"
     },
     "output_type": "display_data"
    },
    {
     "name": "stdout",
     "output_type": "stream",
     "text": [
      "========================\n",
      "Customer With Cancellations\n",
      "Cluster 0 median:\n",
      "0.0\n",
      "Cluster 1 median:\n",
      "1.0\n",
      "Cluster 2 median:\n",
      "1.0\n"
     ]
    },
    {
     "data": {
      "image/png": "[encoded data removed]",
      "text/plain": [
       "<Figure size 432x288 with 1 Axes>"
      ]
     },
     "metadata": {
      "needs_background": "light"
     },
     "output_type": "display_data"
    }
   ],
   "source": [
    "import numpy as np\n",
    "import matplotlib.pyplot as plt\n",
    "\n",
    "variables = list(df_customer.select_dtypes(include=np.number).columns)\n",
    "variables.remove('Cluster')\n",
    "\n",
    "\n",
    "for var in variables:\n",
    "    print('========================')\n",
    "    print(var)\n",
    "    print('Cluster 0 median:')\n",
    "    print(df_customer.query('Cluster==0')[var].median())\n",
    "    print('Cluster 1 median:')\n",
    "    print(df_customer.query('Cluster==1')[var].median())\n",
    "    print('Cluster 2 median:')\n",
    "    print(df_customer.query('Cluster==2')[var].median())\n",
    "\n",
    "    fig, ax = plt.subplots()\n",
    "    bins = np.linspace(df_customer[var].min(), df_customer[var].max(), 10)\n",
    "    ax.set(xlim=(df_customer[var].min(), df_customer[var].max()))\n",
    "    #plt.xlim(left=df_customer[var].min())\n",
    "    #plt.xlim(right=df_customer[var].max())\n",
    "    #plt.xlim(df_customer[var].min(), df_customer[var].max())\n",
    "    plt.hist(df_customer.query('Cluster==0')[var],\\\n",
    "             bins=bins, alpha=0.3, density=True, label='Cluster 0')\n",
    "    plt.hist(df_customer.query('Cluster==1')[var],\\\n",
    "            bins=bins, alpha=0.3, density=True, label='Cluster 1')\n",
    "    plt.hist(df_customer.query('Cluster==2')[var],\\\n",
    "             bins=bins, alpha=0.3, density=True, label='Cluster 2')\n",
    "    #plt.xlim(0, 300000)\n",
    "    plt.xlim(df_customer[var].min(), df_customer[var].max())\n",
    "    #plt.ylim(0,2100)\n",
    "    plt.legend()\n",
    "    plt.xlabel(var)\n",
    "    #plt.yscale('log')\n",
    "    plt.show()"
   ]
  },
  {
   "cell_type": "markdown",
   "id": "north-ranch",
   "metadata": {},
   "source": [
    "Interpretation:\n",
    "- Cluster 0: low in Quantity, lowest fraction of customers that make any cancellations.\n",
    "- Cluster 1: highest prices on average, highest customer cancellation rate.\n",
    "- Cluster 2: high quantity of transaction, high fraction of customers who cancel, lowest customer cancellation rate"
   ]
  },
  {
   "cell_type": "markdown",
   "id": "sublime-boston",
   "metadata": {},
   "source": [
    "Cluster distribution across countries:"
   ]
  },
  {
   "cell_type": "code",
   "execution_count": 630,
   "id": "express-sarah",
   "metadata": {
    "scrolled": true
   },
   "outputs": [
    {
     "data": {
      "text/html": [
       "<div>\n",
       "<style scoped>\n",
       "    .dataframe tbody tr th:only-of-type {\n",
       "        vertical-align: middle;\n",
       "    }\n",
       "\n",
       "    .dataframe tbody tr th {\n",
       "        vertical-align: top;\n",
       "    }\n",
       "\n",
       "    .dataframe thead th {\n",
       "        text-align: right;\n",
       "    }\n",
       "</style>\n",
       "<table border=\"1\" class=\"dataframe\">\n",
       "  <thead>\n",
       "    <tr style=\"text-align: right;\">\n",
       "      <th></th>\n",
       "      <th>Cluster 0</th>\n",
       "      <th>Cluster 1</th>\n",
       "      <th>Cluster 2</th>\n",
       "    </tr>\n",
       "  </thead>\n",
       "  <tbody>\n",
       "    <tr>\n",
       "      <th>United Kingdom</th>\n",
       "      <td>1539</td>\n",
       "      <td>943</td>\n",
       "      <td>1552</td>\n",
       "    </tr>\n",
       "    <tr>\n",
       "      <th>France</th>\n",
       "      <td>21</td>\n",
       "      <td>6</td>\n",
       "      <td>20</td>\n",
       "    </tr>\n",
       "    <tr>\n",
       "      <th>Germany</th>\n",
       "      <td>19</td>\n",
       "      <td>16</td>\n",
       "      <td>33</td>\n",
       "    </tr>\n",
       "    <tr>\n",
       "      <th>Spain</th>\n",
       "      <td>10</td>\n",
       "      <td>7</td>\n",
       "      <td>7</td>\n",
       "    </tr>\n",
       "    <tr>\n",
       "      <th>Netherlands</th>\n",
       "      <td>9</td>\n",
       "      <td>6</td>\n",
       "      <td>8</td>\n",
       "    </tr>\n",
       "    <tr>\n",
       "      <th>Portugal</th>\n",
       "      <td>9</td>\n",
       "      <td>7</td>\n",
       "      <td>2</td>\n",
       "    </tr>\n",
       "    <tr>\n",
       "      <th>Sweden</th>\n",
       "      <td>8</td>\n",
       "      <td>4</td>\n",
       "      <td>4</td>\n",
       "    </tr>\n",
       "    <tr>\n",
       "      <th>Belgium</th>\n",
       "      <td>8</td>\n",
       "      <td>1</td>\n",
       "      <td>7</td>\n",
       "    </tr>\n",
       "    <tr>\n",
       "      <th>Switzerland</th>\n",
       "      <td>7</td>\n",
       "      <td>1</td>\n",
       "      <td>5</td>\n",
       "    </tr>\n",
       "    <tr>\n",
       "      <th>Australia</th>\n",
       "      <td>7</td>\n",
       "      <td>3</td>\n",
       "      <td>4</td>\n",
       "    </tr>\n",
       "    <tr>\n",
       "      <th>Channel Islands</th>\n",
       "      <td>6</td>\n",
       "      <td>2</td>\n",
       "      <td>4</td>\n",
       "    </tr>\n",
       "    <tr>\n",
       "      <th>Italy</th>\n",
       "      <td>6</td>\n",
       "      <td>2</td>\n",
       "      <td>3</td>\n",
       "    </tr>\n",
       "    <tr>\n",
       "      <th>Austria</th>\n",
       "      <td>3</td>\n",
       "      <td>2</td>\n",
       "      <td>5</td>\n",
       "    </tr>\n",
       "    <tr>\n",
       "      <th>Finland</th>\n",
       "      <td>2</td>\n",
       "      <td>3</td>\n",
       "      <td>3</td>\n",
       "    </tr>\n",
       "    <tr>\n",
       "      <th>Japan</th>\n",
       "      <td>2</td>\n",
       "      <td>2</td>\n",
       "      <td>2</td>\n",
       "    </tr>\n",
       "    <tr>\n",
       "      <th>Cyprus</th>\n",
       "      <td>1</td>\n",
       "      <td>3</td>\n",
       "      <td>3</td>\n",
       "    </tr>\n",
       "    <tr>\n",
       "      <th>Greece</th>\n",
       "      <td>1</td>\n",
       "      <td>1</td>\n",
       "      <td>2</td>\n",
       "    </tr>\n",
       "    <tr>\n",
       "      <th>USA</th>\n",
       "      <td>1</td>\n",
       "      <td>4</td>\n",
       "      <td>1</td>\n",
       "    </tr>\n",
       "    <tr>\n",
       "      <th>United Arab Emirates</th>\n",
       "      <td>1</td>\n",
       "      <td>2</td>\n",
       "      <td>1</td>\n",
       "    </tr>\n",
       "    <tr>\n",
       "      <th>Unspecified</th>\n",
       "      <td>1</td>\n",
       "      <td>2</td>\n",
       "      <td>2</td>\n",
       "    </tr>\n",
       "  </tbody>\n",
       "</table>\n",
       "</div>"
      ],
      "text/plain": [
       "                      Cluster 0  Cluster 1  Cluster 2\n",
       "United Kingdom             1539        943       1552\n",
       "France                       21          6         20\n",
       "Germany                      19         16         33\n",
       "Spain                        10          7          7\n",
       "Netherlands                   9          6          8\n",
       "Portugal                      9          7          2\n",
       "Sweden                        8          4          4\n",
       "Belgium                       8          1          7\n",
       "Switzerland                   7          1          5\n",
       "Australia                     7          3          4\n",
       "Channel Islands               6          2          4\n",
       "Italy                         6          2          3\n",
       "Austria                       3          2          5\n",
       "Finland                       2          3          3\n",
       "Japan                         2          2          2\n",
       "Cyprus                        1          3          3\n",
       "Greece                        1          1          2\n",
       "USA                           1          4          1\n",
       "United Arab Emirates          1          2          1\n",
       "Unspecified                   1          2          2"
      ]
     },
     "execution_count": 630,
     "metadata": {},
     "output_type": "execute_result"
    }
   ],
   "source": [
    "df_country = pd.DataFrame((df_customer.query('Cluster==0')['Country'].\\\n",
    "                           value_counts())).rename(columns={'Country':'Cluster 0'})\n",
    "\n",
    "tmp = pd.DataFrame((df_customer.query('Cluster==1')['Country'].\\\n",
    "                    value_counts())).rename(columns={'Country':'Cluster 1'})\n",
    "df_country = pd.merge(df_country, tmp, left_index=True, right_index=True)\n",
    "\n",
    "tmp = pd.DataFrame((df_customer.query('Cluster==2')['Country'].\\\n",
    "                    value_counts())).rename(columns={'Country':'Cluster 2'})\n",
    "df_country = pd.merge(df_country, tmp, left_index=True, right_index=True)\n",
    "df_country"
   ]
  },
  {
   "cell_type": "code",
   "execution_count": 807,
   "id": "bronze-syracuse",
   "metadata": {
    "scrolled": true
   },
   "outputs": [
    {
     "data": {
      "image/png": "[encoded data removed]",
      "text/plain": [
       "<Figure size 432x288 with 1 Axes>"
      ]
     },
     "metadata": {
      "needs_background": "light"
     },
     "output_type": "display_data"
    },
    {
     "data": {
      "image/png": "[encoded data removed]",
      "text/plain": [
       "<Figure size 432x288 with 1 Axes>"
      ]
     },
     "metadata": {
      "needs_background": "light"
     },
     "output_type": "display_data"
    },
    {
     "data": {
      "image/png": "[encoded data removed]",
      "text/plain": [
       "<Figure size 432x288 with 1 Axes>"
      ]
     },
     "metadata": {
      "needs_background": "light"
     },
     "output_type": "display_data"
    }
   ],
   "source": [
    "for cl in range(3):\n",
    "    s = pd.DataFrame((df_customer.query('Cluster=='+str(cl))['Country'].value_counts())).reset_index()\n",
    "    fig = sb.barplot(x='index', y='Country', data=s)\n",
    "    fig.set_yscale(\"log\")\n",
    "    plt.xticks(rotation=90)\n",
    "    plt.show()"
   ]
  },
  {
   "cell_type": "markdown",
   "id": "decent-correspondence",
   "metadata": {},
   "source": [
    "Merging the cluster information back to the main fataframe."
   ]
  },
  {
   "cell_type": "code",
   "execution_count": 574,
   "id": "altered-threat",
   "metadata": {},
   "outputs": [],
   "source": [
    "df = pd.merge(df, df_customer['Cluster'], how='left', on='Customer ID')"
   ]
  },
  {
   "cell_type": "code",
   "execution_count": 631,
   "id": "august-miniature",
   "metadata": {},
   "outputs": [
    {
     "data": {
      "text/plain": [
       "Index(['Invoice', 'StockCode', 'Description', 'Quantity', 'InvoiceDate',\n",
       "       'Price', 'Customer ID', 'Country', 'Cancellation', 'Transaction Price',\n",
       "       'Customer Cancellation Rate', 'Customer With Cancellations',\n",
       "       'Product Cancellation Rate', 'Cluster'],\n",
       "      dtype='object')"
      ]
     },
     "execution_count": 631,
     "metadata": {},
     "output_type": "execute_result"
    }
   ],
   "source": [
    "df.columns"
   ]
  },
  {
   "cell_type": "markdown",
   "id": "timely-truth",
   "metadata": {},
   "source": [
    "Most frequently purcased"
   ]
  },
  {
   "cell_type": "code",
   "execution_count": 632,
   "id": "imposed-bernard",
   "metadata": {},
   "outputs": [
    {
     "data": {
      "text/plain": [
       "Cluster\n",
       "0    WHITE HANGING HEART T-LIGHT HOLDER\n",
       "1    WHITE HANGING HEART T-LIGHT HOLDER\n",
       "2    WHITE HANGING HEART T-LIGHT HOLDER\n",
       "Name: Description, dtype: object"
      ]
     },
     "execution_count": 632,
     "metadata": {},
     "output_type": "execute_result"
    }
   ],
   "source": [
    "df.groupby('Cluster').Description.apply(list).apply(lambda l: max(set(l), key=l.count))"
   ]
  },
  {
   "cell_type": "code",
   "execution_count": 812,
   "id": "listed-enterprise",
   "metadata": {
    "scrolled": false
   },
   "outputs": [
    {
     "name": "stdout",
     "output_type": "stream",
     "text": [
      "\n",
      "==================\n",
      "\n",
      "Cluster 0\n",
      "\n",
      "                                    Description\n",
      "WHITE HANGING HEART T-LIGHT HOLDER          560\n",
      "HEART OF WICKER LARGE                       395\n",
      "REGENCY CAKESTAND 3 TIER                    370\n",
      "REX CASH+CARRY JUMBO SHOPPER                351\n",
      "HEART OF WICKER SMALL                       306\n",
      "PAPER CHAIN KIT 50'S CHRISTMAS              306\n",
      "ASSORTED COLOUR BIRD ORNAMENT               300\n",
      "JUMBO BAG RED RETROSPOT                     278\n",
      "PAPER CHAIN KIT VINTAGE CHRISTMAS           248\n",
      "BAKING SET 9 PIECE RETROSPOT                242\n",
      "STRAWBERRY CERAMIC TRINKET BOX              234\n",
      "VINTAGE SNAP CARDS                          232\n",
      "HAND WARMER OWL DESIGN                      230\n",
      "RED HANGING HEART T-LIGHT HOLDER            229\n",
      "HAND WARMER BIRD DESIGN                     229\n",
      "SMALL POPCORN HOLDER                        228\n",
      "HAND WARMER SCOTTY DOG DESIGN               226\n",
      "WICKER STAR                                 223\n",
      "60 TEATIME FAIRY CAKE CASES                 222\n",
      "PLASTERS IN TIN VINTAGE PAISLEY             221\n",
      "\n",
      "==================\n",
      "\n",
      "Cluster 1\n",
      "\n",
      "                                    Description\n",
      "WHITE HANGING HEART T-LIGHT HOLDER          249\n",
      "BAKING SET 9 PIECE RETROSPOT                146\n",
      "PACK OF 72 RETRO SPOT CAKE CASES            107\n",
      "STRAWBERRY CERAMIC TRINKET BOX              106\n",
      "REX CASH+CARRY JUMBO SHOPPER                104\n",
      "Manual                                      102\n",
      "HOME BUILDING BLOCK WORD                    102\n",
      "RETRO SPOT TEA SET CERAMIC 11 PC             99\n",
      "LOVE BUILDING BLOCK WORD                     96\n",
      "DOOR MAT UNION FLAG                          84\n",
      "VINTAGE UNION JACK BUNTING                   79\n",
      "60 TEATIME FAIRY CAKE CASES                  77\n",
      "ASSORTED COLOUR BIRD ORNAMENT                76\n",
      "REGENCY CAKESTAND 3 TIER                     74\n",
      "SET/20 RED SPOTTY PAPER NAPKINS              74\n",
      "POSTAGE                                      72\n",
      "LUNCH BAG RED SPOTTY                         69\n",
      "PARTY BUNTING                                67\n",
      "PACK OF 60 PINK PAISLEY CAKE CASES           66\n",
      "HANGING HEART ZINC T-LIGHT HOLDER            65\n",
      "\n",
      "==================\n",
      "\n",
      "Cluster 2\n",
      "\n",
      "                                    Description\n",
      "WHITE HANGING HEART T-LIGHT HOLDER         2390\n",
      "REGENCY CAKESTAND 3 TIER                   1418\n",
      "STRAWBERRY CERAMIC TRINKET BOX             1160\n",
      "ASSORTED COLOUR BIRD ORNAMENT               986\n",
      "PACK OF 72 RETRO SPOT CAKE CASES            922\n",
      "HOME BUILDING BLOCK WORD                    914\n",
      "LUNCH BAG RED SPOTTY                        901\n",
      "60 TEATIME FAIRY CAKE CASES                 876\n",
      "WOODEN FRAME ANTIQUE WHITE                  845\n",
      "JUMBO BAG RED RETROSPOT                     807\n",
      "JUMBO STORAGE BAG SUKI                      785\n",
      "LUNCH BAG  BLACK SKULL.                     780\n",
      "RED HANGING HEART T-LIGHT HOLDER            744\n",
      "LUNCH BAG SUKI  DESIGN                      738\n",
      "JUMBO SHOPPER VINTAGE RED PAISLEY           730\n",
      "LOVE BUILDING BLOCK WORD                    703\n",
      "JUMBO BAG STRAWBERRY                        702\n",
      "PACK OF 60 PINK PAISLEY CAKE CASES          695\n",
      "BAKING SET 9 PIECE RETROSPOT                690\n",
      "LUNCH BAG SPACEBOY DESIGN                   680\n"
     ]
    }
   ],
   "source": [
    "for cl in range(3):\n",
    "    print()\n",
    "    print('==================')\n",
    "    print()\n",
    "    print(f'Cluster {cl}')\n",
    "    print()\n",
    "    s = pd.DataFrame((df.query('Cluster=='+str(cl))['Description'].value_counts()))#.reset_index()\n",
    "    print(s.head(20))\n",
    "    #    fig = sb.barplot(x='index', y='Description', data=s)\n",
    "#    #fig.set_yscale(\"log\")\n",
    "#    plt.xticks(rotation=90)\n",
    "#    plt.show()"
   ]
  },
  {
   "cell_type": "markdown",
   "id": "coral-connecticut",
   "metadata": {},
   "source": [
    "## Train a cancellation prediction model"
   ]
  },
  {
   "cell_type": "code",
   "execution_count": 813,
   "id": "sophisticated-difference",
   "metadata": {},
   "outputs": [],
   "source": [
    "from sklearn.model_selection import train_test_split\n",
    "import xgboost as xgb\n",
    "\n",
    "# Metrics\n",
    "from sklearn.metrics import accuracy_score\n",
    "from sklearn import metrics\n",
    "\n",
    "from sklearn.metrics import classification_report,confusion_matrix\n",
    "\n",
    "# Cross-validation\n",
    "#from sklearn.model_selection import cross_val_score\n",
    "#from sklearn.model_selection import cross_val_predict\n",
    "#from sklearn.model_selection import cross_validate"
   ]
  },
  {
   "cell_type": "code",
   "execution_count": 829,
   "id": "manual-atlas",
   "metadata": {},
   "outputs": [
    {
     "name": "stdout",
     "output_type": "stream",
     "text": [
      "Index(['Quantity Sum', 'Quantity Mean', 'Quantity Min', 'Quantity Max',\n",
      "       'Price Mean', 'Price Min', 'Price Max', 'Transaction Price Sum',\n",
      "       'Transaction Price Mean', 'Transaction Price Min',\n",
      "       'Transaction Price Max', 'Customer Cancellation Rate',\n",
      "       'Customer With Cancellations', 'Most Frequent Product', 'Country',\n",
      "       'WHITE HANGING HEART T-LIGHT HOLDER', 'POSTAGE', 'Manual',\n",
      "       'REGENCY CAKESTAND 3 TIER', 'HOME BUILDING BLOCK WORD',\n",
      "       'STRAWBERRY CERAMIC TRINKET BOX', 'BAKING SET 9 PIECE RETROSPOT ',\n",
      "       'LUNCH BAG WOODLAND', 'REX CASH+CARRY JUMBO SHOPPER',\n",
      "       'ASSORTED COLOUR BIRD ORNAMENT', 'JUMBO BAG STRAWBERRY',\n",
      "       'WOOD S/3 CABINET ANT WHITE FINISH', 'VICTORIAN GLASS HANGING T-LIGHT',\n",
      "       'SET/5 RED SPOTTY LID GLASS BOWLS', 'WOODEN FRAME ANTIQUE WHITE ',\n",
      "       'CHOCOLATE HOT WATER BOTTLE', 'I CAN ONLY PLEASE ONE PERSON MUG',\n",
      "       'JUMBO STORAGE BAG SUKI', 'ASSORTED COLOURS SILK FAN',\n",
      "       'STRAWBERRY CHARLOTTE BAG', 'Cluster'],\n",
      "      dtype='object')\n"
     ]
    }
   ],
   "source": [
    "target = 'Customer With Cancellations'\n",
    "#variables = list(df.select_dtypes(include=np.number).columns)\n",
    "variables = list(df_customer.columns)\n",
    "#variables.remove(target)\n",
    "#variables.remove('Most Frequent Product')\n",
    "#variables.remove('Customer Cancellation Rate')\n",
    "#variables.remove('Country')\n",
    "\n",
    "y = df_customer[target]\n",
    "X = df_customer[variables]\n",
    "X_train, X_test, y_train, y_test = train_test_split(X, y, test_size=0.4, random_state=0)\n",
    "\n",
    "print(X_train.columns)\n",
    "\n",
    "X_train_tmp = X_train.drop(columns=[target, 'Most Frequent Product', 'Customer Cancellation Rate', 'Cluster', 'Country'])\n",
    "X_test_tmp = X_test.drop(columns=[target, 'Most Frequent Product', 'Customer Cancellation Rate', 'Cluster', 'Country'])\n",
    "\n",
    "imbalance = len(y_train)/sum(y_train)"
   ]
  },
  {
   "cell_type": "code",
   "execution_count": 830,
   "id": "working-receptor",
   "metadata": {},
   "outputs": [
    {
     "data": {
      "text/plain": [
       "Index(['Quantity Sum', 'Quantity Mean', 'Quantity Min', 'Quantity Max',\n",
       "       'Price Mean', 'Price Min', 'Price Max', 'Transaction Price Sum',\n",
       "       'Transaction Price Mean', 'Transaction Price Min',\n",
       "       'Transaction Price Max', 'WHITE HANGING HEART T-LIGHT HOLDER',\n",
       "       'POSTAGE', 'Manual', 'REGENCY CAKESTAND 3 TIER',\n",
       "       'HOME BUILDING BLOCK WORD', 'STRAWBERRY CERAMIC TRINKET BOX',\n",
       "       'BAKING SET 9 PIECE RETROSPOT ', 'LUNCH BAG WOODLAND',\n",
       "       'REX CASH+CARRY JUMBO SHOPPER', 'ASSORTED COLOUR BIRD ORNAMENT',\n",
       "       'JUMBO BAG STRAWBERRY', 'WOOD S/3 CABINET ANT WHITE FINISH',\n",
       "       'VICTORIAN GLASS HANGING T-LIGHT', 'SET/5 RED SPOTTY LID GLASS BOWLS',\n",
       "       'WOODEN FRAME ANTIQUE WHITE ', 'CHOCOLATE HOT WATER BOTTLE',\n",
       "       'I CAN ONLY PLEASE ONE PERSON MUG', 'JUMBO STORAGE BAG SUKI',\n",
       "       'ASSORTED COLOURS SILK FAN', 'STRAWBERRY CHARLOTTE BAG'],\n",
       "      dtype='object')"
      ]
     },
     "execution_count": 830,
     "metadata": {},
     "output_type": "execute_result"
    }
   ],
   "source": [
    "X_train_tmp.columns"
   ]
  },
  {
   "cell_type": "code",
   "execution_count": 831,
   "id": "drawn-marijuana",
   "metadata": {},
   "outputs": [],
   "source": [
    "xgb_model = xgb.XGBClassifier(objective=\"binary:logistic\", n_estimators=20,\\\n",
    "                              random_state=42, eval_metric=[\"auc\"],\\\n",
    "                             scale_pos_weight=imbalance,\\\n",
    "                             use_label_encoder=False,\n",
    "                             #enable_categorical=True\n",
    "                             )\n",
    "#eval_metric=[\"auc\", \"error\", \"error@0.6\"]\n",
    "\n",
    "#xgb_model.fit(X_train, y_train, eval_set=[(X_test, y_test)])\n",
    "xgb_model.fit(X_train_tmp, y_train)\n",
    "\n",
    "y_pred = xgb_model.predict(X_test_tmp)"
   ]
  },
  {
   "cell_type": "code",
   "execution_count": 832,
   "id": "bulgarian-indie",
   "metadata": {},
   "outputs": [
    {
     "name": "stdout",
     "output_type": "stream",
     "text": [
      "[[743 285]\n",
      " [163 563]]\n",
      "              precision    recall  f1-score   support\n",
      "\n",
      "           0       0.82      0.72      0.77      1028\n",
      "           1       0.66      0.78      0.72       726\n",
      "\n",
      "    accuracy                           0.74      1754\n",
      "   macro avg       0.74      0.75      0.74      1754\n",
      "weighted avg       0.76      0.74      0.75      1754\n",
      "\n"
     ]
    }
   ],
   "source": [
    "print(confusion_matrix(y_test,y_pred))\n",
    "print(classification_report(y_test,y_pred))"
   ]
  },
  {
   "cell_type": "code",
   "execution_count": 833,
   "id": "compound-local",
   "metadata": {},
   "outputs": [
    {
     "data": {
      "image/png": "[encoded data removed]",
      "text/plain": [
       "<Figure size 432x288 with 1 Axes>"
      ]
     },
     "metadata": {
      "needs_background": "light"
     },
     "output_type": "display_data"
    }
   ],
   "source": [
    "xgb.plot_importance(xgb_model)\n",
    "plt.show()"
   ]
  },
  {
   "cell_type": "code",
   "execution_count": 834,
   "id": "living-england",
   "metadata": {},
   "outputs": [
    {
     "data": {
      "image/png": "[encoded data removed]",
      "text/plain": [
       "<Figure size 432x288 with 1 Axes>"
      ]
     },
     "metadata": {
      "needs_background": "light"
     },
     "output_type": "display_data"
    },
    {
     "name": "stdout",
     "output_type": "stream",
     "text": [
      "Accuracy 0.7445838084378563\n"
     ]
    }
   ],
   "source": [
    "# Draw the ROC curve\n",
    "\n",
    "y_pred_proba = xgb_model.predict_proba(X_test_tmp)[::,1]\n",
    "fpr, tpr, _ = metrics.roc_curve(y_test,  y_pred_proba)\n",
    "auc = metrics.roc_auc_score(y_test, y_pred_proba)\n",
    "plt.plot(fpr,tpr,label=\"data 1, auc=\"+str(auc))\n",
    "plt.legend(loc=4)\n",
    "plt.show()\n",
    "print(\"Accuracy\", metrics.accuracy_score(y_test, y_pred))"
   ]
  },
  {
   "cell_type": "markdown",
   "id": "marine-northern",
   "metadata": {},
   "source": [
    "### Churn prediction on the test set"
   ]
  },
  {
   "cell_type": "code",
   "execution_count": 836,
   "id": "arranged-panic",
   "metadata": {},
   "outputs": [
    {
     "name": "stderr",
     "output_type": "stream",
     "text": [
      "<ipython-input-836-a2de83874f0a>:1: SettingWithCopyWarning: \n",
      "A value is trying to be set on a copy of a slice from a DataFrame.\n",
      "Try using .loc[row_indexer,col_indexer] = value instead\n",
      "\n",
      "See the caveats in the documentation: https://pandas.pydata.org/pandas-docs/stable/user_guide/indexing.html#returning-a-view-versus-a-copy\n",
      "  X_test['Cancellation Prediction'] = y_pred\n",
      "<ipython-input-836-a2de83874f0a>:2: SettingWithCopyWarning: \n",
      "A value is trying to be set on a copy of a slice from a DataFrame.\n",
      "Try using .loc[row_indexer,col_indexer] = value instead\n",
      "\n",
      "See the caveats in the documentation: https://pandas.pydata.org/pandas-docs/stable/user_guide/indexing.html#returning-a-view-versus-a-copy\n",
      "  X_test['Cancellation Probability'] = y_pred_proba\n"
     ]
    }
   ],
   "source": [
    "X_test['Cancellation Prediction'] = y_pred\n",
    "X_test['Cancellation Probability'] = y_pred_proba"
   ]
  },
  {
   "cell_type": "code",
   "execution_count": 837,
   "id": "charming-probability",
   "metadata": {},
   "outputs": [
    {
     "data": {
      "text/html": [
       "<div>\n",
       "<style scoped>\n",
       "    .dataframe tbody tr th:only-of-type {\n",
       "        vertical-align: middle;\n",
       "    }\n",
       "\n",
       "    .dataframe tbody tr th {\n",
       "        vertical-align: top;\n",
       "    }\n",
       "\n",
       "    .dataframe thead th {\n",
       "        text-align: right;\n",
       "    }\n",
       "</style>\n",
       "<table border=\"1\" class=\"dataframe\">\n",
       "  <thead>\n",
       "    <tr style=\"text-align: right;\">\n",
       "      <th></th>\n",
       "      <th>Quantity Sum</th>\n",
       "      <th>Quantity Mean</th>\n",
       "      <th>Quantity Min</th>\n",
       "      <th>Quantity Max</th>\n",
       "      <th>Price Mean</th>\n",
       "      <th>Price Min</th>\n",
       "      <th>Price Max</th>\n",
       "      <th>Transaction Price Sum</th>\n",
       "      <th>Transaction Price Mean</th>\n",
       "      <th>Transaction Price Min</th>\n",
       "      <th>...</th>\n",
       "      <th>SET/5 RED SPOTTY LID GLASS BOWLS</th>\n",
       "      <th>WOODEN FRAME ANTIQUE WHITE</th>\n",
       "      <th>CHOCOLATE HOT WATER BOTTLE</th>\n",
       "      <th>I CAN ONLY PLEASE ONE PERSON MUG</th>\n",
       "      <th>JUMBO STORAGE BAG SUKI</th>\n",
       "      <th>ASSORTED COLOURS SILK FAN</th>\n",
       "      <th>STRAWBERRY CHARLOTTE BAG</th>\n",
       "      <th>Cluster</th>\n",
       "      <th>Cancellation Prediction</th>\n",
       "      <th>Cancellation Probability</th>\n",
       "    </tr>\n",
       "    <tr>\n",
       "      <th>Customer ID</th>\n",
       "      <th></th>\n",
       "      <th></th>\n",
       "      <th></th>\n",
       "      <th></th>\n",
       "      <th></th>\n",
       "      <th></th>\n",
       "      <th></th>\n",
       "      <th></th>\n",
       "      <th></th>\n",
       "      <th></th>\n",
       "      <th></th>\n",
       "      <th></th>\n",
       "      <th></th>\n",
       "      <th></th>\n",
       "      <th></th>\n",
       "      <th></th>\n",
       "      <th></th>\n",
       "      <th></th>\n",
       "      <th></th>\n",
       "      <th></th>\n",
       "      <th></th>\n",
       "    </tr>\n",
       "  </thead>\n",
       "  <tbody>\n",
       "    <tr>\n",
       "      <th>13703.0</th>\n",
       "      <td>236</td>\n",
       "      <td>3.277778</td>\n",
       "      <td>1</td>\n",
       "      <td>12</td>\n",
       "      <td>3.248889</td>\n",
       "      <td>0.42</td>\n",
       "      <td>8.95</td>\n",
       "      <td>652.12</td>\n",
       "      <td>9.057222</td>\n",
       "      <td>0.85</td>\n",
       "      <td>...</td>\n",
       "      <td>False</td>\n",
       "      <td>False</td>\n",
       "      <td>False</td>\n",
       "      <td>False</td>\n",
       "      <td>False</td>\n",
       "      <td>False</td>\n",
       "      <td>False</td>\n",
       "      <td>0</td>\n",
       "      <td>0</td>\n",
       "      <td>0.213953</td>\n",
       "    </tr>\n",
       "    <tr>\n",
       "      <th>16145.0</th>\n",
       "      <td>2183</td>\n",
       "      <td>12.060773</td>\n",
       "      <td>1</td>\n",
       "      <td>96</td>\n",
       "      <td>3.401381</td>\n",
       "      <td>0.19</td>\n",
       "      <td>18.95</td>\n",
       "      <td>3060.28</td>\n",
       "      <td>16.907624</td>\n",
       "      <td>0.38</td>\n",
       "      <td>...</td>\n",
       "      <td>True</td>\n",
       "      <td>False</td>\n",
       "      <td>False</td>\n",
       "      <td>False</td>\n",
       "      <td>False</td>\n",
       "      <td>False</td>\n",
       "      <td>False</td>\n",
       "      <td>2</td>\n",
       "      <td>1</td>\n",
       "      <td>0.958212</td>\n",
       "    </tr>\n",
       "    <tr>\n",
       "      <th>14210.0</th>\n",
       "      <td>1851</td>\n",
       "      <td>7.944206</td>\n",
       "      <td>1</td>\n",
       "      <td>48</td>\n",
       "      <td>3.532961</td>\n",
       "      <td>0.29</td>\n",
       "      <td>16.95</td>\n",
       "      <td>3997.93</td>\n",
       "      <td>17.158498</td>\n",
       "      <td>2.50</td>\n",
       "      <td>...</td>\n",
       "      <td>True</td>\n",
       "      <td>True</td>\n",
       "      <td>False</td>\n",
       "      <td>False</td>\n",
       "      <td>False</td>\n",
       "      <td>False</td>\n",
       "      <td>False</td>\n",
       "      <td>2</td>\n",
       "      <td>1</td>\n",
       "      <td>0.844377</td>\n",
       "    </tr>\n",
       "    <tr>\n",
       "      <th>17199.0</th>\n",
       "      <td>232</td>\n",
       "      <td>29.000000</td>\n",
       "      <td>1</td>\n",
       "      <td>72</td>\n",
       "      <td>0.881250</td>\n",
       "      <td>0.14</td>\n",
       "      <td>2.10</td>\n",
       "      <td>135.04</td>\n",
       "      <td>16.880000</td>\n",
       "      <td>0.85</td>\n",
       "      <td>...</td>\n",
       "      <td>False</td>\n",
       "      <td>False</td>\n",
       "      <td>False</td>\n",
       "      <td>False</td>\n",
       "      <td>False</td>\n",
       "      <td>True</td>\n",
       "      <td>False</td>\n",
       "      <td>0</td>\n",
       "      <td>0</td>\n",
       "      <td>0.456258</td>\n",
       "    </tr>\n",
       "    <tr>\n",
       "      <th>14094.0</th>\n",
       "      <td>159</td>\n",
       "      <td>3.613636</td>\n",
       "      <td>1</td>\n",
       "      <td>42</td>\n",
       "      <td>2.713409</td>\n",
       "      <td>0.65</td>\n",
       "      <td>14.95</td>\n",
       "      <td>312.72</td>\n",
       "      <td>7.107273</td>\n",
       "      <td>0.95</td>\n",
       "      <td>...</td>\n",
       "      <td>False</td>\n",
       "      <td>False</td>\n",
       "      <td>False</td>\n",
       "      <td>False</td>\n",
       "      <td>False</td>\n",
       "      <td>False</td>\n",
       "      <td>False</td>\n",
       "      <td>0</td>\n",
       "      <td>0</td>\n",
       "      <td>0.208371</td>\n",
       "    </tr>\n",
       "    <tr>\n",
       "      <th>...</th>\n",
       "      <td>...</td>\n",
       "      <td>...</td>\n",
       "      <td>...</td>\n",
       "      <td>...</td>\n",
       "      <td>...</td>\n",
       "      <td>...</td>\n",
       "      <td>...</td>\n",
       "      <td>...</td>\n",
       "      <td>...</td>\n",
       "      <td>...</td>\n",
       "      <td>...</td>\n",
       "      <td>...</td>\n",
       "      <td>...</td>\n",
       "      <td>...</td>\n",
       "      <td>...</td>\n",
       "      <td>...</td>\n",
       "      <td>...</td>\n",
       "      <td>...</td>\n",
       "      <td>...</td>\n",
       "      <td>...</td>\n",
       "      <td>...</td>\n",
       "    </tr>\n",
       "    <tr>\n",
       "      <th>14892.0</th>\n",
       "      <td>79</td>\n",
       "      <td>6.076923</td>\n",
       "      <td>2</td>\n",
       "      <td>12</td>\n",
       "      <td>3.511538</td>\n",
       "      <td>1.25</td>\n",
       "      <td>9.95</td>\n",
       "      <td>202.35</td>\n",
       "      <td>15.565385</td>\n",
       "      <td>11.70</td>\n",
       "      <td>...</td>\n",
       "      <td>False</td>\n",
       "      <td>False</td>\n",
       "      <td>False</td>\n",
       "      <td>False</td>\n",
       "      <td>False</td>\n",
       "      <td>False</td>\n",
       "      <td>False</td>\n",
       "      <td>0</td>\n",
       "      <td>0</td>\n",
       "      <td>0.224922</td>\n",
       "    </tr>\n",
       "    <tr>\n",
       "      <th>13157.0</th>\n",
       "      <td>3323</td>\n",
       "      <td>20.262195</td>\n",
       "      <td>2</td>\n",
       "      <td>96</td>\n",
       "      <td>1.847317</td>\n",
       "      <td>0.21</td>\n",
       "      <td>12.75</td>\n",
       "      <td>3946.14</td>\n",
       "      <td>24.061829</td>\n",
       "      <td>5.04</td>\n",
       "      <td>...</td>\n",
       "      <td>False</td>\n",
       "      <td>False</td>\n",
       "      <td>False</td>\n",
       "      <td>False</td>\n",
       "      <td>False</td>\n",
       "      <td>True</td>\n",
       "      <td>False</td>\n",
       "      <td>0</td>\n",
       "      <td>1</td>\n",
       "      <td>0.880565</td>\n",
       "    </tr>\n",
       "    <tr>\n",
       "      <th>15312.0</th>\n",
       "      <td>1178</td>\n",
       "      <td>10.068376</td>\n",
       "      <td>1</td>\n",
       "      <td>25</td>\n",
       "      <td>2.975470</td>\n",
       "      <td>0.42</td>\n",
       "      <td>10.95</td>\n",
       "      <td>2015.29</td>\n",
       "      <td>17.224701</td>\n",
       "      <td>9.95</td>\n",
       "      <td>...</td>\n",
       "      <td>False</td>\n",
       "      <td>True</td>\n",
       "      <td>False</td>\n",
       "      <td>False</td>\n",
       "      <td>False</td>\n",
       "      <td>False</td>\n",
       "      <td>False</td>\n",
       "      <td>2</td>\n",
       "      <td>1</td>\n",
       "      <td>0.809562</td>\n",
       "    </tr>\n",
       "    <tr>\n",
       "      <th>12408.0</th>\n",
       "      <td>853</td>\n",
       "      <td>14.964912</td>\n",
       "      <td>1</td>\n",
       "      <td>64</td>\n",
       "      <td>3.079825</td>\n",
       "      <td>0.21</td>\n",
       "      <td>34.95</td>\n",
       "      <td>1467.37</td>\n",
       "      <td>25.743333</td>\n",
       "      <td>0.85</td>\n",
       "      <td>...</td>\n",
       "      <td>False</td>\n",
       "      <td>False</td>\n",
       "      <td>False</td>\n",
       "      <td>False</td>\n",
       "      <td>False</td>\n",
       "      <td>False</td>\n",
       "      <td>True</td>\n",
       "      <td>0</td>\n",
       "      <td>1</td>\n",
       "      <td>0.819318</td>\n",
       "    </tr>\n",
       "    <tr>\n",
       "      <th>15311.0</th>\n",
       "      <td>33593</td>\n",
       "      <td>15.207334</td>\n",
       "      <td>1</td>\n",
       "      <td>1200</td>\n",
       "      <td>2.897424</td>\n",
       "      <td>0.11</td>\n",
       "      <td>34.95</td>\n",
       "      <td>57852.27</td>\n",
       "      <td>26.189348</td>\n",
       "      <td>0.21</td>\n",
       "      <td>...</td>\n",
       "      <td>False</td>\n",
       "      <td>True</td>\n",
       "      <td>True</td>\n",
       "      <td>True</td>\n",
       "      <td>True</td>\n",
       "      <td>False</td>\n",
       "      <td>True</td>\n",
       "      <td>2</td>\n",
       "      <td>1</td>\n",
       "      <td>0.994357</td>\n",
       "    </tr>\n",
       "  </tbody>\n",
       "</table>\n",
       "<p>1754 rows × 38 columns</p>\n",
       "</div>"
      ],
      "text/plain": [
       "             Quantity Sum  Quantity Mean  Quantity Min  Quantity Max  \\\n",
       "Customer ID                                                            \n",
       "13703.0               236       3.277778             1            12   \n",
       "16145.0              2183      12.060773             1            96   \n",
       "14210.0              1851       7.944206             1            48   \n",
       "17199.0               232      29.000000             1            72   \n",
       "14094.0               159       3.613636             1            42   \n",
       "...                   ...            ...           ...           ...   \n",
       "14892.0                79       6.076923             2            12   \n",
       "13157.0              3323      20.262195             2            96   \n",
       "15312.0              1178      10.068376             1            25   \n",
       "12408.0               853      14.964912             1            64   \n",
       "15311.0             33593      15.207334             1          1200   \n",
       "\n",
       "             Price Mean  Price Min  Price Max  Transaction Price Sum  \\\n",
       "Customer ID                                                            \n",
       "13703.0        3.248889       0.42       8.95                 652.12   \n",
       "16145.0        3.401381       0.19      18.95                3060.28   \n",
       "14210.0        3.532961       0.29      16.95                3997.93   \n",
       "17199.0        0.881250       0.14       2.10                 135.04   \n",
       "14094.0        2.713409       0.65      14.95                 312.72   \n",
       "...                 ...        ...        ...                    ...   \n",
       "14892.0        3.511538       1.25       9.95                 202.35   \n",
       "13157.0        1.847317       0.21      12.75                3946.14   \n",
       "15312.0        2.975470       0.42      10.95                2015.29   \n",
       "12408.0        3.079825       0.21      34.95                1467.37   \n",
       "15311.0        2.897424       0.11      34.95               57852.27   \n",
       "\n",
       "             Transaction Price Mean  Transaction Price Min  ...  \\\n",
       "Customer ID                                                 ...   \n",
       "13703.0                    9.057222                   0.85  ...   \n",
       "16145.0                   16.907624                   0.38  ...   \n",
       "14210.0                   17.158498                   2.50  ...   \n",
       "17199.0                   16.880000                   0.85  ...   \n",
       "14094.0                    7.107273                   0.95  ...   \n",
       "...                             ...                    ...  ...   \n",
       "14892.0                   15.565385                  11.70  ...   \n",
       "13157.0                   24.061829                   5.04  ...   \n",
       "15312.0                   17.224701                   9.95  ...   \n",
       "12408.0                   25.743333                   0.85  ...   \n",
       "15311.0                   26.189348                   0.21  ...   \n",
       "\n",
       "             SET/5 RED SPOTTY LID GLASS BOWLS  WOODEN FRAME ANTIQUE WHITE   \\\n",
       "Customer ID                                                                  \n",
       "13703.0                                 False                        False   \n",
       "16145.0                                  True                        False   \n",
       "14210.0                                  True                         True   \n",
       "17199.0                                 False                        False   \n",
       "14094.0                                 False                        False   \n",
       "...                                       ...                          ...   \n",
       "14892.0                                 False                        False   \n",
       "13157.0                                 False                        False   \n",
       "15312.0                                 False                         True   \n",
       "12408.0                                 False                        False   \n",
       "15311.0                                 False                         True   \n",
       "\n",
       "             CHOCOLATE HOT WATER BOTTLE I CAN ONLY PLEASE ONE PERSON MUG  \\\n",
       "Customer ID                                                                \n",
       "13703.0                           False                            False   \n",
       "16145.0                           False                            False   \n",
       "14210.0                           False                            False   \n",
       "17199.0                           False                            False   \n",
       "14094.0                           False                            False   \n",
       "...                                 ...                              ...   \n",
       "14892.0                           False                            False   \n",
       "13157.0                           False                            False   \n",
       "15312.0                           False                            False   \n",
       "12408.0                           False                            False   \n",
       "15311.0                            True                             True   \n",
       "\n",
       "            JUMBO STORAGE BAG SUKI  ASSORTED COLOURS SILK FAN  \\\n",
       "Customer ID                                                     \n",
       "13703.0                      False                      False   \n",
       "16145.0                      False                      False   \n",
       "14210.0                      False                      False   \n",
       "17199.0                      False                       True   \n",
       "14094.0                      False                      False   \n",
       "...                            ...                        ...   \n",
       "14892.0                      False                      False   \n",
       "13157.0                      False                       True   \n",
       "15312.0                      False                      False   \n",
       "12408.0                      False                      False   \n",
       "15311.0                       True                      False   \n",
       "\n",
       "             STRAWBERRY CHARLOTTE BAG  Cluster  Cancellation Prediction  \\\n",
       "Customer ID                                                               \n",
       "13703.0                         False        0                        0   \n",
       "16145.0                         False        2                        1   \n",
       "14210.0                         False        2                        1   \n",
       "17199.0                         False        0                        0   \n",
       "14094.0                         False        0                        0   \n",
       "...                               ...      ...                      ...   \n",
       "14892.0                         False        0                        0   \n",
       "13157.0                         False        0                        1   \n",
       "15312.0                         False        2                        1   \n",
       "12408.0                          True        0                        1   \n",
       "15311.0                          True        2                        1   \n",
       "\n",
       "             Cancellation Probability  \n",
       "Customer ID                            \n",
       "13703.0                      0.213953  \n",
       "16145.0                      0.958212  \n",
       "14210.0                      0.844377  \n",
       "17199.0                      0.456258  \n",
       "14094.0                      0.208371  \n",
       "...                               ...  \n",
       "14892.0                      0.224922  \n",
       "13157.0                      0.880565  \n",
       "15312.0                      0.809562  \n",
       "12408.0                      0.819318  \n",
       "15311.0                      0.994357  \n",
       "\n",
       "[1754 rows x 38 columns]"
      ]
     },
     "execution_count": 837,
     "metadata": {},
     "output_type": "execute_result"
    }
   ],
   "source": [
    "X_test"
   ]
  },
  {
   "cell_type": "markdown",
   "id": "complicated-warner",
   "metadata": {},
   "source": [
    "Find the customers that are active in the second half of 2010"
   ]
  },
  {
   "cell_type": "markdown",
   "id": "talented-armenia",
   "metadata": {},
   "source": [
    "## Users that churned in the second half of 2010"
   ]
  },
  {
   "cell_type": "code",
   "execution_count": 838,
   "id": "recent-brooks",
   "metadata": {},
   "outputs": [],
   "source": [
    "l = list(df[df.InvoiceDate>pd.to_datetime('2010-06-01')].query('Cancellation == True')['Customer ID'].unique())"
   ]
  },
  {
   "cell_type": "markdown",
   "id": "partial-somerset",
   "metadata": {},
   "source": [
    "List of the users that made a cancellation in the second half of 2010:"
   ]
  },
  {
   "cell_type": "code",
   "execution_count": 839,
   "id": "beneficial-synthetic",
   "metadata": {
    "scrolled": true
   },
   "outputs": [
    {
     "name": "stdout",
     "output_type": "stream",
     "text": [
      "In total 1252 users made a cancellation in the second half of 2010\n",
      "\n",
      "User IDs of the users who made a cancellation in the second half of 2010:\n",
      "\n",
      "[13085.0, 13078.0, 18102.0, 12682.0, 13635.0, 17519.0, 15413.0, 17865.0, 13767.0, 15712.0, 15311.0, 17700.0, 14911.0, 15998.0, 12931.0, 15614.0, 16128.0, 14748.0, 13394.0, 12615.0, 14040.0, 15796.0, 15091.0, 15061.0, 14292.0, 14156.0, 13599.0, 17063.0, 15719.0, 17998.0, 15005.0, 17611.0, 15051.0, 13097.0, 13590.0, 17091.0, 12921.0, 14621.0, 14543.0, 15380.0, 16422.0, 16150.0, 12836.0, 17961.0, 13381.0, 17345.0, 17243.0, 15750.0, 15808.0, 17191.0, 17428.0, 13648.0, 16563.0, 16701.0, 15602.0, 13777.0, 14000.0, 16823.0, 16163.0, 15759.0, 12523.0, 17019.0, 16700.0, 17511.0, 12755.0, 14299.0, 17949.0, 16550.0, 12980.0, 14425.0, 13623.0, 15542.0, 13564.0, 16467.0, 14527.0, 17476.0, 14440.0, 15581.0, 17768.0, 16797.0, 14667.0, 17377.0, 16210.0, 17867.0, 14739.0, 16233.0, 17412.0, 16525.0, 13313.0, 14122.0, 12471.0, 17809.0, 15615.0, 17841.0, 13089.0, 12437.0, 14646.0, 16156.0, 12779.0, 13611.0, 15255.0, 13979.0, 14915.0, 12705.0, 15194.0, 12484.0, 14895.0, 15291.0, 15658.0, 17314.0, 17322.0, 16159.0, 14051.0, 13993.0, 17411.0, 12835.0, 17069.0, 14159.0, 17581.0, 16168.0, 14606.0, 17287.0, 16779.0, 13895.0, 17017.0, 13468.0, 13485.0, 15953.0, 14967.0, 13001.0, 15550.0, 13786.0, 14952.0, 14031.0, 16612.0, 12949.0, 14644.0, 14898.0, 14755.0, 13037.0, 18168.0, 16570.0, 14277.0, 16549.0, 16791.0, 16558.0, 17663.0, 14713.0, 14258.0, 14286.0, 13154.0, 14564.0, 13408.0, 16961.0, 12525.0, 16335.0, 13093.0, 13946.0, 14961.0, 18061.0, 15078.0, 17389.0, 16883.0, 13175.0, 18223.0, 14680.0, 13481.0, 16656.0, 16746.0, 16325.0, 16710.0, 15382.0, 17935.0, 17593.0, 13694.0, 13329.0, 16351.0, 17884.0, 18225.0, 12748.0, 13199.0, 13021.0, 17115.0, 17850.0, 13999.0, 13958.0, 15240.0, 16158.0, 14867.0, 13813.0, 12417.0, 17920.0, 12975.0, 16104.0, 15059.0, 15260.0, 12583.0, 15555.0, 13736.0, 13448.0, 17085.0, 16485.0, 14608.0, 13782.0, 15751.0, 14546.0, 17969.0, 17406.0, 13319.0, 13019.0, 17858.0, 14738.0, 14113.0, 17739.0, 16556.0, 14828.0, 13693.0, 16768.0, 13495.0, 15358.0, 17044.0, 16684.0, 18219.0, 12747.0, 12600.0, 16353.0, 14590.0, 12424.0, 17457.0, 17990.0, 13148.0, 17364.0, 15694.0, 17231.0, 16702.0, 13267.0, 14209.0, 15369.0, 16735.0, 14295.0, 16013.0, 15079.0, 16029.0, 14290.0, 14861.0, 18145.0, 15093.0, 13643.0, 17213.0, 16732.0, 16940.0, 15031.0, 14063.0, 13081.0, 16523.0, 13798.0, 15298.0, 12746.0, 15674.0, 14679.0, 13883.0, 13136.0, 17531.0, 17340.0, 13112.0, 13557.0, 15633.0, 17612.0, 14907.0, 13107.0, 14817.0, 15181.0, 13872.0, 17188.0, 13455.0, 12712.0, 12472.0, 14732.0, 13202.0, 16945.0, 16782.0, 12924.0, 14211.0, 14593.0, 17954.0, 15911.0, 16705.0, 13141.0, 12709.0, 13983.0, 14107.0, 12917.0, 16755.0, 14505.0, 16933.0, 16186.0, 18065.0, 15077.0, 15841.0, 16143.0, 15039.0, 15858.0, 14099.0, 16748.0, 16057.0, 15805.0, 16985.0, 14648.0, 14062.0, 13831.0, 15916.0, 16670.0, 15882.0, 17032.0, 15738.0, 17675.0, 12933.0, 14507.0, 17696.0, 18276.0, 14081.0, 14389.0, 14194.0, 17512.0, 16905.0, 14702.0, 16293.0, 18172.0, 13077.0, 16191.0, 15197.0, 17677.0, 13874.0, 16094.0, 17083.0, 14625.0, 13668.0, 17754.0, 15898.0, 13317.0, 15144.0, 12843.0, 17172.0, 17211.0, 13735.0, 12681.0, 17802.0, 15628.0, 12683.0, 16725.0, 17799.0, 12346.0, 15329.0, 17965.0, 15015.0, 13510.0, 16019.0, 14796.0, 15867.0, 17416.0, 15640.0, 16554.0, 13004.0, 15838.0, 17251.0, 16858.0, 18220.0, 17095.0, 16713.0, 15812.0, 18260.0, 13405.0, 13823.0, 13050.0, 13756.0, 15785.0, 14897.0, 15527.0, 17368.0, 15394.0, 14460.0, 14769.0, 17646.0, 13952.0, 18286.0, 13047.0, 14869.0, 13769.0, 12586.0, 15222.0, 13178.0, 14415.0, 17469.0, 17873.0, 15044.0, 14329.0, 13941.0, 14092.0, 15498.0, 17402.0, 13266.0, 18097.0, 13520.0, 14422.0, 13203.0, 15270.0, 12997.0, 16720.0, 14112.0, 15321.0, 12708.0, 12826.0, 16772.0, 14555.0, 13921.0, 13995.0, 12422.0, 16600.0, 15497.0, 14949.0, 17324.0, 16592.0, 14105.0, 13871.0, 12609.0, 17888.0, 12440.0, 13082.0, 14477.0, 13821.0, 17950.0, 16875.0, 13901.0, 14198.0, 15521.0, 13338.0, 13965.0, 14210.0, 17362.0, 17753.0, 17404.0, 15622.0, 15874.0, 15100.0, 12678.0, 12648.0, 14045.0, 13360.0, 15827.0, 16103.0, 16027.0, 14849.0, 18231.0, 12951.0, 17147.0, 17113.0, 12406.0, 13433.0, 16841.0, 12623.0, 12649.0, 14154.0, 15513.0, 12647.0, 17962.0, 17757.0, 13152.0, 18041.0, 13787.0, 14256.0, 14423.0, 15046.0, 12431.0, 15359.0, 12631.0, 17454.0, 15489.0, 14451.0, 17801.0, 14420.0, 14441.0, 14754.0, 15747.0, 15164.0, 16954.0, 15198.0, 13877.0, 17706.0, 12468.0, 12589.0, 13555.0, 12733.0, 17307.0, 13027.0, 14388.0, 14649.0, 13982.0, 16634.0, 12986.0, 14714.0, 14530.0, 15885.0, 14064.0, 15296.0, 13192.0, 14854.0, 13889.0, 14640.0, 14837.0, 17618.0, 16950.0, 16255.0, 17071.0, 15696.0, 13729.0, 14044.0, 15434.0, 14870.0, 13488.0, 16795.0, 15611.0, 13650.0, 13971.0, 15950.0, 17353.0, 16281.0, 17059.0, 17726.0, 15766.0, 12454.0, 14912.0, 13776.0, 14551.0, 13048.0, 16320.0, 17695.0, 15563.0, 16326.0, 15544.0, 13615.0, 15861.0, 13851.0, 15251.0, 15182.0, 16923.0, 12483.0, 16655.0, 17107.0, 14370.0, 14047.0, 13511.0, 15480.0, 13584.0, 17146.0, 15279.0, 16454.0, 17092.0, 16928.0, 15023.0, 14038.0, 15732.0, 16383.0, 12853.0, 16147.0, 15580.0, 16225.0, 17342.0, 13497.0, 16161.0, 13870.0, 13304.0, 15339.0, 16781.0, 12524.0, 17774.0, 14609.0, 12621.0, 13985.0, 17201.0, 12474.0, 14301.0, 17685.0, 13288.0, 16839.0, 15807.0, 16553.0, 13815.0, 17547.0, 15372.0, 13446.0, 13421.0, 14970.0, 16838.0, 14909.0, 14282.0, 12380.0, 16860.0, 17442.0, 17644.0, 15323.0, 13802.0, 16359.0, 16584.0, 15325.0, 13503.0, 17931.0, 13659.0, 13115.0, 14276.0, 17426.0, 14322.0, 13020.0, 12993.0, 16170.0, 13579.0, 14152.0, 18178.0, 12891.0, 18257.0, 15306.0, 17145.0, 13662.0, 13552.0, 14878.0, 15774.0, 13980.0, 15754.0, 17829.0, 17667.0, 13772.0, 15955.0, 12482.0, 12909.0, 16118.0, 16471.0, 18009.0, 16677.0, 14459.0, 15664.0, 16283.0, 12598.0, 16037.0, 13018.0, 13911.0, 13126.0, 16960.0, 16177.0, 12809.0, 13663.0, 16947.0, 12594.0, 14142.0, 17049.0, 17930.0, 18272.0, 14426.0, 13881.0, 17448.0, 18226.0, 13544.0, 15978.0, 14852.0, 14233.0, 13799.0, 14205.0, 17589.0, 13276.0, 16466.0, 12530.0, 16984.0, 17298.0, 15791.0, 16754.0, 17289.0, 18245.0, 14147.0, 15722.0, 16756.0, 14676.0, 13316.0, 13484.0, 16258.0, 13715.0, 15221.0, 17588.0, 16347.0, 15941.0, 13824.0, 14857.0, 14315.0, 18135.0, 14534.0, 16242.0, 14195.0, 14496.0, 14872.0, 16652.0, 13612.0, 16777.0, 13371.0, 16571.0, 14400.0, 16108.0, 18247.0, 16943.0, 13150.0, 14316.0, 15650.0, 17133.0, 13466.0, 14175.0, 16441.0, 16444.0, 15447.0, 13849.0, 13969.0, 13900.0, 12870.0, 15027.0, 14994.0, 18215.0, 15249.0, 15289.0, 12910.0, 14572.0, 15570.0, 17068.0, 15141.0, 13113.0, 15981.0, 17994.0, 16456.0, 16176.0, 16455.0, 17676.0, 15122.0, 14492.0, 14882.0, 16658.0, 17602.0, 16133.0, 13059.0, 15125.0, 12662.0, 18241.0, 13750.0, 14049.0, 16054.0, 14835.0, 15215.0, 14035.0, 13939.0, 14825.0, 15252.0, 12770.0, 14264.0, 15201.0, 16053.0, 13278.0, 17746.0, 16341.0, 17609.0, 12481.0, 16372.0, 12935.0, 12590.0, 14930.0, 14844.0, 12982.0, 14853.0, 12943.0, 15639.0, 16292.0, 13015.0, 13734.0, 14623.0, 14395.0, 14611.0, 18062.0, 13461.0, 13963.0, 14655.0, 13656.0, 15600.0, 13863.0, 12838.0, 15384.0, 16623.0, 13012.0, 13655.0, 13281.0, 15402.0, 16138.0, 14978.0, 15101.0, 16767.0, 17730.0, 16332.0, 16607.0, 18141.0, 17463.0, 12915.0, 15253.0, 15426.0, 14634.0, 16145.0, 14025.0, 14437.0, 15381.0, 15704.0, 17597.0, 13102.0, 13024.0, 13425.0, 17135.0, 17720.0, 13295.0, 16898.0, 12494.0, 16993.0, 17897.0, 18197.0, 14296.0, 13300.0, 18258.0, 13857.0, 13541.0, 16835.0, 14334.0, 15777.0, 14850.0, 13213.0, 16604.0, 14409.0, 16121.0, 13778.0, 12409.0, 14168.0, 14847.0, 15681.0, 12802.0, 13324.0, 12656.0, 15900.0, 16153.0, 14938.0, 13920.0, 17499.0, 16234.0, 16101.0, 16218.0, 16518.0, 15980.0, 15670.0, 16565.0, 16401.0, 17096.0, 15502.0, 12874.0, 18214.0, 14902.0, 14766.0, 13109.0, 14128.0, 14247.0, 14734.0, 17987.0, 14028.0, 14515.0, 13699.0, 16232.0, 15551.0, 16048.0, 14308.0, 13502.0, 14615.0, 14180.0, 17204.0, 13065.0, 15207.0, 14618.0, 17691.0, 16499.0, 14727.0, 13337.0, 12429.0, 17546.0, 14255.0, 13231.0, 13745.0, 16622.0, 16625.0, 18020.0, 15901.0, 15016.0, 13069.0, 16500.0, 16001.0, 13297.0, 15816.0, 15625.0, 13567.0, 15432.0, 16134.0, 17692.0, 14508.0, 13335.0, 18023.0, 16981.0, 17399.0, 16155.0, 12412.0, 14840.0, 15247.0, 16739.0, 15786.0, 16503.0, 16227.0, 16894.0, 15809.0, 17422.0, 17380.0, 14725.0, 16180.0, 15248.0, 16683.0, 13861.0, 14199.0, 15264.0, 17578.0, 12451.0, 14020.0, 13299.0, 12529.0, 15430.0, 15842.0, 18053.0, 14217.0, 13814.0, 18109.0, 17651.0, 16926.0, 12576.0, 13292.0, 18217.0, 14693.0, 18230.0, 12633.0, 14963.0, 13246.0, 12693.0, 15076.0, 16576.0, 12749.0, 13534.0, 12782.0, 12592.0, 12963.0, 12841.0, 15283.0, 17408.0, 17714.0, 17034.0, 17921.0, 17680.0, 14553.0, 17339.0, 16861.0, 15788.0, 17090.0, 12480.0, 12720.0, 16975.0, 16555.0, 12421.0, 14236.0, 13239.0, 13250.0, 12889.0, 12476.0, 15142.0, 12801.0, 15873.0, 13384.0, 15596.0, 18207.0, 16278.0, 14901.0, 18075.0, 16045.0, 12408.0, 15021.0, 17735.0, 14455.0, 13617.0, 18277.0, 13090.0, 16316.0, 13084.0, 17156.0, 15271.0, 14521.0, 17975.0, 17732.0, 14631.0, 14794.0, 16221.0, 13717.0, 12771.0, 17615.0, 16033.0, 15652.0, 18227.0, 12676.0, 13320.0, 15764.0, 17599.0, 16919.0, 13479.0, 16299.0, 12519.0, 12433.0, 14243.0, 16396.0, 12450.0, 16770.0, 14321.0, 17649.0, 14342.0, 12721.0, 14229.0, 16235.0, 14482.0, 13884.0, 14499.0, 17894.0, 13922.0, 14885.0, 12651.0, 15574.0, 12414.0, 16065.0, 15092.0, 16289.0, 13506.0, 13032.0, 12605.0, 13005.0, 16886.0, 14328.0, 17473.0, 17366.0, 16042.0, 16799.0, 17728.0, 13440.0, 15107.0, 18136.0, 15966.0, 12768.0, 15906.0, 13784.0, 16005.0, 16080.0, 16979.0, 13424.0, 16646.0, 15535.0, 12425.0, 17743.0, 13701.0, 13554.0, 14776.0, 17811.0, 14906.0, 17284.0, 16465.0, 14933.0, 12578.0, 13910.0, 18193.0, 15476.0, 16298.0, 16546.0, 16775.0, 16531.0, 14875.0, 14934.0, 17396.0, 14802.0, 14226.0, 14094.0, 14269.0, 13118.0, 15469.0, 13290.0, 17315.0, 16879.0, 17524.0, 17450.0, 16362.0, 16269.0, 15347.0, 13927.0, 14510.0, 13257.0, 16490.0, 14953.0, 15736.0, 14800.0, 15960.0, 14568.0, 13763.0, 12457.0, 16630.0, 17360.0, 15276.0, 13198.0, 13674.0, 13014.0, 15351.0, 13642.0, 14008.0, 15579.0, 16817.0, 17621.0, 16476.0, 18284.0, 14065.0, 15730.0, 15346.0, 16061.0, 16446.0, 14314.0, 13964.0, 15490.0, 14120.0, 13055.0, 17429.0, 12511.0, 12393.0, 17424.0, 15314.0, 16350.0, 15281.0, 14846.0, 15708.0, 16579.0, 15645.0, 14390.0, 13362.0, 14756.0, 12797.0, 15834.0, 17755.0, 13368.0, 14981.0, 12553.0, 12467.0, 16643.0, 13378.0, 15202.0, 17817.0, 14696.0, 15626.0, 12694.0, 14088.0, 18018.0, 12445.0, 13692.0, 13463.0, 14781.0, 16810.0, 16996.0, 13981.0, 15377.0, 13703.0, 16642.0, 16903.0, 16590.0, 17924.0, 13836.0, 14216.0, 12787.0, 16491.0, 16010.0, 15337.0, 15294.0, 12790.0, 15620.0, 16034.0, 15940.0, 12505.0, 16188.0, 12766.0, 16265.0, 14213.0, 14777.0, 15729.0, 13359.0, 13597.0, 14206.0, 13607.0, 13937.0, 13453.0, 16016.0, 17276.0, 17170.0, 17420.0, 15158.0, 13049.0, 15724.0, 17702.0, 17977.0, 13660.0, 16228.0, 13646.0, 13138.0, 17084.0, 17548.0, 17374.0, 18280.0, 15138.0, 17688.0, 13365.0, 15468.0, 13961.0, 17495.0, 18221.0, 14382.0, 18084.0, 16602.0, 13353.0, 12616.0, 13624.0, 12807.0, 17659.0, 16252.0, 16812.0, 13651.0, 17570.0, 18118.0, 14487.0, 14443.0, 12385.0, 13626.0, 16355.0, 17378.0, 15922.0, 16995.0, 13370.0, 15880.0]\n"
     ]
    }
   ],
   "source": [
    "print(f'In total {len(l)} users made a cancellation in the second half of 2010')\n",
    "print()\n",
    "print(\"User IDs of the users who made a cancellation in the second half of 2010:\")\n",
    "print()\n",
    "print(l)"
   ]
  },
  {
   "cell_type": "markdown",
   "id": "ongoing-dryer",
   "metadata": {},
   "source": [
    "In total"
   ]
  },
  {
   "cell_type": "code",
   "execution_count": 840,
   "id": "thrown-motivation",
   "metadata": {},
   "outputs": [
    {
     "data": {
      "text/plain": [
       "1252"
      ]
     },
     "execution_count": 840,
     "metadata": {},
     "output_type": "execute_result"
    }
   ],
   "source": [
    "len(set(l))"
   ]
  },
  {
   "cell_type": "code",
   "execution_count": null,
   "id": "nonprofit-numbers",
   "metadata": {},
   "outputs": [],
   "source": []
  },
  {
   "cell_type": "markdown",
   "id": "killing-license",
   "metadata": {},
   "source": [
    "### Make predictions for the customers active in December 2010"
   ]
  },
  {
   "cell_type": "code",
   "execution_count": 841,
   "id": "proper-resident",
   "metadata": {},
   "outputs": [],
   "source": [
    "active_customers = pd.DataFrame(df[df.InvoiceDate>pd.to_datetime('2010-12-01')].groupby('Customer ID')['Quantity'].apply(lambda x: list(x)[0]))"
   ]
  },
  {
   "cell_type": "code",
   "execution_count": 842,
   "id": "chief-subsection",
   "metadata": {},
   "outputs": [],
   "source": [
    "active_customers = pd.merge(active_customers, X_test, how='inner', on='Customer ID')"
   ]
  },
  {
   "cell_type": "code",
   "execution_count": 843,
   "id": "treated-banking",
   "metadata": {},
   "outputs": [
    {
     "name": "stdout",
     "output_type": "stream",
     "text": [
      "Number of customers from the test set that are active in December 2010:\n"
     ]
    },
    {
     "data": {
      "text/plain": [
       "254"
      ]
     },
     "execution_count": 843,
     "metadata": {},
     "output_type": "execute_result"
    }
   ],
   "source": [
    "print('Number of customers from the test set that are active in December 2010:')\n",
    "active_customers.shape[0]"
   ]
  },
  {
   "cell_type": "markdown",
   "id": "vital-occasions",
   "metadata": {},
   "source": [
    "List of customers predicted to make a cancellation in December 2010:"
   ]
  },
  {
   "cell_type": "code",
   "execution_count": 844,
   "id": "super-front",
   "metadata": {
    "scrolled": true
   },
   "outputs": [
    {
     "data": {
      "text/plain": [
       "[12395.0,\n",
       " 12431.0,\n",
       " 12471.0,\n",
       " 12494.0,\n",
       " 12600.0,\n",
       " 12647.0,\n",
       " 12649.0,\n",
       " 12681.0,\n",
       " 12708.0,\n",
       " 12709.0,\n",
       " 12720.0,\n",
       " 12721.0,\n",
       " 12747.0,\n",
       " 12755.0,\n",
       " 12766.0,\n",
       " 12797.0,\n",
       " 12808.0,\n",
       " 12838.0,\n",
       " 12841.0,\n",
       " 12870.0,\n",
       " 12872.0,\n",
       " 12921.0,\n",
       " 12963.0,\n",
       " 13050.0,\n",
       " 13065.0,\n",
       " 13069.0,\n",
       " 13077.0,\n",
       " 13078.0,\n",
       " 13081.0,\n",
       " 13102.0,\n",
       " 13115.0,\n",
       " 13117.0,\n",
       " 13126.0,\n",
       " 13136.0,\n",
       " 13173.0,\n",
       " 13230.0,\n",
       " 13255.0,\n",
       " 13269.0,\n",
       " 13319.0,\n",
       " 13327.0,\n",
       " 13329.0,\n",
       " 13370.0,\n",
       " 13418.0,\n",
       " 13468.0,\n",
       " 13481.0,\n",
       " 13491.0,\n",
       " 13579.0,\n",
       " 13599.0,\n",
       " 13756.0,\n",
       " 13758.0,\n",
       " 13769.0,\n",
       " 13831.0,\n",
       " 13838.0,\n",
       " 13842.0,\n",
       " 13958.0,\n",
       " 13963.0,\n",
       " 14085.0,\n",
       " 14135.0,\n",
       " 14142.0,\n",
       " 14205.0,\n",
       " 14210.0,\n",
       " 14293.0,\n",
       " 14404.0,\n",
       " 14409.0,\n",
       " 14437.0,\n",
       " 14440.0,\n",
       " 14443.0,\n",
       " 14466.0,\n",
       " 14506.0,\n",
       " 14589.0,\n",
       " 14688.0,\n",
       " 14696.0,\n",
       " 14713.0,\n",
       " 14744.0,\n",
       " 14766.0,\n",
       " 14813.0,\n",
       " 14896.0,\n",
       " 14901.0,\n",
       " 14911.0,\n",
       " 14932.0,\n",
       " 14952.0,\n",
       " 14987.0,\n",
       " 15005.0,\n",
       " 15023.0,\n",
       " 15070.0,\n",
       " 15081.0,\n",
       " 15100.0,\n",
       " 15181.0,\n",
       " 15194.0,\n",
       " 15298.0,\n",
       " 15311.0,\n",
       " 15332.0,\n",
       " 15351.0,\n",
       " 15358.0,\n",
       " 15502.0,\n",
       " 15529.0,\n",
       " 15555.0,\n",
       " 15596.0,\n",
       " 15602.0,\n",
       " 15605.0,\n",
       " 15658.0,\n",
       " 15694.0,\n",
       " 15750.0,\n",
       " 15769.0,\n",
       " 15823.0,\n",
       " 15827.0,\n",
       " 15834.0,\n",
       " 15838.0,\n",
       " 15889.0,\n",
       " 15922.0,\n",
       " 15955.0,\n",
       " 16033.0,\n",
       " 16042.0,\n",
       " 16065.0,\n",
       " 16086.0,\n",
       " 16125.0,\n",
       " 16150.0,\n",
       " 16168.0,\n",
       " 16252.0,\n",
       " 16327.0,\n",
       " 16350.0,\n",
       " 16353.0,\n",
       " 16365.0,\n",
       " 16422.0,\n",
       " 16477.0,\n",
       " 16510.0,\n",
       " 16519.0,\n",
       " 16550.0,\n",
       " 16634.0,\n",
       " 16654.0,\n",
       " 16700.0,\n",
       " 16710.0,\n",
       " 16713.0,\n",
       " 16717.0,\n",
       " 16725.0,\n",
       " 16781.0,\n",
       " 16782.0,\n",
       " 16795.0,\n",
       " 16883.0,\n",
       " 16891.0,\n",
       " 16955.0,\n",
       " 17069.0,\n",
       " 17091.0,\n",
       " 17181.0,\n",
       " 17191.0,\n",
       " 17211.0,\n",
       " 17213.0,\n",
       " 17218.0,\n",
       " 17235.0,\n",
       " 17287.0,\n",
       " 17307.0,\n",
       " 17320.0,\n",
       " 17346.0,\n",
       " 17377.0,\n",
       " 17396.0,\n",
       " 17411.0,\n",
       " 17412.0,\n",
       " 17420.0,\n",
       " 17442.0,\n",
       " 17511.0,\n",
       " 17547.0,\n",
       " 17596.0,\n",
       " 17643.0,\n",
       " 17655.0,\n",
       " 17659.0,\n",
       " 17677.0,\n",
       " 17682.0,\n",
       " 17690.0,\n",
       " 17700.0,\n",
       " 17702.0,\n",
       " 17722.0,\n",
       " 17732.0,\n",
       " 17735.0,\n",
       " 17809.0,\n",
       " 17858.0,\n",
       " 17873.0,\n",
       " 17905.0,\n",
       " 17920.0,\n",
       " 17954.0,\n",
       " 17965.0,\n",
       " 17975.0,\n",
       " 18055.0,\n",
       " 18071.0,\n",
       " 18077.0,\n",
       " 18102.0,\n",
       " 18109.0,\n",
       " 18219.0,\n",
       " 18259.0]"
      ]
     },
     "execution_count": 844,
     "metadata": {},
     "output_type": "execute_result"
    }
   ],
   "source": [
    "active_customers[active_customers['Cancellation Prediction']==1].index.to_list()"
   ]
  },
  {
   "cell_type": "code",
   "execution_count": 845,
   "id": "impressive-combat",
   "metadata": {},
   "outputs": [
    {
     "data": {
      "text/plain": [
       "Customer ID\n",
       "12347.0    0.082254\n",
       "12386.0    0.204460\n",
       "12395.0    0.838673\n",
       "12431.0    0.927169\n",
       "12441.0    0.284760\n",
       "             ...   \n",
       "18193.0    0.475796\n",
       "18219.0    0.884480\n",
       "18229.0    0.303811\n",
       "18259.0    0.565861\n",
       "18269.0    0.182837\n",
       "Name: Cancellation Probability, Length: 254, dtype: float32"
      ]
     },
     "execution_count": 845,
     "metadata": {},
     "output_type": "execute_result"
    }
   ],
   "source": [
    "active_customers['Cancellation Probability']"
   ]
  },
  {
   "cell_type": "markdown",
   "id": "facial-angola",
   "metadata": {},
   "source": [
    "Having a look of the cancellation probability distribution:"
   ]
  },
  {
   "cell_type": "code",
   "execution_count": 846,
   "id": "cathedral-clock",
   "metadata": {},
   "outputs": [
    {
     "data": {
      "image/png": "[encoded data removed]",
      "text/plain": [
       "<Figure size 432x288 with 1 Axes>"
      ]
     },
     "metadata": {
      "needs_background": "light"
     },
     "output_type": "display_data"
    }
   ],
   "source": [
    "plt.hist(active_customers['Cancellation Probability'],\\\n",
    "         bins=20, alpha=0.3)\n",
    "plt.xlabel('Cancellation Probability')\n",
    "plt.show()"
   ]
  },
  {
   "cell_type": "markdown",
   "id": "magnetic-couple",
   "metadata": {},
   "source": [
    "Customers with a cancellation probability above 0.9 in december 2010:"
   ]
  },
  {
   "cell_type": "code",
   "execution_count": 847,
   "id": "union-example",
   "metadata": {},
   "outputs": [
    {
     "name": "stdout",
     "output_type": "stream",
     "text": [
      "In total 84 users have a high probability of making= a cancellation in December 2010\n",
      "\n",
      "User IDs of the users with a high probability of making= a cancellation in December 2010 :\n",
      "\n",
      "[12431.0, 12471.0, 12600.0, 12647.0, 12681.0, 12708.0, 12709.0, 12720.0, 12747.0, 12755.0, 12766.0, 12838.0, 12921.0, 12963.0, 13050.0, 13069.0, 13077.0, 13078.0, 13081.0, 13102.0, 13126.0, 13136.0, 13319.0, 13327.0, 13329.0, 13418.0, 13468.0, 13481.0, 13599.0, 13756.0, 13758.0, 13769.0, 13831.0, 13958.0, 14135.0, 14142.0, 14440.0, 14744.0, 14766.0, 14911.0, 14952.0, 15023.0, 15181.0, 15194.0, 15298.0, 15311.0, 15332.0, 15358.0, 15502.0, 15555.0, 15596.0, 15602.0, 15694.0, 15750.0, 15769.0, 15823.0, 15827.0, 15838.0, 15955.0, 16125.0, 16168.0, 16327.0, 16422.0, 16477.0, 16550.0, 16700.0, 16713.0, 16717.0, 17069.0, 17091.0, 17346.0, 17377.0, 17412.0, 17511.0, 17677.0, 17690.0, 17700.0, 17732.0, 17735.0, 17858.0, 17873.0, 17920.0, 18055.0, 18102.0]\n"
     ]
    }
   ],
   "source": [
    "l = list(active_customers[active_customers['Cancellation Probability']>0.9].index)\n",
    "print(f'In total {len(l)} users have a high probability of making= a cancellation in December 2010')\n",
    "print()\n",
    "print(\"User IDs of the users with a high probability of making= a cancellation in December 2010 :\")\n",
    "print()\n",
    "print(l)"
   ]
  },
  {
   "cell_type": "markdown",
   "id": "frequent-parker",
   "metadata": {},
   "source": [
    "# Backup"
   ]
  },
  {
   "cell_type": "code",
   "execution_count": null,
   "id": "clean-sudan",
   "metadata": {},
   "outputs": [],
   "source": [
    "Customer With Cancellations\n"
   ]
  },
  {
   "cell_type": "code",
   "execution_count": null,
   "id": "compact-abuse",
   "metadata": {},
   "outputs": [],
   "source": [
    "df_cust_canc = pd.DataFrame(df.query('`Customer With Cancellations`==True and Cancellation==True')[df['Cancellation']==True].groupby(['Customer ID']).Description.apply(list).apply(lambda l: max(set(l), key=l.count))).rename(columns={'Description': 'Canc Most Frequent Item'})\n"
   ]
  },
  {
   "cell_type": "code",
   "execution_count": 74,
   "id": "polished-ukraine",
   "metadata": {},
   "outputs": [
    {
     "data": {
      "text/html": [
       "<div>\n",
       "<style scoped>\n",
       "    .dataframe tbody tr th:only-of-type {\n",
       "        vertical-align: middle;\n",
       "    }\n",
       "\n",
       "    .dataframe tbody tr th {\n",
       "        vertical-align: top;\n",
       "    }\n",
       "\n",
       "    .dataframe thead th {\n",
       "        text-align: right;\n",
       "    }\n",
       "</style>\n",
       "<table border=\"1\" class=\"dataframe\">\n",
       "  <thead>\n",
       "    <tr style=\"text-align: right;\">\n",
       "      <th></th>\n",
       "      <th>Invoice</th>\n",
       "      <th>StockCode</th>\n",
       "      <th>Description</th>\n",
       "      <th>Quantity</th>\n",
       "      <th>InvoiceDate</th>\n",
       "      <th>Price</th>\n",
       "      <th>Customer ID</th>\n",
       "      <th>Country</th>\n",
       "      <th>Cancellation</th>\n",
       "      <th>Transaction Price</th>\n",
       "      <th>Customer With Cancellations</th>\n",
       "    </tr>\n",
       "  </thead>\n",
       "  <tbody>\n",
       "    <tr>\n",
       "      <th>178</th>\n",
       "      <td>C489449</td>\n",
       "      <td>22087</td>\n",
       "      <td>PAPER BUNTING WHITE LACE</td>\n",
       "      <td>-12</td>\n",
       "      <td>2009-12-01 10:33:00</td>\n",
       "      <td>2.95</td>\n",
       "      <td>16321.0</td>\n",
       "      <td>Australia</td>\n",
       "      <td>True</td>\n",
       "      <td>-35.40</td>\n",
       "      <td>True</td>\n",
       "    </tr>\n",
       "    <tr>\n",
       "      <th>179</th>\n",
       "      <td>C489449</td>\n",
       "      <td>85206A</td>\n",
       "      <td>CREAM FELT EASTER EGG BASKET</td>\n",
       "      <td>-6</td>\n",
       "      <td>2009-12-01 10:33:00</td>\n",
       "      <td>1.65</td>\n",
       "      <td>16321.0</td>\n",
       "      <td>Australia</td>\n",
       "      <td>True</td>\n",
       "      <td>-9.90</td>\n",
       "      <td>True</td>\n",
       "    </tr>\n",
       "    <tr>\n",
       "      <th>180</th>\n",
       "      <td>C489449</td>\n",
       "      <td>21895</td>\n",
       "      <td>POTTING SHED SOW 'N' GROW SET</td>\n",
       "      <td>-4</td>\n",
       "      <td>2009-12-01 10:33:00</td>\n",
       "      <td>4.25</td>\n",
       "      <td>16321.0</td>\n",
       "      <td>Australia</td>\n",
       "      <td>True</td>\n",
       "      <td>-17.00</td>\n",
       "      <td>True</td>\n",
       "    </tr>\n",
       "    <tr>\n",
       "      <th>181</th>\n",
       "      <td>C489449</td>\n",
       "      <td>21896</td>\n",
       "      <td>POTTING SHED TWINE</td>\n",
       "      <td>-6</td>\n",
       "      <td>2009-12-01 10:33:00</td>\n",
       "      <td>2.10</td>\n",
       "      <td>16321.0</td>\n",
       "      <td>Australia</td>\n",
       "      <td>True</td>\n",
       "      <td>-12.60</td>\n",
       "      <td>True</td>\n",
       "    </tr>\n",
       "    <tr>\n",
       "      <th>182</th>\n",
       "      <td>C489449</td>\n",
       "      <td>22083</td>\n",
       "      <td>PAPER CHAIN KIT RETRO SPOT</td>\n",
       "      <td>-12</td>\n",
       "      <td>2009-12-01 10:33:00</td>\n",
       "      <td>2.95</td>\n",
       "      <td>16321.0</td>\n",
       "      <td>Australia</td>\n",
       "      <td>True</td>\n",
       "      <td>-35.40</td>\n",
       "      <td>True</td>\n",
       "    </tr>\n",
       "    <tr>\n",
       "      <th>...</th>\n",
       "      <td>...</td>\n",
       "      <td>...</td>\n",
       "      <td>...</td>\n",
       "      <td>...</td>\n",
       "      <td>...</td>\n",
       "      <td>...</td>\n",
       "      <td>...</td>\n",
       "      <td>...</td>\n",
       "      <td>...</td>\n",
       "      <td>...</td>\n",
       "      <td>...</td>\n",
       "    </tr>\n",
       "    <tr>\n",
       "      <th>410390</th>\n",
       "      <td>C538123</td>\n",
       "      <td>22956</td>\n",
       "      <td>36 FOIL HEART CAKE CASES</td>\n",
       "      <td>-2</td>\n",
       "      <td>2010-12-09 15:41:00</td>\n",
       "      <td>2.10</td>\n",
       "      <td>12605.0</td>\n",
       "      <td>Germany</td>\n",
       "      <td>True</td>\n",
       "      <td>-4.20</td>\n",
       "      <td>True</td>\n",
       "    </tr>\n",
       "    <tr>\n",
       "      <th>410391</th>\n",
       "      <td>C538124</td>\n",
       "      <td>M</td>\n",
       "      <td>Manual</td>\n",
       "      <td>-4</td>\n",
       "      <td>2010-12-09 15:43:00</td>\n",
       "      <td>0.50</td>\n",
       "      <td>15329.0</td>\n",
       "      <td>United Kingdom</td>\n",
       "      <td>True</td>\n",
       "      <td>-2.00</td>\n",
       "      <td>True</td>\n",
       "    </tr>\n",
       "    <tr>\n",
       "      <th>410392</th>\n",
       "      <td>C538124</td>\n",
       "      <td>22699</td>\n",
       "      <td>ROSES REGENCY TEACUP AND SAUCER</td>\n",
       "      <td>-1</td>\n",
       "      <td>2010-12-09 15:43:00</td>\n",
       "      <td>2.95</td>\n",
       "      <td>15329.0</td>\n",
       "      <td>United Kingdom</td>\n",
       "      <td>True</td>\n",
       "      <td>-2.95</td>\n",
       "      <td>True</td>\n",
       "    </tr>\n",
       "    <tr>\n",
       "      <th>410393</th>\n",
       "      <td>C538124</td>\n",
       "      <td>22423</td>\n",
       "      <td>REGENCY CAKESTAND 3 TIER</td>\n",
       "      <td>-1</td>\n",
       "      <td>2010-12-09 15:43:00</td>\n",
       "      <td>12.75</td>\n",
       "      <td>15329.0</td>\n",
       "      <td>United Kingdom</td>\n",
       "      <td>True</td>\n",
       "      <td>-12.75</td>\n",
       "      <td>True</td>\n",
       "    </tr>\n",
       "    <tr>\n",
       "      <th>410586</th>\n",
       "      <td>C538164</td>\n",
       "      <td>35004B</td>\n",
       "      <td>SET OF 3 BLACK FLYING DUCKS</td>\n",
       "      <td>-1</td>\n",
       "      <td>2010-12-09 17:32:00</td>\n",
       "      <td>1.95</td>\n",
       "      <td>14031.0</td>\n",
       "      <td>United Kingdom</td>\n",
       "      <td>True</td>\n",
       "      <td>-1.95</td>\n",
       "      <td>True</td>\n",
       "    </tr>\n",
       "  </tbody>\n",
       "</table>\n",
       "<p>9816 rows × 11 columns</p>\n",
       "</div>"
      ],
      "text/plain": [
       "        Invoice StockCode                       Description  Quantity  \\\n",
       "178     C489449     22087          PAPER BUNTING WHITE LACE       -12   \n",
       "179     C489449    85206A      CREAM FELT EASTER EGG BASKET        -6   \n",
       "180     C489449     21895     POTTING SHED SOW 'N' GROW SET        -4   \n",
       "181     C489449     21896                POTTING SHED TWINE        -6   \n",
       "182     C489449     22083        PAPER CHAIN KIT RETRO SPOT       -12   \n",
       "...         ...       ...                               ...       ...   \n",
       "410390  C538123     22956          36 FOIL HEART CAKE CASES        -2   \n",
       "410391  C538124         M                            Manual        -4   \n",
       "410392  C538124     22699  ROSES REGENCY TEACUP AND SAUCER         -1   \n",
       "410393  C538124     22423          REGENCY CAKESTAND 3 TIER        -1   \n",
       "410586  C538164    35004B       SET OF 3 BLACK FLYING DUCKS        -1   \n",
       "\n",
       "               InvoiceDate  Price  Customer ID         Country  Cancellation  \\\n",
       "178    2009-12-01 10:33:00   2.95      16321.0       Australia          True   \n",
       "179    2009-12-01 10:33:00   1.65      16321.0       Australia          True   \n",
       "180    2009-12-01 10:33:00   4.25      16321.0       Australia          True   \n",
       "181    2009-12-01 10:33:00   2.10      16321.0       Australia          True   \n",
       "182    2009-12-01 10:33:00   2.95      16321.0       Australia          True   \n",
       "...                    ...    ...          ...             ...           ...   \n",
       "410390 2010-12-09 15:41:00   2.10      12605.0         Germany          True   \n",
       "410391 2010-12-09 15:43:00   0.50      15329.0  United Kingdom          True   \n",
       "410392 2010-12-09 15:43:00   2.95      15329.0  United Kingdom          True   \n",
       "410393 2010-12-09 15:43:00  12.75      15329.0  United Kingdom          True   \n",
       "410586 2010-12-09 17:32:00   1.95      14031.0  United Kingdom          True   \n",
       "\n",
       "        Transaction Price  Customer With Cancellations  \n",
       "178                -35.40                         True  \n",
       "179                 -9.90                         True  \n",
       "180                -17.00                         True  \n",
       "181                -12.60                         True  \n",
       "182                -35.40                         True  \n",
       "...                   ...                          ...  \n",
       "410390              -4.20                         True  \n",
       "410391              -2.00                         True  \n",
       "410392              -2.95                         True  \n",
       "410393             -12.75                         True  \n",
       "410586              -1.95                         True  \n",
       "\n",
       "[9816 rows x 11 columns]"
      ]
     },
     "execution_count": 74,
     "metadata": {},
     "output_type": "execute_result"
    }
   ],
   "source": [
    "df.query('`Customer With Cancellations`==True and Cancellation==True')"
   ]
  },
  {
   "cell_type": "code",
   "execution_count": null,
   "id": "breeding-geneva",
   "metadata": {},
   "outputs": [],
   "source": []
  },
  {
   "cell_type": "code",
   "execution_count": null,
   "id": "convinced-measure",
   "metadata": {},
   "outputs": [],
   "source": []
  },
  {
   "cell_type": "code",
   "execution_count": 29,
   "id": "duplicate-hayes",
   "metadata": {},
   "outputs": [
    {
     "data": {
      "text/plain": [
       "Index(['Invoice', 'StockCode', 'Description', 'Quantity', 'InvoiceDate',\n",
       "       'Price', 'Customer ID', 'Country', 'Cancellation', 'Transaction Price'],\n",
       "      dtype='object')"
      ]
     },
     "execution_count": 29,
     "metadata": {},
     "output_type": "execute_result"
    }
   ],
   "source": [
    "df.columns"
   ]
  },
  {
   "cell_type": "code",
   "execution_count": null,
   "id": "spare-karen",
   "metadata": {},
   "outputs": [],
   "source": [
    "df.groupby(['Customer ID', 'Cancellation'])"
   ]
  },
  {
   "cell_type": "code",
   "execution_count": 55,
   "id": "italian-accused",
   "metadata": {},
   "outputs": [],
   "source": [
    "df_cust_canc = pd.DataFrame(df.groupby(['Customer ID', 'Cancellation']).Description.apply(list).apply(lambda l: max(set(l), key=l.count))).rename(columns={'Description': 'Most Frequent Item'})\n",
    "\n",
    "tmp = df.groupby(['Customer ID', 'Cancellation']).Quantity.\\\n",
    "agg(['sum', 'mean', 'min', 'max']).rename(columns={'sum': 'Quantity Sum', 'mean': 'Quantity Mean', 'min': 'Quantity Min', 'max': 'Quantity Max'})\n",
    "df_cust_canc = pd.concat([df_cust_canc, tmp], axis=1)\n",
    "\n",
    "tmp = df.groupby(['Customer ID', 'Cancellation'])['Transaction Price'].\\\n",
    "agg(['sum', 'mean', 'min', 'max']).rename(columns={'sum': 'Transaction Price Sum', 'mean': 'Transaction Price Mean', 'min': 'Transaction Price Min', 'max': 'Transaction Price Max'})\n",
    "df_cust_canc = pd.concat([df_cust_canc, tmp], axis=1)"
   ]
  },
  {
   "cell_type": "code",
   "execution_count": 56,
   "id": "guilty-celtic",
   "metadata": {
    "scrolled": true
   },
   "outputs": [
    {
     "data": {
      "text/html": [
       "<div>\n",
       "<style scoped>\n",
       "    .dataframe tbody tr th:only-of-type {\n",
       "        vertical-align: middle;\n",
       "    }\n",
       "\n",
       "    .dataframe tbody tr th {\n",
       "        vertical-align: top;\n",
       "    }\n",
       "\n",
       "    .dataframe thead th {\n",
       "        text-align: right;\n",
       "    }\n",
       "</style>\n",
       "<table border=\"1\" class=\"dataframe\">\n",
       "  <thead>\n",
       "    <tr style=\"text-align: right;\">\n",
       "      <th></th>\n",
       "      <th></th>\n",
       "      <th>Most Frequent Item</th>\n",
       "      <th>Quantity Sum</th>\n",
       "      <th>Quantity Mean</th>\n",
       "      <th>Quantity Min</th>\n",
       "      <th>Quantity Max</th>\n",
       "      <th>Transaction Price Sum</th>\n",
       "      <th>Transaction Price Mean</th>\n",
       "      <th>Transaction Price Min</th>\n",
       "      <th>Transaction Price Max</th>\n",
       "    </tr>\n",
       "    <tr>\n",
       "      <th>Customer ID</th>\n",
       "      <th>Cancellation</th>\n",
       "      <th></th>\n",
       "      <th></th>\n",
       "      <th></th>\n",
       "      <th></th>\n",
       "      <th></th>\n",
       "      <th></th>\n",
       "      <th></th>\n",
       "      <th></th>\n",
       "      <th></th>\n",
       "    </tr>\n",
       "  </thead>\n",
       "  <tbody>\n",
       "    <tr>\n",
       "      <th rowspan=\"2\" valign=\"top\">12346.0</th>\n",
       "      <th>False</th>\n",
       "      <td>This is a test product.</td>\n",
       "      <td>70</td>\n",
       "      <td>2.121212</td>\n",
       "      <td>1</td>\n",
       "      <td>10</td>\n",
       "      <td>372.86</td>\n",
       "      <td>11.298788</td>\n",
       "      <td>1.00</td>\n",
       "      <td>45.00</td>\n",
       "    </tr>\n",
       "    <tr>\n",
       "      <th>True</th>\n",
       "      <td>Manual</td>\n",
       "      <td>-17</td>\n",
       "      <td>-1.416667</td>\n",
       "      <td>-4</td>\n",
       "      <td>-1</td>\n",
       "      <td>-424.60</td>\n",
       "      <td>-35.383333</td>\n",
       "      <td>-142.31</td>\n",
       "      <td>-1.00</td>\n",
       "    </tr>\n",
       "    <tr>\n",
       "      <th>12347.0</th>\n",
       "      <th>False</th>\n",
       "      <td>3D DOG PICTURE PLAYING CARDS</td>\n",
       "      <td>828</td>\n",
       "      <td>11.661972</td>\n",
       "      <td>3</td>\n",
       "      <td>36</td>\n",
       "      <td>1323.32</td>\n",
       "      <td>18.638310</td>\n",
       "      <td>7.80</td>\n",
       "      <td>70.80</td>\n",
       "    </tr>\n",
       "    <tr>\n",
       "      <th>12348.0</th>\n",
       "      <th>False</th>\n",
       "      <td>PACK OF 72 SKULL CAKE CASES</td>\n",
       "      <td>373</td>\n",
       "      <td>18.650000</td>\n",
       "      <td>1</td>\n",
       "      <td>24</td>\n",
       "      <td>222.16</td>\n",
       "      <td>11.108000</td>\n",
       "      <td>1.00</td>\n",
       "      <td>17.40</td>\n",
       "    </tr>\n",
       "    <tr>\n",
       "      <th>12349.0</th>\n",
       "      <th>False</th>\n",
       "      <td>LOVE HEART SOCK HANGER</td>\n",
       "      <td>993</td>\n",
       "      <td>9.735294</td>\n",
       "      <td>1</td>\n",
       "      <td>48</td>\n",
       "      <td>2671.14</td>\n",
       "      <td>26.187647</td>\n",
       "      <td>7.80</td>\n",
       "      <td>250.00</td>\n",
       "    </tr>\n",
       "    <tr>\n",
       "      <th>...</th>\n",
       "      <th>...</th>\n",
       "      <td>...</td>\n",
       "      <td>...</td>\n",
       "      <td>...</td>\n",
       "      <td>...</td>\n",
       "      <td>...</td>\n",
       "      <td>...</td>\n",
       "      <td>...</td>\n",
       "      <td>...</td>\n",
       "      <td>...</td>\n",
       "    </tr>\n",
       "    <tr>\n",
       "      <th>18285.0</th>\n",
       "      <th>False</th>\n",
       "      <td>GLASS CAKE STAND MIRRORED BASE</td>\n",
       "      <td>145</td>\n",
       "      <td>12.083333</td>\n",
       "      <td>1</td>\n",
       "      <td>80</td>\n",
       "      <td>427.00</td>\n",
       "      <td>35.583333</td>\n",
       "      <td>7.80</td>\n",
       "      <td>204.00</td>\n",
       "    </tr>\n",
       "    <tr>\n",
       "      <th rowspan=\"2\" valign=\"top\">18286.0</th>\n",
       "      <th>False</th>\n",
       "      <td>DOORMAT FANCY FONT HOME SWEET HOME</td>\n",
       "      <td>608</td>\n",
       "      <td>9.074627</td>\n",
       "      <td>1</td>\n",
       "      <td>36</td>\n",
       "      <td>1296.43</td>\n",
       "      <td>19.349701</td>\n",
       "      <td>7.50</td>\n",
       "      <td>74.85</td>\n",
       "    </tr>\n",
       "    <tr>\n",
       "      <th>True</th>\n",
       "      <td>GOLD  CHERRY LIGHTS</td>\n",
       "      <td>-16</td>\n",
       "      <td>-5.333333</td>\n",
       "      <td>-8</td>\n",
       "      <td>-4</td>\n",
       "      <td>-108.00</td>\n",
       "      <td>-36.000000</td>\n",
       "      <td>-54.00</td>\n",
       "      <td>-27.00</td>\n",
       "    </tr>\n",
       "    <tr>\n",
       "      <th rowspan=\"2\" valign=\"top\">18287.0</th>\n",
       "      <th>False</th>\n",
       "      <td>SCOTTIE DOG HOT WATER BOTTLE</td>\n",
       "      <td>1427</td>\n",
       "      <td>16.788235</td>\n",
       "      <td>1</td>\n",
       "      <td>60</td>\n",
       "      <td>2345.71</td>\n",
       "      <td>27.596588</td>\n",
       "      <td>5.04</td>\n",
       "      <td>122.40</td>\n",
       "    </tr>\n",
       "    <tr>\n",
       "      <th>True</th>\n",
       "      <td>COFFEE MUG CAT + BIRD DESIGN</td>\n",
       "      <td>-2</td>\n",
       "      <td>-2.000000</td>\n",
       "      <td>-2</td>\n",
       "      <td>-2</td>\n",
       "      <td>-5.10</td>\n",
       "      <td>-5.100000</td>\n",
       "      <td>-5.10</td>\n",
       "      <td>-5.10</td>\n",
       "    </tr>\n",
       "  </tbody>\n",
       "</table>\n",
       "<p>6112 rows × 9 columns</p>\n",
       "</div>"
      ],
      "text/plain": [
       "                                          Most Frequent Item  Quantity Sum  \\\n",
       "Customer ID Cancellation                                                     \n",
       "12346.0     False                    This is a test product.            70   \n",
       "            True                                      Manual           -17   \n",
       "12347.0     False               3D DOG PICTURE PLAYING CARDS           828   \n",
       "12348.0     False                PACK OF 72 SKULL CAKE CASES           373   \n",
       "12349.0     False                     LOVE HEART SOCK HANGER           993   \n",
       "...                                                      ...           ...   \n",
       "18285.0     False             GLASS CAKE STAND MIRRORED BASE           145   \n",
       "18286.0     False         DOORMAT FANCY FONT HOME SWEET HOME           608   \n",
       "            True                         GOLD  CHERRY LIGHTS           -16   \n",
       "18287.0     False               SCOTTIE DOG HOT WATER BOTTLE          1427   \n",
       "            True                COFFEE MUG CAT + BIRD DESIGN            -2   \n",
       "\n",
       "                          Quantity Mean  Quantity Min  Quantity Max  \\\n",
       "Customer ID Cancellation                                              \n",
       "12346.0     False              2.121212             1            10   \n",
       "            True              -1.416667            -4            -1   \n",
       "12347.0     False             11.661972             3            36   \n",
       "12348.0     False             18.650000             1            24   \n",
       "12349.0     False              9.735294             1            48   \n",
       "...                                 ...           ...           ...   \n",
       "18285.0     False             12.083333             1            80   \n",
       "18286.0     False              9.074627             1            36   \n",
       "            True              -5.333333            -8            -4   \n",
       "18287.0     False             16.788235             1            60   \n",
       "            True              -2.000000            -2            -2   \n",
       "\n",
       "                          Transaction Price Sum  Transaction Price Mean  \\\n",
       "Customer ID Cancellation                                                  \n",
       "12346.0     False                        372.86               11.298788   \n",
       "            True                        -424.60              -35.383333   \n",
       "12347.0     False                       1323.32               18.638310   \n",
       "12348.0     False                        222.16               11.108000   \n",
       "12349.0     False                       2671.14               26.187647   \n",
       "...                                         ...                     ...   \n",
       "18285.0     False                        427.00               35.583333   \n",
       "18286.0     False                       1296.43               19.349701   \n",
       "            True                        -108.00              -36.000000   \n",
       "18287.0     False                       2345.71               27.596588   \n",
       "            True                          -5.10               -5.100000   \n",
       "\n",
       "                          Transaction Price Min  Transaction Price Max  \n",
       "Customer ID Cancellation                                                \n",
       "12346.0     False                          1.00                  45.00  \n",
       "            True                        -142.31                  -1.00  \n",
       "12347.0     False                          7.80                  70.80  \n",
       "12348.0     False                          1.00                  17.40  \n",
       "12349.0     False                          7.80                 250.00  \n",
       "...                                         ...                    ...  \n",
       "18285.0     False                          7.80                 204.00  \n",
       "18286.0     False                          7.50                  74.85  \n",
       "            True                         -54.00                 -27.00  \n",
       "18287.0     False                          5.04                 122.40  \n",
       "            True                          -5.10                  -5.10  \n",
       "\n",
       "[6112 rows x 9 columns]"
      ]
     },
     "execution_count": 56,
     "metadata": {},
     "output_type": "execute_result"
    }
   ],
   "source": [
    "df_cust_canc"
   ]
  },
  {
   "cell_type": "code",
   "execution_count": 57,
   "id": "under-coral",
   "metadata": {},
   "outputs": [
    {
     "ename": "AttributeError",
     "evalue": "'DataFrame' object has no attribute 'to_flat_index'",
     "output_type": "error",
     "traceback": [
      "\u001b[0;31m---------------------------------------------------------------------------\u001b[0m",
      "\u001b[0;31mAttributeError\u001b[0m                            Traceback (most recent call last)",
      "\u001b[0;32m<ipython-input-57-2d64cc93fd82>\u001b[0m in \u001b[0;36m<module>\u001b[0;34m\u001b[0m\n\u001b[0;32m----> 1\u001b[0;31m \u001b[0mdf_cust_canc\u001b[0m\u001b[0;34m.\u001b[0m\u001b[0mto_flat_index\u001b[0m\u001b[0;34m(\u001b[0m\u001b[0;34m)\u001b[0m\u001b[0;34m\u001b[0m\u001b[0;34m\u001b[0m\u001b[0m\n\u001b[0m",
      "\u001b[0;32m~/testenv/lib/python3.9/site-packages/pandas/core/generic.py\u001b[0m in \u001b[0;36m__getattr__\u001b[0;34m(self, name)\u001b[0m\n\u001b[1;32m   5463\u001b[0m             \u001b[0;32mif\u001b[0m \u001b[0mself\u001b[0m\u001b[0;34m.\u001b[0m\u001b[0m_info_axis\u001b[0m\u001b[0;34m.\u001b[0m\u001b[0m_can_hold_identifiers_and_holds_name\u001b[0m\u001b[0;34m(\u001b[0m\u001b[0mname\u001b[0m\u001b[0;34m)\u001b[0m\u001b[0;34m:\u001b[0m\u001b[0;34m\u001b[0m\u001b[0;34m\u001b[0m\u001b[0m\n\u001b[1;32m   5464\u001b[0m                 \u001b[0;32mreturn\u001b[0m \u001b[0mself\u001b[0m\u001b[0;34m[\u001b[0m\u001b[0mname\u001b[0m\u001b[0;34m]\u001b[0m\u001b[0;34m\u001b[0m\u001b[0;34m\u001b[0m\u001b[0m\n\u001b[0;32m-> 5465\u001b[0;31m             \u001b[0;32mreturn\u001b[0m \u001b[0mobject\u001b[0m\u001b[0;34m.\u001b[0m\u001b[0m__getattribute__\u001b[0m\u001b[0;34m(\u001b[0m\u001b[0mself\u001b[0m\u001b[0;34m,\u001b[0m \u001b[0mname\u001b[0m\u001b[0;34m)\u001b[0m\u001b[0;34m\u001b[0m\u001b[0;34m\u001b[0m\u001b[0m\n\u001b[0m\u001b[1;32m   5466\u001b[0m \u001b[0;34m\u001b[0m\u001b[0m\n\u001b[1;32m   5467\u001b[0m     \u001b[0;32mdef\u001b[0m \u001b[0m__setattr__\u001b[0m\u001b[0;34m(\u001b[0m\u001b[0mself\u001b[0m\u001b[0;34m,\u001b[0m \u001b[0mname\u001b[0m\u001b[0;34m:\u001b[0m \u001b[0mstr\u001b[0m\u001b[0;34m,\u001b[0m \u001b[0mvalue\u001b[0m\u001b[0;34m)\u001b[0m \u001b[0;34m->\u001b[0m \u001b[0;32mNone\u001b[0m\u001b[0;34m:\u001b[0m\u001b[0;34m\u001b[0m\u001b[0;34m\u001b[0m\u001b[0m\n",
      "\u001b[0;31mAttributeError\u001b[0m: 'DataFrame' object has no attribute 'to_flat_index'"
     ]
    }
   ],
   "source": [
    "df_cust_canc.to_flat_index()"
   ]
  },
  {
   "cell_type": "code",
   "execution_count": 61,
   "id": "cardiac-dominant",
   "metadata": {},
   "outputs": [],
   "source": [
    "df_cust = pd.DataFrame(df[df['Cancellation']==True].groupby(['Customer ID']).Description.apply(list).apply(lambda l: max(set(l), key=l.count))).rename(columns={'Description': 'Canc Most Frequent Item'})\n",
    "\n",
    "tmp = pd.DataFrame(df[df['Cancellation']!=True].groupby(['Customer ID']).Description.apply(list).apply(lambda l: max(set(l), key=l.count))).rename(columns={'Description': 'Non-canc Most Frequent Item'})\n",
    "df_cust = pd.concat([df_cust, tmp], axis=1)\n",
    "\n",
    "tmp = df[df['Cancellation']==True].groupby(['Customer ID']).Quantity.\\\n",
    "agg(['sum', 'mean', 'min', 'max']).\\\n",
    "rename(columns={'sum': 'Canc Quantity Sum', 'mean': 'Canc Quantity Mean', 'min': 'Canc Quantity Min', 'max': 'Canc Quantity Max'})\n",
    "df_cust = pd.concat([df_cust, tmp], axis=1)\n"
   ]
  },
  {
   "cell_type": "code",
   "execution_count": 62,
   "id": "retired-chaos",
   "metadata": {},
   "outputs": [
    {
     "data": {
      "text/html": [
       "<div>\n",
       "<style scoped>\n",
       "    .dataframe tbody tr th:only-of-type {\n",
       "        vertical-align: middle;\n",
       "    }\n",
       "\n",
       "    .dataframe tbody tr th {\n",
       "        vertical-align: top;\n",
       "    }\n",
       "\n",
       "    .dataframe thead th {\n",
       "        text-align: right;\n",
       "    }\n",
       "</style>\n",
       "<table border=\"1\" class=\"dataframe\">\n",
       "  <thead>\n",
       "    <tr style=\"text-align: right;\">\n",
       "      <th></th>\n",
       "      <th>Canc Most Frequent Item</th>\n",
       "      <th>Non-canc Most Frequent Item</th>\n",
       "      <th>Canc Quantity Sum</th>\n",
       "      <th>Canc Quantity Mean</th>\n",
       "      <th>Canc Quantity Min</th>\n",
       "      <th>Canc Quantity Max</th>\n",
       "    </tr>\n",
       "    <tr>\n",
       "      <th>Customer ID</th>\n",
       "      <th></th>\n",
       "      <th></th>\n",
       "      <th></th>\n",
       "      <th></th>\n",
       "      <th></th>\n",
       "      <th></th>\n",
       "    </tr>\n",
       "  </thead>\n",
       "  <tbody>\n",
       "    <tr>\n",
       "      <th>12346.0</th>\n",
       "      <td>Manual</td>\n",
       "      <td>This is a test product.</td>\n",
       "      <td>-17.0</td>\n",
       "      <td>-1.416667</td>\n",
       "      <td>-4.0</td>\n",
       "      <td>-1.0</td>\n",
       "    </tr>\n",
       "    <tr>\n",
       "      <th>12347.0</th>\n",
       "      <td>NaN</td>\n",
       "      <td>3D DOG PICTURE PLAYING CARDS</td>\n",
       "      <td>NaN</td>\n",
       "      <td>NaN</td>\n",
       "      <td>NaN</td>\n",
       "      <td>NaN</td>\n",
       "    </tr>\n",
       "    <tr>\n",
       "      <th>12348.0</th>\n",
       "      <td>NaN</td>\n",
       "      <td>PACK OF 72 SKULL CAKE CASES</td>\n",
       "      <td>NaN</td>\n",
       "      <td>NaN</td>\n",
       "      <td>NaN</td>\n",
       "      <td>NaN</td>\n",
       "    </tr>\n",
       "    <tr>\n",
       "      <th>12349.0</th>\n",
       "      <td>SET/5 RED SPOTTY LID GLASS BOWLS</td>\n",
       "      <td>LOVE HEART SOCK HANGER</td>\n",
       "      <td>-5.0</td>\n",
       "      <td>-1.000000</td>\n",
       "      <td>-1.0</td>\n",
       "      <td>-1.0</td>\n",
       "    </tr>\n",
       "    <tr>\n",
       "      <th>12351.0</th>\n",
       "      <td>NaN</td>\n",
       "      <td>WRAP MONSTER FUN</td>\n",
       "      <td>NaN</td>\n",
       "      <td>NaN</td>\n",
       "      <td>NaN</td>\n",
       "      <td>NaN</td>\n",
       "    </tr>\n",
       "    <tr>\n",
       "      <th>...</th>\n",
       "      <td>...</td>\n",
       "      <td>...</td>\n",
       "      <td>...</td>\n",
       "      <td>...</td>\n",
       "      <td>...</td>\n",
       "      <td>...</td>\n",
       "    </tr>\n",
       "    <tr>\n",
       "      <th>18283.0</th>\n",
       "      <td>NaN</td>\n",
       "      <td>GIN + TONIC DIET METAL SIGN</td>\n",
       "      <td>NaN</td>\n",
       "      <td>NaN</td>\n",
       "      <td>NaN</td>\n",
       "      <td>NaN</td>\n",
       "    </tr>\n",
       "    <tr>\n",
       "      <th>18284.0</th>\n",
       "      <td>CARRIAGE</td>\n",
       "      <td>RIBBONS PURSE</td>\n",
       "      <td>-1.0</td>\n",
       "      <td>-1.000000</td>\n",
       "      <td>-1.0</td>\n",
       "      <td>-1.0</td>\n",
       "    </tr>\n",
       "    <tr>\n",
       "      <th>18285.0</th>\n",
       "      <td>NaN</td>\n",
       "      <td>GLASS CAKE STAND MIRRORED BASE</td>\n",
       "      <td>NaN</td>\n",
       "      <td>NaN</td>\n",
       "      <td>NaN</td>\n",
       "      <td>NaN</td>\n",
       "    </tr>\n",
       "    <tr>\n",
       "      <th>18286.0</th>\n",
       "      <td>GOLD  CHERRY LIGHTS</td>\n",
       "      <td>DOORMAT FANCY FONT HOME SWEET HOME</td>\n",
       "      <td>-16.0</td>\n",
       "      <td>-5.333333</td>\n",
       "      <td>-8.0</td>\n",
       "      <td>-4.0</td>\n",
       "    </tr>\n",
       "    <tr>\n",
       "      <th>18287.0</th>\n",
       "      <td>COFFEE MUG CAT + BIRD DESIGN</td>\n",
       "      <td>SCOTTIE DOG HOT WATER BOTTLE</td>\n",
       "      <td>-2.0</td>\n",
       "      <td>-2.000000</td>\n",
       "      <td>-2.0</td>\n",
       "      <td>-2.0</td>\n",
       "    </tr>\n",
       "  </tbody>\n",
       "</table>\n",
       "<p>4383 rows × 6 columns</p>\n",
       "</div>"
      ],
      "text/plain": [
       "                      Canc Most Frequent Item  \\\n",
       "Customer ID                                     \n",
       "12346.0                                Manual   \n",
       "12347.0                                   NaN   \n",
       "12348.0                                   NaN   \n",
       "12349.0      SET/5 RED SPOTTY LID GLASS BOWLS   \n",
       "12351.0                                   NaN   \n",
       "...                                       ...   \n",
       "18283.0                                   NaN   \n",
       "18284.0                              CARRIAGE   \n",
       "18285.0                                   NaN   \n",
       "18286.0                   GOLD  CHERRY LIGHTS   \n",
       "18287.0          COFFEE MUG CAT + BIRD DESIGN   \n",
       "\n",
       "                    Non-canc Most Frequent Item  Canc Quantity Sum  \\\n",
       "Customer ID                                                          \n",
       "12346.0                 This is a test product.              -17.0   \n",
       "12347.0            3D DOG PICTURE PLAYING CARDS                NaN   \n",
       "12348.0             PACK OF 72 SKULL CAKE CASES                NaN   \n",
       "12349.0                  LOVE HEART SOCK HANGER               -5.0   \n",
       "12351.0                       WRAP MONSTER FUN                 NaN   \n",
       "...                                         ...                ...   \n",
       "18283.0             GIN + TONIC DIET METAL SIGN                NaN   \n",
       "18284.0                          RIBBONS PURSE                -1.0   \n",
       "18285.0          GLASS CAKE STAND MIRRORED BASE                NaN   \n",
       "18286.0      DOORMAT FANCY FONT HOME SWEET HOME              -16.0   \n",
       "18287.0            SCOTTIE DOG HOT WATER BOTTLE               -2.0   \n",
       "\n",
       "             Canc Quantity Mean  Canc Quantity Min  Canc Quantity Max  \n",
       "Customer ID                                                            \n",
       "12346.0               -1.416667               -4.0               -1.0  \n",
       "12347.0                     NaN                NaN                NaN  \n",
       "12348.0                     NaN                NaN                NaN  \n",
       "12349.0               -1.000000               -1.0               -1.0  \n",
       "12351.0                     NaN                NaN                NaN  \n",
       "...                         ...                ...                ...  \n",
       "18283.0                     NaN                NaN                NaN  \n",
       "18284.0               -1.000000               -1.0               -1.0  \n",
       "18285.0                     NaN                NaN                NaN  \n",
       "18286.0               -5.333333               -8.0               -4.0  \n",
       "18287.0               -2.000000               -2.0               -2.0  \n",
       "\n",
       "[4383 rows x 6 columns]"
      ]
     },
     "execution_count": 62,
     "metadata": {},
     "output_type": "execute_result"
    }
   ],
   "source": [
    "df_cust"
   ]
  },
  {
   "cell_type": "code",
   "execution_count": 60,
   "id": "smoking-eclipse",
   "metadata": {},
   "outputs": [
    {
     "data": {
      "text/html": [
       "<div>\n",
       "<style scoped>\n",
       "    .dataframe tbody tr th:only-of-type {\n",
       "        vertical-align: middle;\n",
       "    }\n",
       "\n",
       "    .dataframe tbody tr th {\n",
       "        vertical-align: top;\n",
       "    }\n",
       "\n",
       "    .dataframe thead th {\n",
       "        text-align: right;\n",
       "    }\n",
       "</style>\n",
       "<table border=\"1\" class=\"dataframe\">\n",
       "  <thead>\n",
       "    <tr style=\"text-align: right;\">\n",
       "      <th></th>\n",
       "      <th>Non-canc Most Frequent Item</th>\n",
       "    </tr>\n",
       "    <tr>\n",
       "      <th>Customer ID</th>\n",
       "      <th></th>\n",
       "    </tr>\n",
       "  </thead>\n",
       "  <tbody>\n",
       "    <tr>\n",
       "      <th>12346.0</th>\n",
       "      <td>This is a test product.</td>\n",
       "    </tr>\n",
       "    <tr>\n",
       "      <th>12347.0</th>\n",
       "      <td>3D DOG PICTURE PLAYING CARDS</td>\n",
       "    </tr>\n",
       "    <tr>\n",
       "      <th>12348.0</th>\n",
       "      <td>PACK OF 72 SKULL CAKE CASES</td>\n",
       "    </tr>\n",
       "    <tr>\n",
       "      <th>12349.0</th>\n",
       "      <td>LOVE HEART SOCK HANGER</td>\n",
       "    </tr>\n",
       "    <tr>\n",
       "      <th>12351.0</th>\n",
       "      <td>WRAP MONSTER FUN</td>\n",
       "    </tr>\n",
       "    <tr>\n",
       "      <th>...</th>\n",
       "      <td>...</td>\n",
       "    </tr>\n",
       "    <tr>\n",
       "      <th>18283.0</th>\n",
       "      <td>GIN + TONIC DIET METAL SIGN</td>\n",
       "    </tr>\n",
       "    <tr>\n",
       "      <th>18284.0</th>\n",
       "      <td>RIBBONS PURSE</td>\n",
       "    </tr>\n",
       "    <tr>\n",
       "      <th>18285.0</th>\n",
       "      <td>GLASS CAKE STAND MIRRORED BASE</td>\n",
       "    </tr>\n",
       "    <tr>\n",
       "      <th>18286.0</th>\n",
       "      <td>DOORMAT FANCY FONT HOME SWEET HOME</td>\n",
       "    </tr>\n",
       "    <tr>\n",
       "      <th>18287.0</th>\n",
       "      <td>SCOTTIE DOG HOT WATER BOTTLE</td>\n",
       "    </tr>\n",
       "  </tbody>\n",
       "</table>\n",
       "<p>4314 rows × 1 columns</p>\n",
       "</div>"
      ],
      "text/plain": [
       "                    Non-canc Most Frequent Item\n",
       "Customer ID                                    \n",
       "12346.0                 This is a test product.\n",
       "12347.0            3D DOG PICTURE PLAYING CARDS\n",
       "12348.0             PACK OF 72 SKULL CAKE CASES\n",
       "12349.0                  LOVE HEART SOCK HANGER\n",
       "12351.0                       WRAP MONSTER FUN \n",
       "...                                         ...\n",
       "18283.0             GIN + TONIC DIET METAL SIGN\n",
       "18284.0                          RIBBONS PURSE \n",
       "18285.0          GLASS CAKE STAND MIRRORED BASE\n",
       "18286.0      DOORMAT FANCY FONT HOME SWEET HOME\n",
       "18287.0            SCOTTIE DOG HOT WATER BOTTLE\n",
       "\n",
       "[4314 rows x 1 columns]"
      ]
     },
     "execution_count": 60,
     "metadata": {},
     "output_type": "execute_result"
    }
   ],
   "source": [
    "pd.DataFrame(df[df['Cancellation']==False].groupby(['Customer ID']).Description.apply(list).apply(lambda l: max(set(l), key=l.count))).rename(columns={'Description': 'Non-canc Most Frequent Item'})\n"
   ]
  },
  {
   "cell_type": "code",
   "execution_count": null,
   "id": "beginning-reservation",
   "metadata": {},
   "outputs": [],
   "source": []
  }
 ],
 "metadata": {
  "kernelspec": {
   "display_name": "Python 3",
   "language": "python",
   "name": "python3"
  },
  "language_info": {
   "codemirror_mode": {
    "name": "ipython",
    "version": 3
   },
   "file_extension": ".py",
   "mimetype": "text/x-python",
   "name": "python",
   "nbconvert_exporter": "python",
   "pygments_lexer": "ipython3",
   "version": "3.9.2"
  }
 },
 "nbformat": 4,
 "nbformat_minor": 5
}
